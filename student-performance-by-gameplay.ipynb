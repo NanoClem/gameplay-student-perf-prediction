{
 "cells": [
  {
   "cell_type": "markdown",
   "id": "7dbf3493",
   "metadata": {
    "papermill": {
     "duration": 0.002808,
     "end_time": "2023-03-25T11:35:28.066701",
     "exception": false,
     "start_time": "2023-03-25T11:35:28.063893",
     "status": "completed"
    },
    "tags": []
   },
   "source": [
    "# Student performance by gameplay EDA"
   ]
  },
  {
   "cell_type": "code",
   "execution_count": 1,
   "id": "1b4d9f32",
   "metadata": {
    "execution": {
     "iopub.execute_input": "2023-03-25T11:35:28.073249Z",
     "iopub.status.busy": "2023-03-25T11:35:28.072357Z",
     "iopub.status.idle": "2023-03-25T11:35:31.184753Z",
     "shell.execute_reply": "2023-03-25T11:35:31.183786Z"
    },
    "papermill": {
     "duration": 3.119129,
     "end_time": "2023-03-25T11:35:31.187980",
     "exception": false,
     "start_time": "2023-03-25T11:35:28.068851",
     "status": "completed"
    },
    "tags": []
   },
   "outputs": [],
   "source": [
    "import numpy as np\n",
    "import pandas as pd\n",
    "\n",
    "import matplotlib.pyplot as plt\n",
    "import seaborn as sns\n",
    "import plotly_express as px"
   ]
  },
  {
   "cell_type": "markdown",
   "id": "4bdc87be",
   "metadata": {
    "papermill": {
     "duration": 0.00176,
     "end_time": "2023-03-25T11:35:31.191789",
     "exception": false,
     "start_time": "2023-03-25T11:35:31.190029",
     "status": "completed"
    },
    "tags": []
   },
   "source": [
    "## Read datasets"
   ]
  }
 ],
 "metadata": {
  "kernelspec": {
   "display_name": "Python 3",
   "language": "python",
   "name": "python3"
  },
  "language_info": {
   "codemirror_mode": {
    "name": "ipython",
    "version": 3
   },
   "file_extension": ".py",
   "mimetype": "text/x-python",
   "name": "python",
   "nbconvert_exporter": "python",
   "pygments_lexer": "ipython3",
   "version": "3.7.12"
  },
  "papermill": {
   "default_parameters": {},
   "duration": 15.309301,
   "end_time": "2023-03-25T11:35:32.319308",
   "environment_variables": {},
   "exception": null,
   "input_path": "__notebook__.ipynb",
   "output_path": "__notebook__.ipynb",
   "parameters": {},
   "start_time": "2023-03-25T11:35:17.010007",
   "version": "2.4.0"
  }
 },
 "nbformat": 4,
 "nbformat_minor": 5
}
