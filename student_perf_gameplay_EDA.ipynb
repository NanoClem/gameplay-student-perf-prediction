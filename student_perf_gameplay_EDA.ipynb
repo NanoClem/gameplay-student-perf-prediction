{
 "cells": [
  {
   "attachments": {},
   "cell_type": "markdown",
   "metadata": {},
   "source": [
    "# Student performance by gameplay EDA"
   ]
  },
  {
   "cell_type": "code",
   "execution_count": 1,
   "metadata": {},
   "outputs": [],
   "source": [
    "import numpy as np\n",
    "import pandas as pd\n",
    "\n",
    "import matplotlib.pyplot as plt\n",
    "import seaborn as sns\n",
    "import plotly_express as px\n",
    "from plotly.subplots import make_subplots\n",
    "\n",
    "sns.set_style(\"darkgrid\")\n",
    "sns.set_palette(\"colorblind\")\n",
    "%load_ext lab_black"
   ]
  },
  {
   "attachments": {},
   "cell_type": "markdown",
   "metadata": {},
   "source": [
    "## Import datasets"
   ]
  },
  {
   "attachments": {},
   "cell_type": "markdown",
   "metadata": {},
   "source": [
    "### Train dataset\n",
    "Let's do a bit of memory optimization"
   ]
  },
  {
   "cell_type": "code",
   "execution_count": 2,
   "metadata": {},
   "outputs": [],
   "source": [
    "dtypes = {\n",
    "    \"session_id\": \"int64\",\n",
    "    \"index\": np.int16,\n",
    "    \"elapsed_time\": np.int32,\n",
    "    \"event_name\": \"category\",\n",
    "    \"name\": \"category\",\n",
    "    \"level\": np.int8,\n",
    "    \"page\": np.float32,\n",
    "    \"room_coor_x\": np.float32,\n",
    "    \"room_coor_y\": np.float32,\n",
    "    \"screen_coor_x\": np.float32,\n",
    "    \"screen_coor_y\": np.float32,\n",
    "    \"hover_duration\": np.float32,\n",
    "    \"text\": \"category\",\n",
    "    \"fqid\": \"category\",\n",
    "    \"room_fqid\": \"category\",\n",
    "    \"text_fqid\": \"category\",\n",
    "    \"fullscreen\": np.int8,\n",
    "    \"hq\": np.int8,\n",
    "    \"music\": np.int8,\n",
    "    \"level_group\": \"category\",\n",
    "}\n",
    "\n",
    "use_col = [\n",
    "    \"session_id\",\n",
    "    \"index\",\n",
    "    \"level_group\",\n",
    "    \"level\",\n",
    "    \"name\",\n",
    "    \"event_name\",\n",
    "    \"elapsed_time\",\n",
    "    \"page\",\n",
    "    \"hover_duration\",\n",
    "    \"room_coor_x\",\n",
    "    \"room_coor_y\",\n",
    "    \"screen_coor_x\",\n",
    "    \"screen_coor_y\",\n",
    "    \"fullscreen\",\n",
    "    \"music\",\n",
    "    \"hq\",\n",
    "]"
   ]
  },
  {
   "cell_type": "code",
   "execution_count": 3,
   "metadata": {},
   "outputs": [
    {
     "data": {
      "text/plain": [
       "(1000000, 16)"
      ]
     },
     "execution_count": 3,
     "metadata": {},
     "output_type": "execute_result"
    }
   ],
   "source": [
    "n = 1_000_000\n",
    "df_train = pd.read_csv(\"data/train.csv\", dtype=dtypes, usecols=use_col, nrows=n)\n",
    "df_train.shape"
   ]
  },
  {
   "cell_type": "code",
   "execution_count": 4,
   "metadata": {},
   "outputs": [
    {
     "data": {
      "text/html": [
       "<div>\n",
       "<style scoped>\n",
       "    .dataframe tbody tr th:only-of-type {\n",
       "        vertical-align: middle;\n",
       "    }\n",
       "\n",
       "    .dataframe tbody tr th {\n",
       "        vertical-align: top;\n",
       "    }\n",
       "\n",
       "    .dataframe thead th {\n",
       "        text-align: right;\n",
       "    }\n",
       "</style>\n",
       "<table border=\"1\" class=\"dataframe\">\n",
       "  <thead>\n",
       "    <tr style=\"text-align: right;\">\n",
       "      <th></th>\n",
       "      <th>session_id</th>\n",
       "      <th>index</th>\n",
       "      <th>elapsed_time</th>\n",
       "      <th>event_name</th>\n",
       "      <th>name</th>\n",
       "      <th>level</th>\n",
       "      <th>page</th>\n",
       "      <th>room_coor_x</th>\n",
       "      <th>room_coor_y</th>\n",
       "      <th>screen_coor_x</th>\n",
       "      <th>screen_coor_y</th>\n",
       "      <th>hover_duration</th>\n",
       "      <th>fullscreen</th>\n",
       "      <th>hq</th>\n",
       "      <th>music</th>\n",
       "      <th>level_group</th>\n",
       "    </tr>\n",
       "  </thead>\n",
       "  <tbody>\n",
       "    <tr>\n",
       "      <th>0</th>\n",
       "      <td>20090312431273200</td>\n",
       "      <td>0</td>\n",
       "      <td>0</td>\n",
       "      <td>cutscene_click</td>\n",
       "      <td>basic</td>\n",
       "      <td>0</td>\n",
       "      <td>NaN</td>\n",
       "      <td>-413.991394</td>\n",
       "      <td>-159.314682</td>\n",
       "      <td>380.0</td>\n",
       "      <td>494.0</td>\n",
       "      <td>NaN</td>\n",
       "      <td>0</td>\n",
       "      <td>0</td>\n",
       "      <td>1</td>\n",
       "      <td>0-4</td>\n",
       "    </tr>\n",
       "    <tr>\n",
       "      <th>1</th>\n",
       "      <td>20090312431273200</td>\n",
       "      <td>1</td>\n",
       "      <td>1323</td>\n",
       "      <td>person_click</td>\n",
       "      <td>basic</td>\n",
       "      <td>0</td>\n",
       "      <td>NaN</td>\n",
       "      <td>-413.991394</td>\n",
       "      <td>-159.314682</td>\n",
       "      <td>380.0</td>\n",
       "      <td>494.0</td>\n",
       "      <td>NaN</td>\n",
       "      <td>0</td>\n",
       "      <td>0</td>\n",
       "      <td>1</td>\n",
       "      <td>0-4</td>\n",
       "    </tr>\n",
       "    <tr>\n",
       "      <th>2</th>\n",
       "      <td>20090312431273200</td>\n",
       "      <td>2</td>\n",
       "      <td>831</td>\n",
       "      <td>person_click</td>\n",
       "      <td>basic</td>\n",
       "      <td>0</td>\n",
       "      <td>NaN</td>\n",
       "      <td>-413.991394</td>\n",
       "      <td>-159.314682</td>\n",
       "      <td>380.0</td>\n",
       "      <td>494.0</td>\n",
       "      <td>NaN</td>\n",
       "      <td>0</td>\n",
       "      <td>0</td>\n",
       "      <td>1</td>\n",
       "      <td>0-4</td>\n",
       "    </tr>\n",
       "    <tr>\n",
       "      <th>3</th>\n",
       "      <td>20090312431273200</td>\n",
       "      <td>3</td>\n",
       "      <td>1147</td>\n",
       "      <td>person_click</td>\n",
       "      <td>basic</td>\n",
       "      <td>0</td>\n",
       "      <td>NaN</td>\n",
       "      <td>-413.991394</td>\n",
       "      <td>-159.314682</td>\n",
       "      <td>380.0</td>\n",
       "      <td>494.0</td>\n",
       "      <td>NaN</td>\n",
       "      <td>0</td>\n",
       "      <td>0</td>\n",
       "      <td>1</td>\n",
       "      <td>0-4</td>\n",
       "    </tr>\n",
       "    <tr>\n",
       "      <th>4</th>\n",
       "      <td>20090312431273200</td>\n",
       "      <td>4</td>\n",
       "      <td>1863</td>\n",
       "      <td>person_click</td>\n",
       "      <td>basic</td>\n",
       "      <td>0</td>\n",
       "      <td>NaN</td>\n",
       "      <td>-412.991394</td>\n",
       "      <td>-159.314682</td>\n",
       "      <td>381.0</td>\n",
       "      <td>494.0</td>\n",
       "      <td>NaN</td>\n",
       "      <td>0</td>\n",
       "      <td>0</td>\n",
       "      <td>1</td>\n",
       "      <td>0-4</td>\n",
       "    </tr>\n",
       "  </tbody>\n",
       "</table>\n",
       "</div>"
      ],
      "text/plain": [
       "          session_id  index  elapsed_time      event_name   name  level  page   \n",
       "0  20090312431273200      0             0  cutscene_click  basic      0   NaN  \\\n",
       "1  20090312431273200      1          1323    person_click  basic      0   NaN   \n",
       "2  20090312431273200      2           831    person_click  basic      0   NaN   \n",
       "3  20090312431273200      3          1147    person_click  basic      0   NaN   \n",
       "4  20090312431273200      4          1863    person_click  basic      0   NaN   \n",
       "\n",
       "   room_coor_x  room_coor_y  screen_coor_x  screen_coor_y  hover_duration   \n",
       "0  -413.991394  -159.314682          380.0          494.0             NaN  \\\n",
       "1  -413.991394  -159.314682          380.0          494.0             NaN   \n",
       "2  -413.991394  -159.314682          380.0          494.0             NaN   \n",
       "3  -413.991394  -159.314682          380.0          494.0             NaN   \n",
       "4  -412.991394  -159.314682          381.0          494.0             NaN   \n",
       "\n",
       "   fullscreen  hq  music level_group  \n",
       "0           0   0      1         0-4  \n",
       "1           0   0      1         0-4  \n",
       "2           0   0      1         0-4  \n",
       "3           0   0      1         0-4  \n",
       "4           0   0      1         0-4  "
      ]
     },
     "execution_count": 4,
     "metadata": {},
     "output_type": "execute_result"
    }
   ],
   "source": [
    "df_train.head()"
   ]
  },
  {
   "cell_type": "code",
   "execution_count": 5,
   "metadata": {},
   "outputs": [
    {
     "data": {
      "text/html": [
       "<div>\n",
       "<style scoped>\n",
       "    .dataframe tbody tr th:only-of-type {\n",
       "        vertical-align: middle;\n",
       "    }\n",
       "\n",
       "    .dataframe tbody tr th {\n",
       "        vertical-align: top;\n",
       "    }\n",
       "\n",
       "    .dataframe thead th {\n",
       "        text-align: right;\n",
       "    }\n",
       "</style>\n",
       "<table border=\"1\" class=\"dataframe\">\n",
       "  <thead>\n",
       "    <tr style=\"text-align: right;\">\n",
       "      <th></th>\n",
       "      <th>session_id</th>\n",
       "      <th>index</th>\n",
       "      <th>elapsed_time</th>\n",
       "      <th>event_name</th>\n",
       "      <th>name</th>\n",
       "      <th>level</th>\n",
       "      <th>page</th>\n",
       "      <th>room_coor_x</th>\n",
       "      <th>room_coor_y</th>\n",
       "      <th>screen_coor_x</th>\n",
       "      <th>screen_coor_y</th>\n",
       "      <th>hover_duration</th>\n",
       "      <th>fullscreen</th>\n",
       "      <th>hq</th>\n",
       "      <th>music</th>\n",
       "      <th>level_group</th>\n",
       "    </tr>\n",
       "  </thead>\n",
       "  <tbody>\n",
       "    <tr>\n",
       "      <th>999995</th>\n",
       "      <td>20100412013046310</td>\n",
       "      <td>34</td>\n",
       "      <td>71714</td>\n",
       "      <td>navigate_click</td>\n",
       "      <td>undefined</td>\n",
       "      <td>1</td>\n",
       "      <td>NaN</td>\n",
       "      <td>-152.871033</td>\n",
       "      <td>-27.634195</td>\n",
       "      <td>302.0</td>\n",
       "      <td>339.0</td>\n",
       "      <td>NaN</td>\n",
       "      <td>0</td>\n",
       "      <td>0</td>\n",
       "      <td>1</td>\n",
       "      <td>0-4</td>\n",
       "    </tr>\n",
       "    <tr>\n",
       "      <th>999996</th>\n",
       "      <td>20100412013046310</td>\n",
       "      <td>35</td>\n",
       "      <td>74735</td>\n",
       "      <td>observation_click</td>\n",
       "      <td>basic</td>\n",
       "      <td>1</td>\n",
       "      <td>NaN</td>\n",
       "      <td>-380.226501</td>\n",
       "      <td>-129.856415</td>\n",
       "      <td>200.0</td>\n",
       "      <td>412.0</td>\n",
       "      <td>NaN</td>\n",
       "      <td>0</td>\n",
       "      <td>0</td>\n",
       "      <td>1</td>\n",
       "      <td>0-4</td>\n",
       "    </tr>\n",
       "    <tr>\n",
       "      <th>999997</th>\n",
       "      <td>20100412013046310</td>\n",
       "      <td>36</td>\n",
       "      <td>74974</td>\n",
       "      <td>navigate_click</td>\n",
       "      <td>undefined</td>\n",
       "      <td>1</td>\n",
       "      <td>NaN</td>\n",
       "      <td>-581.965454</td>\n",
       "      <td>-229.278030</td>\n",
       "      <td>57.0</td>\n",
       "      <td>483.0</td>\n",
       "      <td>NaN</td>\n",
       "      <td>0</td>\n",
       "      <td>0</td>\n",
       "      <td>1</td>\n",
       "      <td>0-4</td>\n",
       "    </tr>\n",
       "    <tr>\n",
       "      <th>999998</th>\n",
       "      <td>20100412013046310</td>\n",
       "      <td>37</td>\n",
       "      <td>78427</td>\n",
       "      <td>navigate_click</td>\n",
       "      <td>undefined</td>\n",
       "      <td>1</td>\n",
       "      <td>NaN</td>\n",
       "      <td>326.855377</td>\n",
       "      <td>55.812569</td>\n",
       "      <td>423.0</td>\n",
       "      <td>294.0</td>\n",
       "      <td>NaN</td>\n",
       "      <td>0</td>\n",
       "      <td>0</td>\n",
       "      <td>1</td>\n",
       "      <td>0-4</td>\n",
       "    </tr>\n",
       "    <tr>\n",
       "      <th>999999</th>\n",
       "      <td>20100412013046310</td>\n",
       "      <td>38</td>\n",
       "      <td>83131</td>\n",
       "      <td>cutscene_click</td>\n",
       "      <td>basic</td>\n",
       "      <td>1</td>\n",
       "      <td>NaN</td>\n",
       "      <td>569.743835</td>\n",
       "      <td>33.243198</td>\n",
       "      <td>660.0</td>\n",
       "      <td>312.0</td>\n",
       "      <td>NaN</td>\n",
       "      <td>0</td>\n",
       "      <td>0</td>\n",
       "      <td>1</td>\n",
       "      <td>0-4</td>\n",
       "    </tr>\n",
       "  </tbody>\n",
       "</table>\n",
       "</div>"
      ],
      "text/plain": [
       "               session_id  index  elapsed_time         event_name       name   \n",
       "999995  20100412013046310     34         71714     navigate_click  undefined  \\\n",
       "999996  20100412013046310     35         74735  observation_click      basic   \n",
       "999997  20100412013046310     36         74974     navigate_click  undefined   \n",
       "999998  20100412013046310     37         78427     navigate_click  undefined   \n",
       "999999  20100412013046310     38         83131     cutscene_click      basic   \n",
       "\n",
       "        level  page  room_coor_x  room_coor_y  screen_coor_x  screen_coor_y   \n",
       "999995      1   NaN  -152.871033   -27.634195          302.0          339.0  \\\n",
       "999996      1   NaN  -380.226501  -129.856415          200.0          412.0   \n",
       "999997      1   NaN  -581.965454  -229.278030           57.0          483.0   \n",
       "999998      1   NaN   326.855377    55.812569          423.0          294.0   \n",
       "999999      1   NaN   569.743835    33.243198          660.0          312.0   \n",
       "\n",
       "        hover_duration  fullscreen  hq  music level_group  \n",
       "999995             NaN           0   0      1         0-4  \n",
       "999996             NaN           0   0      1         0-4  \n",
       "999997             NaN           0   0      1         0-4  \n",
       "999998             NaN           0   0      1         0-4  \n",
       "999999             NaN           0   0      1         0-4  "
      ]
     },
     "execution_count": 5,
     "metadata": {},
     "output_type": "execute_result"
    }
   ],
   "source": [
    "df_train.tail()"
   ]
  },
  {
   "cell_type": "code",
   "execution_count": 6,
   "metadata": {},
   "outputs": [
    {
     "name": "stdout",
     "output_type": "stream",
     "text": [
      "<class 'pandas.core.frame.DataFrame'>\n",
      "RangeIndex: 1000000 entries, 0 to 999999\n",
      "Data columns (total 16 columns):\n",
      " #   Column          Non-Null Count    Dtype   \n",
      "---  ------          --------------    -----   \n",
      " 0   session_id      1000000 non-null  int64   \n",
      " 1   index           1000000 non-null  int16   \n",
      " 2   elapsed_time    1000000 non-null  int32   \n",
      " 3   event_name      1000000 non-null  category\n",
      " 4   name            1000000 non-null  category\n",
      " 5   level           1000000 non-null  int8    \n",
      " 6   page            20577 non-null    float32 \n",
      " 7   room_coor_x     913257 non-null   float32 \n",
      " 8   room_coor_y     913257 non-null   float32 \n",
      " 9   screen_coor_x   913257 non-null   float32 \n",
      " 10  screen_coor_y   913257 non-null   float32 \n",
      " 11  hover_duration  84070 non-null    float32 \n",
      " 12  fullscreen      1000000 non-null  int8    \n",
      " 13  hq              1000000 non-null  int8    \n",
      " 14  music           1000000 non-null  int8    \n",
      " 15  level_group     1000000 non-null  category\n",
      "dtypes: category(3), float32(6), int16(1), int32(1), int64(1), int8(4)\n",
      "memory usage: 42.9 MB\n"
     ]
    }
   ],
   "source": [
    "df_train.info()"
   ]
  },
  {
   "attachments": {},
   "cell_type": "markdown",
   "metadata": {},
   "source": [
    "### Train labels dataset"
   ]
  },
  {
   "cell_type": "code",
   "execution_count": 7,
   "metadata": {},
   "outputs": [
    {
     "name": "stdout",
     "output_type": "stream",
     "text": [
      "23562 players in total\n"
     ]
    },
    {
     "data": {
      "text/html": [
       "<div>\n",
       "<style scoped>\n",
       "    .dataframe tbody tr th:only-of-type {\n",
       "        vertical-align: middle;\n",
       "    }\n",
       "\n",
       "    .dataframe tbody tr th {\n",
       "        vertical-align: top;\n",
       "    }\n",
       "\n",
       "    .dataframe thead th {\n",
       "        text-align: right;\n",
       "    }\n",
       "</style>\n",
       "<table border=\"1\" class=\"dataframe\">\n",
       "  <thead>\n",
       "    <tr style=\"text-align: right;\">\n",
       "      <th></th>\n",
       "      <th>session_id</th>\n",
       "      <th>correct</th>\n",
       "    </tr>\n",
       "  </thead>\n",
       "  <tbody>\n",
       "    <tr>\n",
       "      <th>0</th>\n",
       "      <td>20090312431273200_q1</td>\n",
       "      <td>1</td>\n",
       "    </tr>\n",
       "    <tr>\n",
       "      <th>1</th>\n",
       "      <td>20090312433251036_q1</td>\n",
       "      <td>0</td>\n",
       "    </tr>\n",
       "    <tr>\n",
       "      <th>2</th>\n",
       "      <td>20090312455206810_q1</td>\n",
       "      <td>1</td>\n",
       "    </tr>\n",
       "    <tr>\n",
       "      <th>3</th>\n",
       "      <td>20090313091715820_q1</td>\n",
       "      <td>0</td>\n",
       "    </tr>\n",
       "    <tr>\n",
       "      <th>4</th>\n",
       "      <td>20090313571836404_q1</td>\n",
       "      <td>1</td>\n",
       "    </tr>\n",
       "  </tbody>\n",
       "</table>\n",
       "</div>"
      ],
      "text/plain": [
       "             session_id  correct\n",
       "0  20090312431273200_q1        1\n",
       "1  20090312433251036_q1        0\n",
       "2  20090312455206810_q1        1\n",
       "3  20090313091715820_q1        0\n",
       "4  20090313571836404_q1        1"
      ]
     },
     "execution_count": 7,
     "metadata": {},
     "output_type": "execute_result"
    }
   ],
   "source": [
    "df_labels = pd.read_csv(\"data/train_labels.csv\")\n",
    "\n",
    "print(f\"{df_labels.shape[0] // 18} players in total\")\n",
    "df_labels.head()"
   ]
  },
  {
   "attachments": {},
   "cell_type": "markdown",
   "metadata": {},
   "source": [
    "Preparing data"
   ]
  },
  {
   "cell_type": "code",
   "execution_count": 8,
   "metadata": {},
   "outputs": [],
   "source": [
    "def clean_labels(df: pd.DataFrame) -> pd.DataFrame:\n",
    "    df_clean = df.copy()\n",
    "\n",
    "    # session number\n",
    "    df_clean[\"session\"] = df_clean[\"session_id\"].str.split(\"_\", expand=True)[0]\n",
    "    df_clean[\"session\"] = df_clean[\"session\"].astype(\"int64\")\n",
    "\n",
    "    # question number\n",
    "    df_clean[\"question\"] = df_clean[\"session_id\"].apply(lambda x: x[-1]).astype(np.int8)\n",
    "\n",
    "    return df_clean"
   ]
  },
  {
   "cell_type": "code",
   "execution_count": 9,
   "metadata": {},
   "outputs": [
    {
     "name": "stdout",
     "output_type": "stream",
     "text": [
      "<class 'pandas.core.frame.DataFrame'>\n",
      "RangeIndex: 424116 entries, 0 to 424115\n",
      "Data columns (total 4 columns):\n",
      " #   Column      Non-Null Count   Dtype \n",
      "---  ------      --------------   ----- \n",
      " 0   session_id  424116 non-null  object\n",
      " 1   correct     424116 non-null  int64 \n",
      " 2   session     424116 non-null  int64 \n",
      " 3   question    424116 non-null  int8  \n",
      "dtypes: int64(2), int8(1), object(1)\n",
      "memory usage: 10.1+ MB\n"
     ]
    },
    {
     "data": {
      "text/html": [
       "<div>\n",
       "<style scoped>\n",
       "    .dataframe tbody tr th:only-of-type {\n",
       "        vertical-align: middle;\n",
       "    }\n",
       "\n",
       "    .dataframe tbody tr th {\n",
       "        vertical-align: top;\n",
       "    }\n",
       "\n",
       "    .dataframe thead th {\n",
       "        text-align: right;\n",
       "    }\n",
       "</style>\n",
       "<table border=\"1\" class=\"dataframe\">\n",
       "  <thead>\n",
       "    <tr style=\"text-align: right;\">\n",
       "      <th></th>\n",
       "      <th>session_id</th>\n",
       "      <th>correct</th>\n",
       "      <th>session</th>\n",
       "      <th>question</th>\n",
       "    </tr>\n",
       "  </thead>\n",
       "  <tbody>\n",
       "    <tr>\n",
       "      <th>0</th>\n",
       "      <td>20090312431273200_q1</td>\n",
       "      <td>1</td>\n",
       "      <td>20090312431273200</td>\n",
       "      <td>1</td>\n",
       "    </tr>\n",
       "    <tr>\n",
       "      <th>1</th>\n",
       "      <td>20090312433251036_q1</td>\n",
       "      <td>0</td>\n",
       "      <td>20090312433251036</td>\n",
       "      <td>1</td>\n",
       "    </tr>\n",
       "    <tr>\n",
       "      <th>2</th>\n",
       "      <td>20090312455206810_q1</td>\n",
       "      <td>1</td>\n",
       "      <td>20090312455206810</td>\n",
       "      <td>1</td>\n",
       "    </tr>\n",
       "    <tr>\n",
       "      <th>3</th>\n",
       "      <td>20090313091715820_q1</td>\n",
       "      <td>0</td>\n",
       "      <td>20090313091715820</td>\n",
       "      <td>1</td>\n",
       "    </tr>\n",
       "    <tr>\n",
       "      <th>4</th>\n",
       "      <td>20090313571836404_q1</td>\n",
       "      <td>1</td>\n",
       "      <td>20090313571836404</td>\n",
       "      <td>1</td>\n",
       "    </tr>\n",
       "  </tbody>\n",
       "</table>\n",
       "</div>"
      ],
      "text/plain": [
       "             session_id  correct            session  question\n",
       "0  20090312431273200_q1        1  20090312431273200         1\n",
       "1  20090312433251036_q1        0  20090312433251036         1\n",
       "2  20090312455206810_q1        1  20090312455206810         1\n",
       "3  20090313091715820_q1        0  20090313091715820         1\n",
       "4  20090313571836404_q1        1  20090313571836404         1"
      ]
     },
     "execution_count": 9,
     "metadata": {},
     "output_type": "execute_result"
    }
   ],
   "source": [
    "df_labels = clean_labels(df_labels)\n",
    "df_labels.info()\n",
    "df_labels.head()"
   ]
  },
  {
   "attachments": {},
   "cell_type": "markdown",
   "metadata": {},
   "source": [
    "Score per player out of the 18 questions"
   ]
  },
  {
   "cell_type": "code",
   "execution_count": 10,
   "metadata": {},
   "outputs": [
    {
     "data": {
      "text/html": [
       "<div>\n",
       "<style scoped>\n",
       "    .dataframe tbody tr th:only-of-type {\n",
       "        vertical-align: middle;\n",
       "    }\n",
       "\n",
       "    .dataframe tbody tr th {\n",
       "        vertical-align: top;\n",
       "    }\n",
       "\n",
       "    .dataframe thead th {\n",
       "        text-align: right;\n",
       "    }\n",
       "</style>\n",
       "<table border=\"1\" class=\"dataframe\">\n",
       "  <thead>\n",
       "    <tr style=\"text-align: right;\">\n",
       "      <th></th>\n",
       "      <th>session</th>\n",
       "      <th>score</th>\n",
       "    </tr>\n",
       "  </thead>\n",
       "  <tbody>\n",
       "    <tr>\n",
       "      <th>0</th>\n",
       "      <td>20090312431273200</td>\n",
       "      <td>16</td>\n",
       "    </tr>\n",
       "    <tr>\n",
       "      <th>1</th>\n",
       "      <td>20090312433251036</td>\n",
       "      <td>10</td>\n",
       "    </tr>\n",
       "    <tr>\n",
       "      <th>2</th>\n",
       "      <td>20090312455206810</td>\n",
       "      <td>17</td>\n",
       "    </tr>\n",
       "    <tr>\n",
       "      <th>3</th>\n",
       "      <td>20090313091715820</td>\n",
       "      <td>12</td>\n",
       "    </tr>\n",
       "    <tr>\n",
       "      <th>4</th>\n",
       "      <td>20090313571836404</td>\n",
       "      <td>16</td>\n",
       "    </tr>\n",
       "  </tbody>\n",
       "</table>\n",
       "</div>"
      ],
      "text/plain": [
       "             session  score\n",
       "0  20090312431273200     16\n",
       "1  20090312433251036     10\n",
       "2  20090312455206810     17\n",
       "3  20090313091715820     12\n",
       "4  20090313571836404     16"
      ]
     },
     "execution_count": 10,
     "metadata": {},
     "output_type": "execute_result"
    }
   ],
   "source": [
    "players_score = (\n",
    "    df_labels.groupby(\"session\")\n",
    "    .agg({\"correct\": [(\"score\", \"sum\")]})\n",
    "    .droplevel(0, axis=1)\n",
    "    .reset_index()\n",
    ")\n",
    "players_score.head()"
   ]
  },
  {
   "attachments": {},
   "cell_type": "markdown",
   "metadata": {},
   "source": [
    "## Data cleaning\n",
    "See : https://www.kaggle.com/code/gehallak/why-are-some-sessions-so-long-part-ii\n",
    "- Session 21020618143279870 is missing the cumsum on the elapsed time.\n",
    "- In several sessions the game has been played twice or even more times."
   ]
  },
  {
   "attachments": {},
   "cell_type": "markdown",
   "metadata": {},
   "source": [
    "## Focus on sessions profiling\n",
    "The first 1 million rows correspond to 886 players's session recordings."
   ]
  },
  {
   "cell_type": "code",
   "execution_count": 11,
   "metadata": {},
   "outputs": [
    {
     "name": "stdout",
     "output_type": "stream",
     "text": [
      "886 total players.\n"
     ]
    }
   ],
   "source": [
    "print(f'{df_train[\"session_id\"].unique().shape[0]} total players.')"
   ]
  },
  {
   "cell_type": "code",
   "execution_count": 12,
   "metadata": {},
   "outputs": [],
   "source": [
    "df_train[[\"elapsed_time\", \"hover_duration\"]] = (\n",
    "    df_train[[\"elapsed_time\", \"hover_duration\"]] / 1_000\n",
    ")"
   ]
  },
  {
   "attachments": {},
   "cell_type": "markdown",
   "metadata": {},
   "source": [
    "Compute metrics per session : elapsed time, hover duration, hq, music, fullscreen"
   ]
  },
  {
   "cell_type": "code",
   "execution_count": 17,
   "metadata": {},
   "outputs": [],
   "source": [
    "players_profile = (\n",
    "    df_train.groupby([\"session_id\"])\n",
    "    .agg(\n",
    "        {\n",
    "            \"elapsed_time\": [\n",
    "                (\"nb_events\", \"count\"),\n",
    "                (\"median_time\", \"median\"),\n",
    "                (\"end_time\", \"max\"),\n",
    "            ],\n",
    "            \"hover_duration\": [(\"hover_time\", \"sum\")],\n",
    "            \"name\": [(\"top_action\", pd.Series.mode)],\n",
    "            \"event_name\": [(\"top_event\", pd.Series.mode)],\n",
    "            \"hq\": [(\"hq_on\", \"mean\")],\n",
    "            \"fullscreen\": [(\"fs_on\", \"mean\")],\n",
    "            \"music\": [(\"music_on\", \"mean\")],\n",
    "        }\n",
    "    )\n",
    "    .droplevel(0, axis=1)\n",
    "    .reset_index()\n",
    ")\n",
    "\n",
    "players_profile[\"top_event\"] = players_profile[\"top_event\"].apply(\n",
    "    lambda x: x[0] if isinstance(x, np.ndarray) else x\n",
    ")\n",
    "players_profile[\"top_action\"] = players_profile[\"top_action\"].apply(\n",
    "    lambda x: x[0] if isinstance(x, pd.core.arrays.categorical.Categorical) else x\n",
    ")\n",
    "\n",
    "# setting dtypes\n",
    "players_profile[\"session_id\"] = players_profile[\"session_id\"].astype(\"category\")\n",
    "\n",
    "# Mean time spent in the game\n",
    "# players_profile[\"mean_time\"] = (\n",
    "#     players_profile[\"end_time\"] / players_profile[\"nb_events\"]\n",
    "# )\n",
    "\n",
    "# Hovering % time per session\n",
    "players_profile[\"hover_percent\"] = (\n",
    "    100 * players_profile[\"hover_time\"] / players_profile[\"end_time\"]\n",
    ")"
   ]
  },
  {
   "cell_type": "code",
   "execution_count": 20,
   "metadata": {},
   "outputs": [
    {
     "data": {
      "text/html": [
       "<div>\n",
       "<style scoped>\n",
       "    .dataframe tbody tr th:only-of-type {\n",
       "        vertical-align: middle;\n",
       "    }\n",
       "\n",
       "    .dataframe tbody tr th {\n",
       "        vertical-align: top;\n",
       "    }\n",
       "\n",
       "    .dataframe thead th {\n",
       "        text-align: right;\n",
       "    }\n",
       "</style>\n",
       "<table border=\"1\" class=\"dataframe\">\n",
       "  <thead>\n",
       "    <tr style=\"text-align: right;\">\n",
       "      <th></th>\n",
       "      <th>session_id</th>\n",
       "      <th>nb_events</th>\n",
       "      <th>median_time</th>\n",
       "      <th>end_time</th>\n",
       "      <th>hover_time</th>\n",
       "      <th>top_action</th>\n",
       "      <th>top_event</th>\n",
       "      <th>hq_on</th>\n",
       "      <th>fs_on</th>\n",
       "      <th>music_on</th>\n",
       "      <th>hover_percent</th>\n",
       "    </tr>\n",
       "  </thead>\n",
       "  <tbody>\n",
       "    <tr>\n",
       "      <th>0</th>\n",
       "      <td>20090312431273200</td>\n",
       "      <td>881</td>\n",
       "      <td>481.0120</td>\n",
       "      <td>1272.679</td>\n",
       "      <td>72.494003</td>\n",
       "      <td>basic</td>\n",
       "      <td>navigate_click</td>\n",
       "      <td>0.0</td>\n",
       "      <td>0.0</td>\n",
       "      <td>1.0</td>\n",
       "      <td>5.696173</td>\n",
       "    </tr>\n",
       "    <tr>\n",
       "      <th>1</th>\n",
       "      <td>20090312433251036</td>\n",
       "      <td>1831</td>\n",
       "      <td>1705.9840</td>\n",
       "      <td>3815.334</td>\n",
       "      <td>243.660995</td>\n",
       "      <td>undefined</td>\n",
       "      <td>navigate_click</td>\n",
       "      <td>0.0</td>\n",
       "      <td>0.0</td>\n",
       "      <td>0.0</td>\n",
       "      <td>6.386361</td>\n",
       "    </tr>\n",
       "    <tr>\n",
       "      <th>2</th>\n",
       "      <td>20090312455206810</td>\n",
       "      <td>758</td>\n",
       "      <td>616.8435</td>\n",
       "      <td>1189.050</td>\n",
       "      <td>56.179001</td>\n",
       "      <td>basic</td>\n",
       "      <td>navigate_click</td>\n",
       "      <td>1.0</td>\n",
       "      <td>1.0</td>\n",
       "      <td>1.0</td>\n",
       "      <td>4.724696</td>\n",
       "    </tr>\n",
       "    <tr>\n",
       "      <th>3</th>\n",
       "      <td>20090313091715820</td>\n",
       "      <td>993</td>\n",
       "      <td>744.3220</td>\n",
       "      <td>1621.368</td>\n",
       "      <td>111.509003</td>\n",
       "      <td>basic</td>\n",
       "      <td>navigate_click</td>\n",
       "      <td>1.0</td>\n",
       "      <td>1.0</td>\n",
       "      <td>1.0</td>\n",
       "      <td>6.877464</td>\n",
       "    </tr>\n",
       "    <tr>\n",
       "      <th>4</th>\n",
       "      <td>20090313571836404</td>\n",
       "      <td>746</td>\n",
       "      <td>709.5340</td>\n",
       "      <td>1174.676</td>\n",
       "      <td>66.033997</td>\n",
       "      <td>basic</td>\n",
       "      <td>navigate_click</td>\n",
       "      <td>0.0</td>\n",
       "      <td>0.0</td>\n",
       "      <td>1.0</td>\n",
       "      <td>5.621464</td>\n",
       "    </tr>\n",
       "  </tbody>\n",
       "</table>\n",
       "</div>"
      ],
      "text/plain": [
       "          session_id  nb_events  median_time  end_time  hover_time top_action   \n",
       "0  20090312431273200        881     481.0120  1272.679   72.494003      basic  \\\n",
       "1  20090312433251036       1831    1705.9840  3815.334  243.660995  undefined   \n",
       "2  20090312455206810        758     616.8435  1189.050   56.179001      basic   \n",
       "3  20090313091715820        993     744.3220  1621.368  111.509003      basic   \n",
       "4  20090313571836404        746     709.5340  1174.676   66.033997      basic   \n",
       "\n",
       "        top_event  hq_on  fs_on  music_on  hover_percent  \n",
       "0  navigate_click    0.0    0.0       1.0       5.696173  \n",
       "1  navigate_click    0.0    0.0       0.0       6.386361  \n",
       "2  navigate_click    1.0    1.0       1.0       4.724696  \n",
       "3  navigate_click    1.0    1.0       1.0       6.877464  \n",
       "4  navigate_click    0.0    0.0       1.0       5.621464  "
      ]
     },
     "execution_count": 20,
     "metadata": {},
     "output_type": "execute_result"
    }
   ],
   "source": [
    "players_profile.head()"
   ]
  },
  {
   "attachments": {},
   "cell_type": "markdown",
   "metadata": {},
   "source": [
    "### Merging processed train labels and players's profiles"
   ]
  },
  {
   "cell_type": "code",
   "execution_count": 21,
   "metadata": {},
   "outputs": [],
   "source": [
    "players_profile = players_profile.merge(\n",
    "    players_score, how=\"left\", left_on=\"session_id\", right_on=\"session\"\n",
    ").drop([\"session\"], axis=1)\n",
    "\n",
    "players_profile[\"session_id\"] = players_profile[\"session_id\"].astype(\"category\")"
   ]
  },
  {
   "cell_type": "code",
   "execution_count": 26,
   "metadata": {},
   "outputs": [
    {
     "name": "stdout",
     "output_type": "stream",
     "text": [
      "<class 'pandas.core.frame.DataFrame'>\n",
      "RangeIndex: 886 entries, 0 to 885\n",
      "Data columns (total 12 columns):\n",
      " #   Column         Non-Null Count  Dtype   \n",
      "---  ------         --------------  -----   \n",
      " 0   session_id     886 non-null    category\n",
      " 1   nb_events      886 non-null    int64   \n",
      " 2   median_time    886 non-null    float64 \n",
      " 3   end_time       886 non-null    float64 \n",
      " 4   hover_time     886 non-null    float32 \n",
      " 5   top_action     886 non-null    object  \n",
      " 6   top_event      886 non-null    object  \n",
      " 7   hq_on          886 non-null    float64 \n",
      " 8   fs_on          886 non-null    float64 \n",
      " 9   music_on       886 non-null    float64 \n",
      " 10  hover_percent  886 non-null    float64 \n",
      " 11  score          886 non-null    int64   \n",
      "dtypes: category(1), float32(1), float64(6), int64(2), object(2)\n",
      "memory usage: 113.7+ KB\n"
     ]
    },
    {
     "data": {
      "text/html": [
       "<div>\n",
       "<style scoped>\n",
       "    .dataframe tbody tr th:only-of-type {\n",
       "        vertical-align: middle;\n",
       "    }\n",
       "\n",
       "    .dataframe tbody tr th {\n",
       "        vertical-align: top;\n",
       "    }\n",
       "\n",
       "    .dataframe thead th {\n",
       "        text-align: right;\n",
       "    }\n",
       "</style>\n",
       "<table border=\"1\" class=\"dataframe\">\n",
       "  <thead>\n",
       "    <tr style=\"text-align: right;\">\n",
       "      <th></th>\n",
       "      <th>session_id</th>\n",
       "      <th>nb_events</th>\n",
       "      <th>median_time</th>\n",
       "      <th>end_time</th>\n",
       "      <th>hover_time</th>\n",
       "      <th>top_action</th>\n",
       "      <th>top_event</th>\n",
       "      <th>hq_on</th>\n",
       "      <th>fs_on</th>\n",
       "      <th>music_on</th>\n",
       "      <th>hover_percent</th>\n",
       "      <th>score</th>\n",
       "    </tr>\n",
       "  </thead>\n",
       "  <tbody>\n",
       "    <tr>\n",
       "      <th>0</th>\n",
       "      <td>20090312431273200</td>\n",
       "      <td>881</td>\n",
       "      <td>481.0120</td>\n",
       "      <td>1272.679</td>\n",
       "      <td>72.494003</td>\n",
       "      <td>basic</td>\n",
       "      <td>navigate_click</td>\n",
       "      <td>0.0</td>\n",
       "      <td>0.0</td>\n",
       "      <td>1.0</td>\n",
       "      <td>5.696173</td>\n",
       "      <td>16</td>\n",
       "    </tr>\n",
       "    <tr>\n",
       "      <th>1</th>\n",
       "      <td>20090312433251036</td>\n",
       "      <td>1831</td>\n",
       "      <td>1705.9840</td>\n",
       "      <td>3815.334</td>\n",
       "      <td>243.660995</td>\n",
       "      <td>undefined</td>\n",
       "      <td>navigate_click</td>\n",
       "      <td>0.0</td>\n",
       "      <td>0.0</td>\n",
       "      <td>0.0</td>\n",
       "      <td>6.386361</td>\n",
       "      <td>10</td>\n",
       "    </tr>\n",
       "    <tr>\n",
       "      <th>2</th>\n",
       "      <td>20090312455206810</td>\n",
       "      <td>758</td>\n",
       "      <td>616.8435</td>\n",
       "      <td>1189.050</td>\n",
       "      <td>56.179001</td>\n",
       "      <td>basic</td>\n",
       "      <td>navigate_click</td>\n",
       "      <td>1.0</td>\n",
       "      <td>1.0</td>\n",
       "      <td>1.0</td>\n",
       "      <td>4.724696</td>\n",
       "      <td>17</td>\n",
       "    </tr>\n",
       "    <tr>\n",
       "      <th>3</th>\n",
       "      <td>20090313091715820</td>\n",
       "      <td>993</td>\n",
       "      <td>744.3220</td>\n",
       "      <td>1621.368</td>\n",
       "      <td>111.509003</td>\n",
       "      <td>basic</td>\n",
       "      <td>navigate_click</td>\n",
       "      <td>1.0</td>\n",
       "      <td>1.0</td>\n",
       "      <td>1.0</td>\n",
       "      <td>6.877464</td>\n",
       "      <td>12</td>\n",
       "    </tr>\n",
       "    <tr>\n",
       "      <th>4</th>\n",
       "      <td>20090313571836404</td>\n",
       "      <td>746</td>\n",
       "      <td>709.5340</td>\n",
       "      <td>1174.676</td>\n",
       "      <td>66.033997</td>\n",
       "      <td>basic</td>\n",
       "      <td>navigate_click</td>\n",
       "      <td>0.0</td>\n",
       "      <td>0.0</td>\n",
       "      <td>1.0</td>\n",
       "      <td>5.621464</td>\n",
       "      <td>16</td>\n",
       "    </tr>\n",
       "  </tbody>\n",
       "</table>\n",
       "</div>"
      ],
      "text/plain": [
       "          session_id  nb_events  median_time  end_time  hover_time top_action   \n",
       "0  20090312431273200        881     481.0120  1272.679   72.494003      basic  \\\n",
       "1  20090312433251036       1831    1705.9840  3815.334  243.660995  undefined   \n",
       "2  20090312455206810        758     616.8435  1189.050   56.179001      basic   \n",
       "3  20090313091715820        993     744.3220  1621.368  111.509003      basic   \n",
       "4  20090313571836404        746     709.5340  1174.676   66.033997      basic   \n",
       "\n",
       "        top_event  hq_on  fs_on  music_on  hover_percent  score  \n",
       "0  navigate_click    0.0    0.0       1.0       5.696173     16  \n",
       "1  navigate_click    0.0    0.0       0.0       6.386361     10  \n",
       "2  navigate_click    1.0    1.0       1.0       4.724696     17  \n",
       "3  navigate_click    1.0    1.0       1.0       6.877464     12  \n",
       "4  navigate_click    0.0    0.0       1.0       5.621464     16  "
      ]
     },
     "execution_count": 26,
     "metadata": {},
     "output_type": "execute_result"
    }
   ],
   "source": [
    "players_profile.info()\n",
    "players_profile.head()"
   ]
  },
  {
   "attachments": {},
   "cell_type": "markdown",
   "metadata": {},
   "source": [
    "### Analyzing profiles's metrics"
   ]
  },
  {
   "attachments": {},
   "cell_type": "markdown",
   "metadata": {},
   "source": [
    "Scores distribution"
   ]
  },
  {
   "cell_type": "code",
   "execution_count": 29,
   "metadata": {},
   "outputs": [
    {
     "data": {
      "application/vnd.plotly.v1+json": {
       "config": {
        "plotlyServerURL": "https://plot.ly"
       },
       "data": [
        {
         "alignmentgroup": "True",
         "box": {
          "visible": true
         },
         "customdata": [
          [
           881,
           1272.679,
           72.49400329589844,
           5.696173497500155
          ],
          [
           1831,
           3815.334,
           243.66099548339844,
           6.386360829582679
          ],
          [
           758,
           1189.05,
           56.17900085449219,
           4.724696103901223
          ],
          [
           993,
           1621.368,
           111.50900268554688,
           6.877464209621135
          ],
          [
           746,
           1174.676,
           66.03399658203125,
           5.621464483876831
          ],
          [
           971,
           2355.47,
           163.40699768066406,
           6.937341675042561
          ],
          [
           1038,
           2133.782,
           159.13999938964844,
           7.458118964355308
          ],
          [
           1518,
           2756.631,
           175.23899841308594,
           6.35699895656147
          ],
          [
           1066,
           4208.427,
           139.2949981689453,
           3.30990652802104
          ],
          [
           789,
           1275.75,
           108.53500366210938,
           8.507544581618657
          ],
          [
           1527,
           2974.641,
           166.2310028076172,
           5.588270856676486
          ],
          [
           953,
           2554.792,
           237.81199645996094,
           9.308467859125127
          ],
          [
           1100,
           1569.636,
           123.98600006103516,
           7.899028570557123
          ],
          [
           987,
           1578.026,
           116.39199829101562,
           7.375797480721166
          ],
          [
           1071,
           1209.424,
           75.4990005493164,
           6.242558360296926
          ],
          [
           1521,
           3514.83,
           312.0820007324219,
           8.879006728277043
          ],
          [
           921,
           1095.436,
           79.70500183105469,
           7.276098284153525
          ],
          [
           1354,
           2491.64,
           255.07899475097656,
           10.237394001791992
          ],
          [
           1289,
           5462.736,
           268.4320068359375,
           4.913874873666785
          ],
          [
           909,
           2002.22,
           125.78199768066406,
           6.28212693675645
          ],
          [
           2058,
           3527.92,
           165.20599365234375,
           4.6828158261454345
          ],
          [
           1105,
           5660.44,
           100.51799774169922,
           1.775798313326791
          ],
          [
           1200,
           2343.46,
           115.76300048828125,
           4.939832471937861
          ],
          [
           1275,
           2158.678,
           138.65199279785156,
           6.423004829228815
          ],
          [
           2216,
           38081.617,
           194.50100708007812,
           0.5107477858017426
          ],
          [
           878,
           1135.216,
           77.10900115966797,
           6.792451746930761
          ],
          [
           769,
           1962.363,
           100.46600341796875,
           5.1196443195970875
          ],
          [
           952,
           1312.757,
           94.41899871826172,
           7.192419780707701
          ],
          [
           1096,
           1893.408,
           146.2779998779297,
           7.725645927706813
          ],
          [
           1036,
           846.398,
           0,
           0
          ],
          [
           1073,
           3722.093,
           173.46800231933594,
           4.6604963339846694
          ],
          [
           813,
           1882.926,
           169.6439971923828,
           9.009594848987692
          ],
          [
           1523,
           3450.876,
           196.18600463867188,
           5.685107088569684
          ],
          [
           1089,
           3201.657,
           230.73599243164062,
           7.206768123310836
          ],
          [
           944,
           2072.998,
           153.00599670410156,
           7.380904182915275
          ],
          [
           859,
           22056.639,
           82.6780014038086,
           0.3748440460347336
          ],
          [
           1827,
           4555.778,
           192.39599609375,
           4.223120531635869
          ],
          [
           1155,
           1808.1,
           160.50999450683594,
           8.877273946926332
          ],
          [
           718,
           1034.94,
           68.86000061035156,
           6.653525808259416
          ],
          [
           953,
           2113.002,
           119.66000366210938,
           5.663032973939448
          ],
          [
           1017,
           1817.968,
           65.52400207519531,
           3.604244073946846
          ],
          [
           1365,
           2122.128,
           160.11900329589844,
           7.545209521115125
          ],
          [
           1393,
           3023.99,
           183.6199951171875,
           6.072110026818872
          ],
          [
           1532,
           2164.739,
           112.21499633789062,
           5.183765802713399
          ],
          [
           900,
           1907.285,
           114.94300079345703,
           6.0265245124286615
          ],
          [
           898,
           1409.47,
           83.7490005493164,
           5.941879139410559
          ],
          [
           898,
           2435.273,
           211.4459991455078,
           8.682640348484544
          ],
          [
           828,
           1479.036,
           107.85800170898438,
           7.292452519538064
          ],
          [
           919,
           1694.808,
           159.7830047607422,
           9.427794051745094
          ],
          [
           817,
           1822.463,
           90.87899780273438,
           4.986602973043897
          ],
          [
           1107,
           2466.567,
           99.31199645996094,
           4.026324530714146
          ],
          [
           1041,
           3572.061,
           176.75399780273438,
           4.94823587576612
          ],
          [
           946,
           1874.553,
           151.7530059814453,
           8.095423699009844
          ],
          [
           1407,
           1624.498,
           98.91300201416016,
           6.08883470751426
          ],
          [
           926,
           10459.843,
           158.80299377441406,
           1.518215885715254
          ],
          [
           1153,
           123549.67,
           92.07499694824219,
           0.07452468306876094
          ],
          [
           998,
           2942.845,
           115.88099670410156,
           3.9377199986322764
          ],
          [
           1182,
           3368.177,
           194.5830078125,
           5.777101613498934
          ],
          [
           760,
           74952.677,
           63.064998626708984,
           0.08413975660936034
          ],
          [
           1392,
           3847.165,
           265.87200927734375,
           6.9108554407921154
          ],
          [
           804,
           1656.96,
           117.71800231933594,
           7.104456235930559
          ],
          [
           704,
           1565.826,
           105.26899719238281,
           6.722904980542219
          ],
          [
           988,
           1824.749,
           141.02499389648438,
           7.728459653046802
          ],
          [
           960,
           1878.632,
           91.3810043334961,
           4.864231305512469
          ],
          [
           1376,
           16274.862,
           0,
           0
          ],
          [
           1891,
           3357.232,
           192.1909942626953,
           5.724686172827794
          ],
          [
           1532,
           2707.392,
           141.89300537109375,
           5.240948034584575
          ],
          [
           711,
           1125.726,
           63.26300048828125,
           5.619750991526801
          ],
          [
           1026,
           1528.973,
           144.29200744628906,
           9.437185072512726
          ],
          [
           1026,
           1648.375,
           110.00199890136719,
           6.6733602458861
          ],
          [
           817,
           2819.923,
           161.9080047607422,
           5.741575490270479
          ],
          [
           1146,
           1424.4,
           88.80500030517578,
           6.234554900308901
          ],
          [
           1314,
           2312.077,
           147.697998046875,
           6.388108962066358
          ],
          [
           1057,
           2136.291,
           136.93299865722656,
           6.409847630630611
          ],
          [
           889,
           1694.808,
           82.75,
           4.882558968331516
          ],
          [
           805,
           2082.858,
           156.1999969482422,
           7.499311042807526
          ],
          [
           1727,
           6551.65,
           162.16000366210938,
           2.4751016919401985
          ],
          [
           716,
           3202.593,
           177.85699462890625,
           5.5535309103435875
          ],
          [
           720,
           1500.264,
           62.698001861572266,
           4.1791313348642305
          ],
          [
           772,
           5768.68,
           112.48400115966797,
           1.9499088856766191
          ],
          [
           3114,
           4372.021,
           343.37200927734375,
           7.8538504775594635
          ],
          [
           1599,
           2558.975,
           0,
           0
          ],
          [
           1261,
           1780.823,
           121.49800109863281,
           6.822575744297721
          ],
          [
           1158,
           2927.934,
           105.13400268554688,
           3.5907231483445323
          ],
          [
           1044,
           2265.018,
           114.41500091552734,
           5.051394735052878
          ],
          [
           765,
           1234.554,
           60.3640022277832,
           4.889539372619585
          ],
          [
           1018,
           49966.056,
           142.7469940185547,
           0.2856879321984109
          ],
          [
           982,
           5494.9,
           197.0290069580078,
           3.5856704199575975
          ],
          [
           1035,
           902.67,
           53.40700149536133,
           5.916558870143574
          ],
          [
           924,
           2098.985,
           135.82899475097656,
           6.471175074649175
          ],
          [
           1451,
           2503.548,
           187.18899536132812,
           7.476948870413111
          ],
          [
           1454,
           1134.085,
           75.7239990234375,
           6.677100836660171
          ],
          [
           1230,
           8811.905,
           0,
           0
          ],
          [
           1156,
           2041.156,
           132.47799682617188,
           6.4903416518323445
          ],
          [
           1340,
           2504.777,
           184.9080047607422,
           7.382214377267917
          ],
          [
           1102,
           2015.152,
           162.7830047607422,
           8.077951827579259
          ],
          [
           1198,
           3928.292,
           190.5749969482422,
           4.851345062943386
          ],
          [
           779,
           40461.124,
           166.16400146484375,
           0.41067569923724806
          ],
          [
           936,
           3271.067,
           148.31199645996094,
           4.534055468368578
          ],
          [
           1423,
           1894.202,
           0,
           0
          ],
          [
           978,
           1469.909,
           103.08300018310547,
           7.012882977577183
          ],
          [
           944,
           1214.347,
           72.3290023803711,
           5.956205590844298
          ],
          [
           1098,
           1700.163,
           89.70500183105469,
           5.276258805773328
          ],
          [
           1181,
           1813.96,
           141.89100646972656,
           7.822168397284119
          ],
          [
           1468,
           2657.782,
           140.28700256347656,
           5.278348711561934
          ],
          [
           943,
           1897.221,
           153.91600036621094,
           8.11270780229346
          ],
          [
           999,
           4753.325,
           108.84600067138672,
           2.2898917303939874
          ],
          [
           1361,
           1912.954,
           137.072998046875,
           7.16551459401925
          ],
          [
           1864,
           3978.93,
           257.7669982910156,
           6.478299245965625
          ],
          [
           1470,
           2233.274,
           149.51699829101562,
           6.694968998570037
          ],
          [
           1145,
           3655.804,
           158.49600219726562,
           4.335462345885474
          ],
          [
           818,
           1346.234,
           74.94499969482422,
           5.567011381379463
          ],
          [
           936,
           4698.44,
           96.71800231933594,
           2.058512996800534
          ],
          [
           998,
           2609.786,
           104.83699798583984,
           4.017072739033967
          ],
          [
           900,
           1915.901,
           121.41600036621094,
           6.337279227567082
          ],
          [
           965,
           3549.98,
           126.96900177001953,
           3.5766118092566717
          ],
          [
           1017,
           5417.755,
           149.1490020751953,
           2.752966937527629
          ],
          [
           1418,
           2150.21,
           136.74600219726562,
           6.3596581663825855
          ],
          [
           1476,
           3686.479,
           307.6199951171875,
           8.344547737827885
          ],
          [
           895,
           2705.035,
           172.6389923095703,
           6.382134958512552
          ],
          [
           1051,
           3620.051,
           165.40899658203125,
           4.569245126829705
          ],
          [
           807,
           1398.32,
           95.61299896240234,
           6.837705106619015
          ],
          [
           1096,
           2354.276,
           99.3499984741211,
           4.219981004775991
          ],
          [
           940,
           2079.344,
           144.0540008544922,
           6.92785820461886
          ],
          [
           930,
           2571.385,
           148.63099670410156,
           5.7801922346809205
          ],
          [
           1203,
           1986.811,
           163.09999084472656,
           8.209134650169291
          ],
          [
           761,
           2437.135,
           112.31700134277344,
           4.608567106587242
          ],
          [
           888,
           977.016,
           57.11800003051758,
           5.846168133057699
          ],
          [
           1084,
           1728.74,
           95.90399932861328,
           5.547624507227807
          ],
          [
           807,
           2032.013,
           69.08499908447266,
           3.399830611319908
          ],
          [
           891,
           1700.869,
           70.48500061035156,
           4.144058125581688
          ],
          [
           1325,
           4222.242,
           143.74400329589844,
           3.40444730326329
          ],
          [
           1181,
           2263.734,
           106.8030014038086,
           4.718001233664158
          ],
          [
           1179,
           1413.604,
           160.14500427246094,
           11.328844570332285
          ],
          [
           1573,
           10023.407,
           275.1090087890625,
           2.744665600291897
          ],
          [
           748,
           1365.804,
           71.58100128173828,
           5.24094240290426
          ],
          [
           925,
           3106.911,
           121.22200012207031,
           3.901688910725959
          ],
          [
           1218,
           2014.382,
           104.31900024414062,
           5.178710091047775
          ],
          [
           828,
           1576.83,
           72.20600128173828,
           4.579187418844295
          ],
          [
           1735,
           2531.912,
           175.2259979248047,
           6.9206985113917865
          ],
          [
           1462,
           2798.831,
           154.76300048828125,
           5.529558520928023
          ],
          [
           1379,
           2491.32,
           152.92799377441406,
           6.1384325597223555
          ],
          [
           1047,
           3433.277,
           185.8459930419922,
           5.413078994026698
          ],
          [
           2737,
           2978.059,
           189.38400268554688,
           6.35931000380617
          ],
          [
           1103,
           1738.784,
           107.89800262451172,
           6.205370997598034
          ],
          [
           1012,
           1341.759,
           133.87400817871094,
           9.977499976243871
          ],
          [
           1056,
           2437.782,
           144.68699645996094,
           5.935189946742572
          ],
          [
           1038,
           2886.922,
           135.00399780273438,
           4.676399090125226
          ],
          [
           962,
           1607.679,
           63.22100067138672,
           3.9324393101211434
          ],
          [
           826,
           1654.449,
           113.36000061035156,
           6.851828010413135
          ],
          [
           1019,
           1704.773,
           93.22100067138672,
           5.468235131231548
          ],
          [
           1024,
           1305.319,
           63.185001373291016,
           4.84057919941409
          ],
          [
           1432,
           2836.886,
           174.6999969482422,
           6.158160743857878
          ],
          [
           805,
           2226.183,
           133.3040008544922,
           5.988007450701493
          ],
          [
           877,
           4220.057,
           599.2960205078125,
           14.201135568192562
          ],
          [
           903,
           1654.246,
           0,
           0
          ],
          [
           863,
           1304.305,
           91.03900146484375,
           6.979886139074066
          ],
          [
           1121,
           2956.194,
           103.95099639892578,
           3.516379374755175
          ],
          [
           969,
           1324.513,
           101.2699966430664,
           7.645829070760348
          ],
          [
           856,
           1835.391,
           68.09500122070312,
           3.7101086362524387
          ],
          [
           976,
           1030.069,
           69.50299835205078,
           6.747411876959213
          ],
          [
           2003,
           13118.429,
           139.8730010986328,
           1.0662328396706267
          ],
          [
           997,
           1357.591,
           122.55500030517578,
           9.02738748268072
          ],
          [
           988,
           2677.106,
           158.53900146484375,
           5.922029381961341
          ],
          [
           1198,
           7245.474,
           462.60797119140625,
           6.38478543639795
          ],
          [
           1182,
           3264.153,
           143.47000122070312,
           4.395320930115715
          ],
          [
           1434,
           1716.121,
           133.17999267578125,
           7.760524475510468
          ],
          [
           1152,
           2122.026,
           110.58399963378906,
           5.211246417633432
          ],
          [
           2379,
           6527.358,
           269.1520080566406,
           4.123444917817438
          ],
          [
           834,
           2646.131,
           119.79199981689453,
           4.5270624150174354
          ],
          [
           1955,
           1917.85,
           162.4969940185547,
           8.472872862189432
          ],
          [
           1009,
           2218.212,
           176.16900634765625,
           7.94193719564451
          ],
          [
           816,
           2050.985,
           135.5780029296875,
           6.610385147258512
          ],
          [
           912,
           1702.8,
           83.12200164794922,
           4.881489426422657
          ],
          [
           986,
           1889.212,
           107.15999603271484,
           5.672206189670614
          ],
          [
           821,
           1426.821,
           106.4229965209961,
           7.458749068514901
          ],
          [
           820,
           1829.73,
           120.93599700927734,
           6.609499548772223
          ],
          [
           920,
           1067.982,
           78.05999755859375,
           7.309111951325023
          ],
          [
           951,
           2177.625,
           94.46199798583984,
           4.337845219132082
          ],
          [
           1325,
           2590.33,
           117.13400268554688,
           4.521972254741674
          ],
          [
           976,
           2103.393,
           90.8239974975586,
           4.317975487254403
          ],
          [
           655,
           1149.893,
           63.551998138427734,
           5.526774845164941
          ],
          [
           1441,
           2368.492,
           97.8219985961914,
           4.130138584091692
          ],
          [
           1002,
           1894.512,
           119.00299835205078,
           6.281459185630653
          ],
          [
           1025,
           2037.54,
           100.34100341796875,
           4.924615264454931
          ],
          [
           1110,
           9624.527,
           190.8040008544922,
           1.9824766859322023
          ],
          [
           886,
           1305.529,
           54.85700225830078,
           4.201898383959683
          ],
          [
           1120,
           2370.238,
           278.3479919433594,
           11.743461554546421
          ],
          [
           897,
           1472.424,
           99.31600189208984,
           6.7450683946590795
          ],
          [
           853,
           887.673,
           47.87900161743164,
           5.393765937034246
          ],
          [
           1034,
           1651.342,
           110.91899871826172,
           6.7169002024186995
          ],
          [
           932,
           1790.406,
           109.2040023803711,
           6.099398902050708
          ],
          [
           912,
           1581.9,
           130.84100341796875,
           8.271130024614386
          ],
          [
           985,
           17519.206,
           209.95399475097656,
           1.1984219142479975
          ],
          [
           895,
           2675.97,
           138.13900756835938,
           5.162203010730689
          ],
          [
           2351,
           5876.625,
           302.1549987792969,
           5.141641673579648
          ],
          [
           1016,
           1696.253,
           102.26399993896484,
           6.028817865392132
          ],
          [
           1570,
           3171.568,
           133.52000427246094,
           4.209905005978115
          ],
          [
           1047,
           1882.222,
           144.39300537109375,
           7.671412182649018
          ],
          [
           1366,
           8831.936,
           245.73399353027344,
           2.7823342965234352
          ],
          [
           937,
           3413.348,
           149.71400451660156,
           4.386133611523056
          ],
          [
           922,
           1528.381,
           82.49200439453125,
           5.397345423237073
          ],
          [
           1364,
           6958.001,
           247.92599487304688,
           3.5631785062081764
          ],
          [
           1033,
           1442.242,
           88.06099700927734,
           6.105840496515148
          ],
          [
           929,
           1323.496,
           78.91200256347656,
           5.962390664809337
          ],
          [
           2780,
           3158.843,
           237.55499267578125,
           7.5203167742113175
          ],
          [
           1161,
           2142.671,
           155.302001953125,
           7.248056372309375
          ],
          [
           845,
           3380.833,
           105.51100158691406,
           3.120858257694923
          ],
          [
           894,
           1405.665,
           108.02400207519531,
           7.684903864452057
          ],
          [
           879,
           3654.797,
           160.23899841308594,
           4.384347315066336
          ],
          [
           1025,
           1569.911,
           101.9000015258789,
           6.490813810464415
          ],
          [
           828,
           3019.623,
           376.69500732421875,
           12.47490166818838
          ],
          [
           1183,
           2215.117,
           116.83499908447266,
           5.274439228266497
          ],
          [
           1118,
           2293.167,
           124.96299743652344,
           5.449363175332412
          ],
          [
           880,
           3801.267,
           89.8010025024414,
           2.3623966919286388
          ],
          [
           1300,
           3106.173,
           162.7830047607422,
           5.240629154026514
          ],
          [
           1263,
           1872.118,
           139.1649932861328,
           7.4335586877736874
          ],
          [
           885,
           2899.556,
           601.8800048828125,
           20.757660828071607
          ],
          [
           1100,
           2050.257,
           140.96800231933594,
           6.875625740913212
          ],
          [
           809,
           1328.85,
           65.98600006103516,
           4.965647061486436
          ],
          [
           886,
           4197.546,
           79.06999969482422,
           1.88371967811669
          ],
          [
           833,
           1011.625,
           68.40299987792969,
           6.761695099159768
          ],
          [
           785,
           1226.758,
           98.98899841308594,
           8.069154155964338
          ],
          [
           778,
           1424.423,
           79.56900024414062,
           5.586051265911706
          ],
          [
           1067,
           1912.119,
           147.74099731445312,
           7.726558655279823
          ],
          [
           894,
           3868.531,
           87.39800262451172,
           2.259203766155034
          ],
          [
           890,
           4471.495,
           88.97799682617188,
           1.9898937166848
          ],
          [
           917,
           2520.852,
           159.95399475097656,
           6.345235425983954
          ],
          [
           1169,
           6433.632,
           227.91799926757812,
           3.542602495954074
          ],
          [
           1283,
           78485.247,
           2732.2431640625,
           3.481218737834895
          ],
          [
           1488,
           2795.932,
           174.57699584960938,
           6.243964166063409
          ],
          [
           980,
           2460.265,
           155.0449981689453,
           6.30196340638102
          ],
          [
           1378,
           1976.152,
           88.76799774169922,
           4.491962057922417
          ],
          [
           1049,
           2767.714,
           132.71099853515625,
           4.794967836046283
          ],
          [
           856,
           2640.922,
           84.09600067138672,
           3.184342290069529
          ],
          [
           1332,
           2270.709,
           125.44000244140625,
           5.524265768973479
          ],
          [
           834,
           1496.466,
           103.80500030517578,
           6.936676142324651
          ],
          [
           774,
           1175.315,
           177.18099975585938,
           15.07519227558144
          ],
          [
           1723,
           4999.179,
           317.739990234375,
           6.355843629523967
          ],
          [
           1049,
           1983.69,
           94.1969985961914,
           4.748574724534832
          ],
          [
           1128,
           7021.8,
           254.90199279785156,
           3.6301517016648153
          ],
          [
           993,
           1640.646,
           113.60199737548828,
           6.924223869934465
          ],
          [
           827,
           1665.17,
           112.7760009765625,
           6.772641597779806
          ],
          [
           1102,
           1863.728,
           128.6269989013672,
           6.9015973335768415
          ],
          [
           971,
           2300.976,
           119.73300170898438,
           5.203574398293376
          ],
          [
           1194,
           1672.692,
           138.4770050048828,
           8.278690993507771
          ],
          [
           1348,
           1548.697,
           129.09500122070312,
           8.335717057629736
          ],
          [
           1173,
           1948.66,
           86.98300170898438,
           4.46373395291508
          ],
          [
           1217,
           1610.626,
           120.63300323486328,
           7.489821213149422
          ],
          [
           856,
           1477.121,
           139.93800354003906,
           9.473699704526576
          ],
          [
           915,
           2465.619,
           213.22999572753906,
           8.64813257847218
          ],
          [
           888,
           2340.834,
           132.71200561523438,
           5.66943243105342
          ],
          [
           834,
           2201.254,
           95.78599548339844,
           4.351428599050814
          ],
          [
           1095,
           3462.911,
           138.20700073242188,
           3.9910642217811834
          ],
          [
           1094,
           1480.092,
           146.18099975585938,
           9.876480387283358
          ],
          [
           887,
           1135.151,
           76.29800415039062,
           6.721396794760124
          ],
          [
           1132,
           1978.965,
           160.29299926757812,
           8.099839969220023
          ],
          [
           1014,
           1027.207,
           86.68399810791016,
           8.43880485049508
          ],
          [
           947,
           1042.454,
           77.4020004272461,
           7.4249800905483605
          ],
          [
           834,
           1884.358,
           47.65999984741211,
           2.529243381565499
          ],
          [
           958,
           1232.939,
           72.93599700927734,
           5.915620812850433
          ],
          [
           877,
           1965.268,
           100.4000015258789,
           5.108717996731235
          ],
          [
           826,
           2068.871,
           264.2010192871094,
           12.770299145040942
          ],
          [
           1021,
           1478.472,
           104.20500183105469,
           7.048155122315472
          ],
          [
           1015,
           4328.98,
           77.73999786376953,
           1.7958040924189995
          ],
          [
           819,
           1374.915,
           77.99099731445312,
           5.672423102064491
          ],
          [
           849,
           1426.142,
           92.82600402832031,
           6.508889427516684
          ],
          [
           926,
           1773.762,
           174.35400390625,
           9.829616594912396
          ],
          [
           990,
           1685.531,
           110.07099914550781,
           6.530345398200923
          ],
          [
           954,
           1644.494,
           115.10800170898438,
           6.999599758155092
          ],
          [
           1058,
           2639.198,
           159.6739959716797,
           6.050095299429032
          ],
          [
           4174,
           4160.31,
           229.47900390625,
           5.515911167827637
          ],
          [
           2301,
           3032.468,
           193.39199829101562,
           6.3773794871866745
          ],
          [
           1487,
           1709.045,
           105.40499877929688,
           6.167479498784409
          ],
          [
           895,
           2620.805,
           165.16900634765625,
           6.30222408406005
          ],
          [
           844,
           2383.18,
           128.87600708007812,
           5.40773277131291
          ],
          [
           793,
           2857.386,
           79.92500305175781,
           2.797137134528289
          ],
          [
           970,
           2612.854,
           221.53099060058594,
           8.478506494957239
          ],
          [
           824,
           1382.109,
           67.55400085449219,
           4.887747567191698
          ],
          [
           1138,
           1532.92,
           116.88099670410156,
           7.624729020023875
          ],
          [
           759,
           1178.588,
           57.750999450683594,
           4.900016034149551
          ],
          [
           774,
           1066.405,
           69.46199798583984,
           6.513660107586939
          ],
          [
           1379,
           2706.57,
           200.7969970703125,
           7.4188730454966985
          ],
          [
           836,
           1084.687,
           64.86599731445312,
           5.9801579712626785
          ],
          [
           1011,
           1798.716,
           132.6840057373047,
           7.376595521819453
          ],
          [
           833,
           2382.42,
           140.27099609375,
           5.887752625219314
          ],
          [
           1607,
           2214.781,
           147.68699645996094,
           6.66824359552931
          ],
          [
           1387,
           2409.435,
           189.80299377441406,
           7.8774894645943965
          ],
          [
           1461,
           2751.563,
           164.4199981689453,
           5.975512826709765
          ],
          [
           1260,
           156402.689,
           134.86300659179688,
           0.08622806210991679
          ],
          [
           839,
           1106.749,
           42.75,
           3.8626644343026286
          ],
          [
           1101,
           2227.957,
           139.74000549316406,
           6.272114307665049
          ],
          [
           929,
           1775.165,
           122.57599639892578,
           6.905048043069236
          ],
          [
           1000,
           8119.595,
           124.11399841308594,
           1.52857370522329
          ],
          [
           1181,
           2837.977,
           170.45599365234375,
           6.006250089192055
          ],
          [
           1254,
           2902.587,
           108.56800079345703,
           3.740387387074875
          ],
          [
           815,
           1700.623,
           92.76599884033203,
           5.454824266974515
          ],
          [
           1157,
           3276.76,
           248.6389923095703,
           7.587952256955041
          ],
          [
           1604,
           12694.437,
           145.92599487304688,
           1.1495271203736723
          ],
          [
           1344,
           2569.311,
           185.25100708007812,
           7.210143716545019
          ],
          [
           1029,
           1482.707,
           80.1520004272461,
           5.405788328585823
          ],
          [
           1494,
           3415.561,
           150.73399353027344,
           4.413154797722101
          ],
          [
           1241,
           2884.39,
           171.375,
           5.94146422640489
          ],
          [
           983,
           1375.908,
           107.52200317382812,
           7.81462146837761
          ],
          [
           850,
           1345.612,
           107.79199981689453,
           8.010630252489202
          ],
          [
           1567,
           11894.358,
           2809.8291015625,
           23.623209108890112
          ],
          [
           925,
           1647.532,
           98.9729995727539,
           6.007349055852937
          ],
          [
           886,
           75084.56,
           157.04299926757812,
           0.20915484894214603
          ],
          [
           863,
           1438.712,
           55.04800033569336,
           3.8261999654465244
          ],
          [
           808,
           1821.788,
           95.16799926757812,
           5.223878851264527
          ],
          [
           2008,
           2389.411,
           0,
           0
          ],
          [
           2464,
           3959.147,
           158.9080047607422,
           4.013693045812646
          ],
          [
           1834,
           2725.728,
           0,
           0
          ],
          [
           742,
           3378.902,
           121.90599822998047,
           3.60785829520211
          ],
          [
           1017,
           3491.885,
           253.8280029296875,
           7.269082682061407
          ],
          [
           1156,
           2254.605,
           94.6510009765625,
           4.198118787714478
          ],
          [
           1093,
           1848.683,
           163.322998046875,
           8.83455941591257
          ],
          [
           1325,
           2565.967,
           187.52499389648438,
           7.308161016879796
          ],
          [
           1055,
           1842.536,
           95.82500457763672,
           5.200712496255162
          ],
          [
           931,
           1975.051,
           115.50699615478516,
           5.8483042811299555
          ],
          [
           830,
           1539.111,
           114.0459976196289,
           7.409861672988497
          ],
          [
           951,
           10345.011,
           108.95899963378906,
           1.0532516969411632
          ],
          [
           936,
           13742.875,
           107.91500091552734,
           0.7852432624177983
          ],
          [
           1394,
           2669.369,
           159.593994140625,
           5.9787160988467685
          ],
          [
           1073,
           1335.446,
           135.197998046875,
           10.123808678664282
          ],
          [
           1110,
           7980.814,
           242.58599853515625,
           3.039614707143281
          ],
          [
           1049,
           96243.712,
           205.05999755859375,
           0.21306327004511214
          ],
          [
           1235,
           3003.12,
           223.66799926757812,
           7.447854491745252
          ],
          [
           1041,
           2158.465,
           81.86000061035156,
           3.7925099549911625
          ],
          [
           990,
           2504.208,
           108.81299591064453,
           4.345206071016265
          ],
          [
           1013,
           1544.287,
           83.69599914550781,
           5.419717713983864
          ],
          [
           795,
           1722.392,
           149.46800231933594,
           8.677931507280283
          ],
          [
           748,
           1392.225,
           89.66300201416016,
           6.4402663396272155
          ],
          [
           870,
           1396.015,
           49.073001861572266,
           3.5152203185272004
          ],
          [
           1976,
           3352.663,
           240.13800048828125,
           7.162605004216052
          ],
          [
           2776,
           4199.307,
           161.09800720214844,
           3.8362998421525267
          ],
          [
           1891,
           2743.71,
           193.50999450683594,
           7.052859084961603
          ],
          [
           1244,
           4455.05,
           177.8560028076172,
           3.9922334450511214
          ],
          [
           1044,
           5090.384,
           117.36699676513672,
           2.305660873275965
          ],
          [
           1057,
           1511.66,
           124.3219985961914,
           8.22420398456829
          ],
          [
           948,
           1377.384,
           87.75599670410156,
           6.371207745534288
          ],
          [
           982,
           2284.021,
           196.5709991455078,
           8.606356775780519
          ],
          [
           651,
           1836.082,
           80.35700225830078,
           4.376547559048288
          ],
          [
           1177,
           3016.609,
           890.5360107421875,
           29.52109523060496
          ],
          [
           910,
           46274.341,
           70.25299835205078,
           0.15181847332385565
          ],
          [
           735,
           1546.48,
           100.01000213623047,
           6.46694428637939
          ],
          [
           1330,
           3184.984,
           167.70399475097656,
           5.265458285073017
          ],
          [
           1059,
           1071.886,
           82.61699676513672,
           7.707628627251406
          ],
          [
           1399,
           3073.087,
           103.04100036621094,
           3.3530126577526116
          ],
          [
           899,
           37185.842,
           90.21800231933594,
           0.2426138368653183
          ],
          [
           1013,
           1895.036,
           101.65599822998047,
           5.3643306034159774
          ],
          [
           1574,
           2174.269,
           126.51399993896484,
           5.818691427153219
          ],
          [
           1087,
           1906.033,
           123.22000122070312,
           6.464735920102118
          ],
          [
           774,
           26440.382,
           110.54299926757812,
           0.4180839673453848
          ],
          [
           1907,
           42185.207,
           0,
           0
          ],
          [
           2296,
           6837.584,
           393.9280090332031,
           5.761216356720444
          ],
          [
           1324,
           2895.635,
           177.0709991455078,
           6.115100697903913
          ],
          [
           715,
           1554.474,
           100.85299682617188,
           6.487917973981874
          ],
          [
           1233,
           4314.021,
           222.60400390625,
           5.160012060818666
          ],
          [
           1083,
           1347.536,
           68.41699981689453,
           5.07719288784307
          ],
          [
           775,
           1185.999,
           90.5780029296875,
           7.637275226412501
          ],
          [
           1150,
           1410.344,
           94.02400207519531,
           6.666742575304323
          ],
          [
           983,
           1938.629,
           96.47699737548828,
           4.976558276654533
          ],
          [
           1195,
           1799.153,
           114.3740005493164,
           6.357102698116836
          ],
          [
           855,
           14736.376,
           178.0749969482422,
           1.2084042915300206
          ],
          [
           855,
           1481.246,
           83.40799713134766,
           5.630934905267254
          ],
          [
           873,
           4229.81,
           75.60600280761719,
           1.7874561972420153
          ],
          [
           1099,
           2605.868,
           94.71900177001953,
           3.6348350686316424
          ],
          [
           960,
           1578.311,
           96.84600067138672,
           6.136052786412184
          ],
          [
           911,
           1108.388,
           93.32499694824219,
           8.419885455273786
          ],
          [
           861,
           1395.251,
           136.45599365234375,
           9.780032129971596
          ],
          [
           1010,
           1789.54,
           135.58900451660156,
           7.576751785724264
          ],
          [
           779,
           2245.679,
           129.1230010986328,
           5.749842165637876
          ],
          [
           801,
           1111.526,
           84.21700286865234,
           7.576701035614551
          ],
          [
           852,
           1800.77,
           128.06700134277344,
           7.111791175615154
          ],
          [
           1055,
           1851.725,
           122.15599822998047,
           6.596875675046241
          ],
          [
           922,
           1958.096,
           176.30299377441406,
           9.003796968138948
          ],
          [
           832,
           1699.985,
           125.29000091552734,
           7.370065029985559
          ],
          [
           1124,
           13317.422,
           163.80999755859375,
           1.2300428716608964
          ],
          [
           909,
           1477.242,
           65.74500274658203,
           4.450523670651965
          ],
          [
           1163,
           2219.732,
           124.81800079345703,
           5.6231111704870225
          ],
          [
           1667,
           1498.891,
           118.15699768066406,
           7.882961599817798
          ],
          [
           715,
           2075.748,
           148.54598999023438,
           7.156263011122978
          ],
          [
           2285,
           2196.723,
           167.2429962158203,
           7.613294360793327
          ],
          [
           1443,
           6006.65,
           260.13800048828125,
           4.3308334564607565
          ],
          [
           1061,
           3065.315,
           199.54400634765625,
           6.5097389307868845
          ],
          [
           1313,
           1302.797,
           81.09400177001953,
           6.224607817353739
          ],
          [
           2165,
           1914.687,
           125.54100036621094,
           6.556737267958158
          ],
          [
           1039,
           8116.817,
           220.55099487304688,
           2.7172104051840766
          ],
          [
           1468,
           1761.899,
           119.88999938964844,
           6.804589820415359
          ],
          [
           999,
           2100.274,
           97.70099639892578,
           4.651821433477251
          ],
          [
           798,
           1931.898,
           55.12799835205078,
           2.853566702117555
          ],
          [
           961,
           2161.106,
           133.6219940185547,
           6.183037397864797
          ],
          [
           875,
           1330.011,
           123.5250015258789,
           9.287517170910617
          ],
          [
           1080,
           1703.125,
           89.13899993896484,
           5.233849770642202
          ],
          [
           1025,
           1256.946,
           106.23799896240234,
           8.45207336248932
          ],
          [
           1063,
           3540.182,
           142.97500610351562,
           4.038634447766387
          ],
          [
           727,
           1501.636,
           97.25399780273438,
           6.47653586758875
          ],
          [
           664,
           1694.253,
           115.61000061035156,
           6.823656207189836
          ],
          [
           807,
           2187.602,
           114.06100463867188,
           5.213974290541652
          ],
          [
           970,
           2589.361,
           147.13699340820312,
           5.682366892352978
          ],
          [
           1293,
           1379.53,
           81.48200225830078,
           5.90650453075504
          ],
          [
           807,
           2104.809,
           165.59300231933594,
           7.867365058420977
          ],
          [
           1084,
           2227.987,
           94.22599792480469,
           4.229198648544628
          ],
          [
           851,
           1845.381,
           116.8499984741211,
           6.332025744277198
          ],
          [
           898,
           1707.491,
           86.23400115966797,
           5.050334315451736
          ],
          [
           1621,
           9030.286,
           159.62399291992188,
           1.767651590886767
          ],
          [
           914,
           1167.762,
           84.5,
           7.23606351294185
          ],
          [
           921,
           1087.942,
           94.06999969482422,
           8.646600645990318
          ],
          [
           1123,
           1819.962,
           75.4530029296875,
           4.145855953568674
          ],
          [
           1071,
           2039.425,
           69.15899658203125,
           3.3911025970861886
          ],
          [
           697,
           1607.983,
           116.00499725341797,
           7.214317564302608
          ],
          [
           1267,
           2720.844,
           84.76899719238281,
           3.11554040366243
          ],
          [
           1370,
           3330.2,
           138.7270050048828,
           4.165725840884181
          ],
          [
           1003,
           2224.649,
           119.47000122070312,
           5.370285379850934
          ],
          [
           1061,
           1359.893,
           89.61299896240234,
           6.589709487943169
          ],
          [
           1560,
           3468.327,
           145.5850067138672,
           4.197557201660195
          ],
          [
           1151,
           2136.746,
           216.14599609375,
           10.115661669367814
          ],
          [
           919,
           1757.904,
           93.55899810791016,
           5.322190184482486
          ],
          [
           1379,
           2208.598,
           182.73699951171875,
           8.273891047057907
          ],
          [
           898,
           1141.94,
           64.41100311279297,
           5.6404890779342605
          ],
          [
           2020,
           2930.383,
           227.9929962158203,
           7.780313640955807
          ],
          [
           999,
           1978.388,
           112.13999938964844,
           5.668251121620228
          ],
          [
           1081,
           4357.703,
           154.75799560546875,
           3.551366351650743
          ],
          [
           1330,
           3014.39,
           146.52099609375,
           4.860717959313493
          ],
          [
           1267,
           3670.764,
           194.2239990234375,
           5.29110571821697
          ],
          [
           909,
           4350.367,
           122.14399719238281,
           2.807671034205275
          ],
          [
           2646,
           2881.236,
           223.3209991455078,
           7.750874836138033
          ],
          [
           1139,
           3728.65,
           212.62100219726562,
           5.702358657791694
          ],
          [
           1561,
           3503.081,
           247.99600219726562,
           7.079368021857045
          ],
          [
           1759,
           1591.944,
           117.42500305175781,
           7.376201675435819
          ],
          [
           990,
           2130.996,
           126.93399810791016,
           5.95655712824543
          ],
          [
           1006,
           78584.266,
           129.8350067138672,
           0.16521756373677268
          ],
          [
           1256,
           6301.15,
           321.32501220703125,
           5.09946628046071
          ],
          [
           1801,
           7440.682,
           102.21600341796875,
           1.3737451198609887
          ],
          [
           1206,
           3021.705,
           230.78399658203125,
           7.637542510147417
          ],
          [
           1010,
           1562.486,
           152.58200073242188,
           9.765335622407177
          ],
          [
           1530,
           4159.024,
           167.07000732421875,
           4.017048230546397
          ],
          [
           2093,
           5439.471,
           239.7949981689453,
           4.408425010446789
          ],
          [
           902,
           1429.613,
           98.69499969482422,
           6.903616573156511
          ],
          [
           938,
           3037.637,
           771.4869995117188,
           25.397604494875456
          ],
          [
           905,
           1405.827,
           134.91400146484375,
           9.596771431068687
          ],
          [
           1479,
           2706.043,
           151.83799743652344,
           5.611071148790873
          ],
          [
           1038,
           3254.609,
           165.73699951171875,
           5.092377984191035
          ],
          [
           1169,
           2257.494,
           144.42300415039062,
           6.397492432427284
          ],
          [
           1829,
           1802.95,
           95.05400085449219,
           5.272137547144957
          ],
          [
           760,
           1180.836,
           86.16300201416016,
           7.2967794043266805
          ],
          [
           1476,
           2542.315,
           68.7770004272461,
           2.7052903339328527
          ],
          [
           954,
           1344.584,
           97.41300201416016,
           7.244842869383764
          ],
          [
           829,
           1619.142,
           108.45600128173828,
           6.69836282792831
          ],
          [
           926,
           1154.863,
           89.33499908447266,
           7.73554958466935
          ],
          [
           2632,
           3943.154,
           293.1390075683594,
           7.434125167473804
          ],
          [
           1272,
           3572.022,
           264.1610107421875,
           7.395279637835378
          ],
          [
           1079,
           5694.886,
           79.72899627685547,
           1.4000103626415874
          ],
          [
           1467,
           3128.819,
           257.20001220703125,
           8.220354693935635
          ],
          [
           843,
           2851.398,
           178.6280059814453,
           6.264576457320233
          ],
          [
           819,
           1765.02,
           118.31199645996094,
           6.70315306271317
          ],
          [
           987,
           4538.231,
           824.8599853515625,
           18.175804625194267
          ],
          [
           1018,
           2402.995,
           168.7830047607422,
           7.023860133396033
          ],
          [
           1666,
           1829.139,
           129.8350067138672,
           7.098148897684922
          ],
          [
           1180,
           1618.418,
           143.78700256347656,
           8.88441687828021
          ],
          [
           1196,
           2556.001,
           125.33399963378906,
           4.903519361152441
          ],
          [
           921,
           1231.681,
           74.96099853515625,
           6.086072294185751
          ],
          [
           1057,
           4335.411,
           140.4860076904297,
           3.240431088525978
          ],
          [
           1462,
           1891.108,
           126.38299560546875,
           6.683013241278394
          ],
          [
           1199,
           2539.963,
           169.885009765625,
           6.688483257433277
          ],
          [
           1034,
           3192.204,
           155.44900512695312,
           4.869645044810732
          ],
          [
           877,
           1790.935,
           151.60400390625,
           8.46507572336517
          ],
          [
           863,
           2146.319,
           142.91900634765625,
           6.6587960087130575
          ],
          [
           1100,
           6406.76,
           110.74099731445312,
           1.728502333375216
          ],
          [
           1052,
           1877.464,
           0,
           0
          ],
          [
           785,
           1424.06,
           76.87100219726562,
           5.398017006064527
          ],
          [
           926,
           2947.673,
           140.79600524902344,
           4.776513740139256
          ],
          [
           936,
           1337.206,
           75.45500183105469,
           5.642735674234188
          ],
          [
           1052,
           1946.554,
           113.947998046875,
           5.853831850895223
          ],
          [
           1341,
           2204.378,
           186.6389923095703,
           8.46674138351045
          ],
          [
           999,
           2511.068,
           178.42300415039062,
           7.10546300667684
          ],
          [
           1295,
           2275.584,
           121.86499786376953,
           5.355328566205423
          ],
          [
           908,
           1558.022,
           146.78199768066406,
           9.421048095156872
          ],
          [
           1632,
           13576.138,
           314.71099853515625,
           2.3181187175156146
          ],
          [
           1117,
           1526.373,
           95.58799743652344,
           6.262427207954739
          ],
          [
           892,
           3364.619,
           191.8780059814453,
           5.702815320620254
          ],
          [
           1145,
           2537.542,
           398.3110046386719,
           15.696726029559315
          ],
          [
           2574,
           1965.387,
           129.55299377441406,
           6.591729671910672
          ],
          [
           911,
           4914.996,
           111.96700286865234,
           2.2780690351146777
          ],
          [
           1416,
           678.976,
           39.93600082397461,
           5.881798616823349
          ],
          [
           945,
           1400.447,
           82.64599609375,
           5.901401202169736
          ],
          [
           850,
           2547.417,
           144.99600219726562,
           5.691883419925949
          ],
          [
           865,
           1511.304,
           106.8499984741211,
           7.070053410829323
          ],
          [
           956,
           2080.694,
           135.58599853515625,
           6.516383288160104
          ],
          [
           1939,
           9921.285,
           0,
           0
          ],
          [
           885,
           1641.238,
           88.58300018310547,
           5.397327995505527
          ],
          [
           892,
           1780.224,
           128.6479949951172,
           7.226506217581327
          ],
          [
           1177,
           2582.192,
           154.14199829101562,
           5.969424502636714
          ],
          [
           1216,
           2833.684,
           160.15499877929688,
           5.651829914697616
          ],
          [
           1472,
           2519.239,
           148.35899353027344,
           5.8890400688709965
          ],
          [
           824,
           1261.239,
           59.005001068115234,
           4.678336144061514
          ],
          [
           853,
           2208.506,
           132.0260009765625,
           5.978068254908522
          ],
          [
           1404,
           798.166,
           34.75899887084961,
           4.354858390790574
          ],
          [
           956,
           2712.4,
           161.8330078125,
           5.966413796361156
          ],
          [
           840,
           1039.584,
           56.43600082397461,
           5.428710039454484
          ],
          [
           786,
           2220.695,
           163.62600708007812,
           7.368234082545103
          ],
          [
           723,
           2090.541,
           68.40299987792969,
           3.2720237511187293
          ],
          [
           1181,
           1662.335,
           113.61499786376953,
           6.834663289890425
          ],
          [
           1032,
           1751.768,
           96.99600219726562,
           5.5370349189718615
          ],
          [
           2448,
           67531.247,
           186.60499572753906,
           0.27632393638458946
          ],
          [
           1019,
           67249.379,
           82.54299926757812,
           0.12274165096286614
          ],
          [
           1013,
           1361.809,
           97.40499877929688,
           7.152618318721641
          ],
          [
           1042,
           2637.6,
           133.8179931640625,
           5.073475442874204
          ],
          [
           1005,
           2682.732,
           155.83499145507812,
           5.808816916276952
          ],
          [
           889,
           1631.187,
           96.49700164794922,
           5.915753494426145
          ],
          [
           923,
           1092.888,
           73.07499694824219,
           6.686412067584922
          ],
          [
           972,
           2320.23,
           51.02399826049805,
           2.1990922892746623
          ],
          [
           1040,
           1999.875,
           162.7779998779297,
           8.139408615382212
          ],
          [
           740,
           1386.222,
           40.66999816894531,
           2.933873330432914
          ],
          [
           853,
           6013.788,
           261.3280029296875,
           4.345480881808604
          ],
          [
           1223,
           7412.097,
           5076.47021484375,
           68.48898918214373
          ],
          [
           1240,
           2352.324,
           138.39700317382812,
           5.883415802972932
          ],
          [
           928,
           4793.436,
           102.16400146484375,
           2.1313313436593293
          ],
          [
           1626,
           2388.679,
           163.6790008544922,
           6.8522812779050675
          ],
          [
           767,
           66347.266,
           82.12200164794922,
           0.12377601505557892
          ],
          [
           1447,
           12407.255,
           218.14199829101562,
           1.758180936778522
          ],
          [
           720,
           1544.164,
           120.47900390625,
           7.802215561705234
          ],
          [
           1469,
           4776.918,
           122.9800033569336,
           2.5744632836485786
          ],
          [
           1016,
           1808.943,
           107.14299774169922,
           5.922961533164671
          ],
          [
           1035,
           2362.637,
           159.44500732421875,
           6.748603774749358
          ],
          [
           1524,
           3040.922,
           216.56800842285156,
           7.121787662179431
          ],
          [
           902,
           2151.709,
           100.84500122070312,
           4.686739703184771
          ],
          [
           1075,
           1880.095,
           147.83599853515625,
           7.863219469960295
          ],
          [
           927,
           2288.062,
           156.06399536132812,
           6.8207939356811575
          ],
          [
           888,
           1511.164,
           104.83499908447266,
           6.937367486255628
          ],
          [
           1735,
           1548.147,
           0,
           0
          ],
          [
           915,
           4283.677,
           76.177001953125,
           1.7783087275983929
          ],
          [
           1190,
           1970.441,
           116.60400390625,
           5.917660255052041
          ],
          [
           1299,
           2000.308,
           191.5449981689453,
           9.575775330599088
          ],
          [
           2906,
           2944.746,
           231.86500549316406,
           7.873853975860736
          ],
          [
           1413,
           7341.484,
           64.40399932861328,
           0.877261314244334
          ],
          [
           904,
           1144.017,
           48.26100158691406,
           4.218556278146434
          ],
          [
           848,
           2112.75,
           108.90599822998047,
           5.1547034004851495
          ],
          [
           1267,
           2677.236,
           118.85399627685547,
           4.4394291030236035
          ],
          [
           1167,
           1380.1,
           77.93800354003906,
           5.647272149096986
          ],
          [
           1074,
           4786.769,
           98.73300170898438,
           2.0626229936492653
          ],
          [
           1859,
           1800.682,
           116.46700286865234,
           6.467938367414402
          ],
          [
           938,
           2193.348,
           98.14800262451172,
           4.474802815005872
          ],
          [
           1132,
           2011.241,
           115.3010025024414,
           5.732828927979043
          ],
          [
           1061,
           1611.567,
           98.64399719238281,
           6.120998639251424
          ],
          [
           710,
           1474.288,
           148.98399353027344,
           10.105487811107803
          ],
          [
           986,
           2355.689,
           134.80599975585938,
           5.7225718714885545
          ],
          [
           683,
           1489.562,
           84.66500091552734,
           5.6838855985853565
          ],
          [
           1945,
           54848.529,
           140.5590057373047,
           0.2562675908888094
          ],
          [
           2363,
           18932.365,
           167.99099731445312,
           0.8873217693286073
          ],
          [
           1703,
           5519.641,
           378.739013671875,
           6.861660449248421
          ],
          [
           899,
           5433.566,
           174.24400329589844,
           3.206807534982551
          ],
          [
           880,
           3050.177,
           168.26699829101562,
           5.516630418087212
          ],
          [
           940,
           1940.834,
           67.46900177001953,
           3.4762892605060505
          ],
          [
           1084,
           15539.984,
           146.13699340820312,
           0.9403934533491154
          ],
          [
           852,
           893.292,
           70.572998046875,
           7.900328005498202
          ],
          [
           773,
           1602.371,
           59.055999755859375,
           3.685538553591053
          ],
          [
           1850,
           2220.893,
           110.93199920654297,
           4.994927803956561
          ],
          [
           1063,
           3044.609,
           151.7989959716797,
           4.985828858176042
          ],
          [
           1486,
           1780.303,
           99.94100189208984,
           5.613707658717364
          ],
          [
           1093,
           64278.247,
           120.052001953125,
           0.18676925329516997
          ],
          [
           803,
           2288.29,
           126.75499725341797,
           5.539289163523854
          ],
          [
           1114,
           2621.525,
           160.85699462890625,
           6.136008322922726
          ],
          [
           1166,
           2933.538,
           198.42999267578125,
           6.764187135124891
          ],
          [
           1095,
           4167.129,
           187.7830047607422,
           4.506292169320893
          ],
          [
           816,
           1808.779,
           174.7830047607422,
           9.663038315487961
          ],
          [
           1740,
           2388.402,
           187.71800231933594,
           7.859565006749283
          ],
          [
           978,
           2497.064,
           133.48699951171875,
           5.345758136480483
          ],
          [
           1037,
           2325.687,
           233.99398803710938,
           10.061284445198345
          ],
          [
           802,
           2046.706,
           131.91099548339844,
           6.44503881328095
          ],
          [
           974,
           2956.758,
           128.1280059814453,
           4.333395151463191
          ],
          [
           1126,
           1815.241,
           118.7020034790039,
           6.539186915298024
          ],
          [
           941,
           1223.273,
           105.69100189208984,
           8.640017874944922
          ],
          [
           819,
           1552.268,
           102.5479965209961,
           6.60633331659707
          ],
          [
           1015,
           1810.935,
           144.43600463867188,
           7.975769746532869
          ],
          [
           761,
           1512.376,
           89.06099700927734,
           5.888813105586839
          ],
          [
           1017,
           17797.926,
           196.5659942626953,
           1.1044320337872515
          ],
          [
           815,
           787.584,
           51.47800064086914,
           6.536192067092209
          ],
          [
           744,
           429372.786,
           174.5570068359375,
           0.040653953257007304
          ],
          [
           914,
           1130.402,
           101.3219985961914,
           8.963360110219638
          ],
          [
           866,
           1668.78,
           108.37000274658203,
           6.49396565155383
          ],
          [
           808,
           3222.708,
           80.96800231933594,
           2.512421321748278
          ],
          [
           973,
           2219.539,
           113.46399688720703,
           5.11205228385827
          ],
          [
           1359,
           2221.152,
           115.63200378417969,
           5.205947272096867
          ],
          [
           980,
           1813.957,
           106.91000366210938,
           5.893745000570576
          ],
          [
           773,
           1939.949,
           141.31900024414062,
           7.284676241810995
          ],
          [
           1018,
           3974.074,
           165.8939971923828,
           4.174406513473327
          ],
          [
           1362,
           1421.008,
           73.66799926757812,
           5.1842071295077155
          ],
          [
           955,
           2196.187,
           99.15399932861328,
           4.514825190489244
          ],
          [
           776,
           1798.169,
           231.9759979248047,
           12.900678195083442
          ],
          [
           1234,
           1792.67,
           127.59200286865234,
           7.117428302650516
          ],
          [
           833,
           1021.919,
           62.802001953125,
           6.145497045570638
          ],
          [
           1300,
           4437.516,
           152.5260009765625,
           3.4371931525148307
          ],
          [
           974,
           19431.461,
           111.91500091552734,
           0.5759474287599888
          ],
          [
           1039,
           3477.548,
           189.72900390625,
           5.455827034055318
          ],
          [
           961,
           3721.24,
           132.8209991455078,
           3.5692671285310813
          ],
          [
           819,
           1074.593,
           73.97200012207031,
           6.8837226701760565
          ],
          [
           1078,
           2165.543,
           137.09500122070312,
           6.3307447600901945
          ],
          [
           950,
           5808.006,
           124.14299774169922,
           2.1374461053737717
          ],
          [
           1133,
           1713.559,
           171.6949920654297,
           10.019789222314493
          ],
          [
           1457,
           2389.106,
           97.2229995727539,
           4.069430073294153
          ],
          [
           1029,
           1246.666,
           85.1259994506836,
           6.828292108211021
          ],
          [
           1610,
           2898.537,
           199.78199768066406,
           6.892511366510071
          ],
          [
           761,
           1720.866,
           139.9530029296875,
           8.13270805585676
          ],
          [
           937,
           1914.529,
           112.94400024414062,
           5.899310164863003
          ],
          [
           1482,
           7186.058,
           276.927001953125,
           3.8536704294273716
          ],
          [
           1182,
           2753.709,
           138.447998046875,
           5.027691671373955
          ],
          [
           971,
           5938.781,
           78.29100036621094,
           1.3183008596640033
          ],
          [
           1289,
           5394.49,
           106.14399719238281,
           1.9676372398618776
          ],
          [
           1271,
           3179.353,
           185.71800231933594,
           5.841377406425144
          ],
          [
           1092,
           2071.071,
           96.34200286865234,
           4.651796194004214
          ],
          [
           1059,
           5078.81,
           123.04499816894531,
           2.4227131946263
          ],
          [
           1859,
           2427.92,
           103.10099792480469,
           4.246474187524712
          ],
          [
           1160,
           1598.237,
           120.91100311279297,
           7.565273852336981
          ],
          [
           1062,
           793.626,
           0,
           0
          ],
          [
           1717,
           3116.751,
           147.30300903320312,
           4.726171831259538
          ],
          [
           1299,
           1164.2,
           64.56700134277344,
           5.546040367043893
          ],
          [
           2209,
           3521.401,
           158.91500854492188,
           4.512834799718209
          ],
          [
           2153,
           5179.708,
           194.8330078125,
           3.761467013439754
          ],
          [
           1263,
           3207.571,
           153.59500122070312,
           4.788514424154602
          ],
          [
           1222,
           1015.869,
           55.33300018310547,
           5.446863527371639
          ],
          [
           1081,
           1981.963,
           112.96800231933594,
           5.699803580938443
          ],
          [
           774,
           1990.387,
           57.15800094604492,
           2.871702986890866
          ],
          [
           1452,
           2085.237,
           177.23399353027344,
           8.499464779063482
          ],
          [
           1772,
           1065.76,
           53.64099884033203,
           5.033121995248695
          ],
          [
           1905,
           4090.877,
           284.0469970703125,
           6.943425387453595
          ],
          [
           926,
           1661.36,
           78.4489974975586,
           4.721974708879322
          ],
          [
           1651,
           2577.266,
           172.02499389648438,
           6.6747087805449645
          ],
          [
           830,
           1296.765,
           95.66500091552734,
           7.377204042366967
          ],
          [
           1066,
           1344.901,
           58.70399856567383,
           4.364930877695644
          ],
          [
           1518,
           6823.996,
           138.46099853515625,
           2.0290310265971727
          ],
          [
           906,
           3805.985,
           271.9540100097656,
           7.145430260661826
          ],
          [
           910,
           1802.964,
           146.72300720214844,
           8.137877839629633
          ],
          [
           1962,
           4321.812,
           218.35899353027344,
           5.052486882238283
          ],
          [
           1322,
           2455.659,
           110.03900146484375,
           4.481037632108122
          ],
          [
           1453,
           1726.929,
           94.14099884033203,
           5.451353014151132
          ],
          [
           931,
           1457.558,
           69.2490005493164,
           4.75102870852738
          ],
          [
           1279,
           161629.94,
           129.93600463867188,
           0.08039104998701045
          ],
          [
           825,
           2891.94,
           180.45399475097656,
           6.239894462065257
          ],
          [
           983,
           1324.238,
           93.51599884033203,
           7.06187226871227
          ],
          [
           861,
           1178.397,
           128.86700439453125,
           10.935788359366581
          ],
          [
           1304,
           1426.982,
           112.25199890136719,
           7.866392284774791
          ],
          [
           783,
           1581.847,
           101.25800323486328,
           6.4012516894807145
          ],
          [
           976,
           3369.536,
           119.85700225830078,
           3.5570773528795954
          ],
          [
           1306,
           563.35,
           27.861000061035156,
           4.945593498990414
          ],
          [
           1634,
           1686.603,
           118.81500244140625,
           7.044633502964242
          ],
          [
           985,
           1492.403,
           85.59100341796875,
           5.7351134954415794
          ],
          [
           1021,
           1588.728,
           101.3290023803711,
           6.37799572401632
          ],
          [
           977,
           2947.154,
           103.37100219726562,
           3.507485725529613
          ],
          [
           1033,
           1789.861,
           120.60700225830078,
           6.738344595090065
          ],
          [
           1070,
           716.708,
           52.869998931884766,
           7.376783850605825
          ],
          [
           916,
           2099.537,
           91.1719970703125,
           4.342480851135274
          ],
          [
           1294,
           1529.225,
           68.59700012207031,
           4.485736366664487
          ],
          [
           1229,
           2440.64,
           154.63699340820312,
           6.335919766434214
          ],
          [
           1739,
           5648.137,
           113.1510009765625,
           2.0033330652877224
          ],
          [
           691,
           1312.197,
           65.29100036621094,
           4.975701131504073
          ],
          [
           1011,
           2577.447,
           309.3089904785156,
           12.00059533231915
          ],
          [
           996,
           1666.415,
           131.11700439453125,
           7.8682082166282115
          ],
          [
           1371,
           3049.046,
           180.68699645996094,
           5.92601725875897
          ],
          [
           2140,
           7131.135,
           690.738037109375,
           9.686228726212587
          ],
          [
           1090,
           1730.038,
           132.08799743652344,
           7.634976691082797
          ],
          [
           891,
           1363.236,
           92.83300018310547,
           6.809752533447987
          ],
          [
           758,
           3919.79,
           141.177001953125,
           3.601647076836387
          ],
          [
           1042,
           5911.473,
           184.70199584960938,
           3.124466477094626
          ],
          [
           826,
           1892.221,
           70.1050033569336,
           3.7049057632703843
          ],
          [
           1506,
           1442.286,
           87.1500015258789,
           6.042490879062821
          ],
          [
           1172,
           3183.019,
           228.43499755859375,
           7.176677236296737
          ],
          [
           1083,
           3624.99,
           170.32899475097656,
           4.698744104294081
          ],
          [
           1500,
           1754.122,
           209.94300842285156,
           11.96855223368158
          ],
          [
           923,
           1237.632,
           62.99799728393555,
           5.090204361787268
          ],
          [
           1675,
           2650.467,
           217.08900451660156,
           8.190594484151283
          ],
          [
           1237,
           2807.92,
           183.2729949951172,
           6.527001776448403
          ],
          [
           795,
           1282.841,
           84.82499694824219,
           6.612276969632246
          ],
          [
           908,
           1313.968,
           139.83299255371094,
           10.642039096937673
          ],
          [
           1293,
           22805.669,
           126.50399780273438,
           0.5547041577277342
          ],
          [
           1227,
           2199.376,
           303.260009765625,
           13.788456362168178
          ],
          [
           1380,
           6414.2,
           121.68699645996094,
           1.8971499514748527
          ],
          [
           1328,
           1587.731,
           105.03500366210938,
           6.6154153316903175
          ],
          [
           1585,
           3151.535,
           223.20700073242188,
           7.082484953760628
          ],
          [
           994,
           4108.554,
           752.9209594726562,
           18.325691654533443
          ],
          [
           1006,
           2275.817,
           86.12899780273438,
           3.784530748325766
          ],
          [
           1332,
           3146.66,
           168.2030029296875,
           5.345445895409736
          ],
          [
           890,
           1848.27,
           103.32499694824219,
           5.590362879882268
          ],
          [
           795,
           1379.336,
           77.44499969482422,
           5.614658067359947
          ],
          [
           894,
           1083.763,
           59.71799850463867,
           5.510245140946407
          ],
          [
           984,
           1389.071,
           101.64300537109375,
           7.31733711325771
          ],
          [
           1635,
           2103.042,
           166.0489959716797,
           7.895657999519268
          ],
          [
           1190,
           1911.477,
           117.05699920654297,
           6.123903240955816
          ],
          [
           888,
           1224.865,
           73.95600128173828,
           6.037889969634409
          ],
          [
           1662,
           1954.496,
           102.43599700927734,
           5.2410440386549775
          ],
          [
           854,
           3930.535,
           106.56099700927734,
           2.711106658349309
          ],
          [
           1011,
           1951.854,
           116.08100128173828,
           5.947217663789146
          ],
          [
           985,
           1860.554,
           119.52299499511719,
           6.4240542358284145
          ],
          [
           951,
           1559.211,
           122.552001953125,
           7.859872842939474
          ],
          [
           1357,
           1568.373,
           101.69000244140625,
           6.4837892516639855
          ],
          [
           1155,
           3259.284,
           185.31500244140625,
           5.685757976291725
          ],
          [
           947,
           1006.558,
           0,
           0
          ],
          [
           822,
           1919.398,
           69.6259994506836,
           3.6274915872873943
          ],
          [
           794,
           1802.092,
           113.56600189208984,
           6.301898341448439
          ],
          [
           922,
           3327.374,
           132.1820068359375,
           3.972562498797851
          ],
          [
           1172,
           1155.676,
           0,
           0
          ],
          [
           880,
           1769.847,
           60.983001708984375,
           3.4456652427971175
          ],
          [
           989,
           4319.401,
           92.73100280761719,
           2.146848738039719
          ],
          [
           1036,
           1602.04,
           152.97000122070312,
           9.54845072532521
          ],
          [
           812,
           1362.009,
           133.9770050048828,
           9.836719284022719
          ],
          [
           934,
           2292.096,
           152.2010040283203,
           6.640254416018133
          ],
          [
           828,
           1348.354,
           82.85599517822266,
           6.1449735079771335
          ],
          [
           1076,
           2634.655,
           159.5,
           6.053923568740498
          ],
          [
           1050,
           1957.806,
           101.34600067138672,
           5.176508606764409
          ],
          [
           1723,
           1891.713,
           152.50799560546875,
           8.061899349789053
          ],
          [
           1744,
           2897.368,
           143.25,
           4.944142407868107
          ],
          [
           1077,
           3244.102,
           125.12100219726562,
           3.856876444062949
          ],
          [
           1178,
           11004.502,
           133.71299743652344,
           1.2150754122892158
          ],
          [
           1117,
           1089.332,
           55.119998931884766,
           5.059981713563908
          ],
          [
           1122,
           13894.005,
           149.11900329589844,
           1.0732614815256654
          ],
          [
           1769,
           2747.783,
           188.29200744628906,
           6.852506610556583
          ],
          [
           907,
           57994.659,
           2617.550048828125,
           4.5134328662920495
          ],
          [
           1158,
           1975.943,
           135.0260009765625,
           6.833496517548836
          ],
          [
           846,
           2324.231,
           175.5709991455078,
           7.553939177893676
          ],
          [
           776,
           2651.666,
           97.46199798583984,
           3.675500683461831
          ],
          [
           734,
           1317.294,
           92.66000366210938,
           7.03411690936116
          ],
          [
           949,
           1412.498,
           97.00900268554688,
           6.867903806323973
          ],
          [
           874,
           65519.297,
           105.3740005493164,
           0.16082895991123042
          ],
          [
           992,
           960.991,
           59.75699996948242,
           6.2182686365559094
          ],
          [
           1102,
           1016.166,
           58.64699935913086,
           5.771399266489185
          ],
          [
           1967,
           2329.791,
           0,
           0
          ],
          [
           789,
           1479.321,
           77.26499938964844,
           5.223004337800924
          ],
          [
           1236,
           2826.358,
           166.2570037841797,
           5.882376249532083
          ],
          [
           880,
           1982.736,
           99.0270004272461,
           4.994462296197023
          ],
          [
           1109,
           2359.63,
           138.29400634765625,
           5.8608342793679515
          ],
          [
           986,
           1446.699,
           69.43900299072266,
           4.799823868423908
          ],
          [
           2355,
           4327.412,
           323.7330017089844,
           7.4809841959235674
          ],
          [
           1272,
           1554.955,
           104.55899810791016,
           6.724245662454862
          ],
          [
           963,
           5307.032,
           141.02099609375,
           2.657247894750776
          ],
          [
           920,
           1710.115,
           97.69599914550781,
           5.712831949532633
          ],
          [
           788,
           60160.798,
           133.7050018310547,
           0.22224605464841074
          ],
          [
           995,
           2437.292,
           105.00599670410156,
           4.308305943389221
          ],
          [
           944,
           4620.926,
           101.3689956665039,
           2.1936943837798957
          ],
          [
           771,
           1134.312,
           76.48799896240234,
           6.743118123309548
          ],
          [
           803,
           1345.167,
           62.215999603271484,
           4.625150704452496
          ],
          [
           945,
           11578.347,
           10154.64453125,
           87.70374885983293
          ],
          [
           975,
           2520.01,
           211.02700805664062,
           8.37405453624192
          ],
          [
           909,
           1463.574,
           119.96199798583984,
           8.196510866763484
          ],
          [
           1169,
           2771.595,
           147.19200134277344,
           5.310732699154278
          ],
          [
           807,
           974.111,
           66.26699829101562,
           6.8028178585718155
          ],
          [
           808,
           1774,
           97.60900115966797,
           5.502198641840473
          ],
          [
           759,
           1422.272,
           91.42500305175781,
           6.4280953291634795
          ],
          [
           1248,
           2361.224,
           206.7949981689453,
           8.757957737173601
          ],
          [
           926,
           1703.515,
           103.66799926757812,
           6.0855347940508295
          ],
          [
           1032,
           1298.742,
           66.14800262451172,
           5.093236603550783
          ],
          [
           1082,
           1597.65,
           70.41300201416016,
           4.407285884247957
          ],
          [
           984,
           1349.74,
           96.48500061035156,
           7.148413768577652
          ],
          [
           927,
           9773.719,
           62.551998138427734,
           0.6400019999583834
          ],
          [
           1269,
           2737.639,
           0,
           0
          ],
          [
           1315,
           1790.371,
           0,
           0
          ],
          [
           1469,
           3102.074,
           223.69700622558594,
           7.211208105246683
          ],
          [
           1020,
           1194.228,
           96.98200225830078,
           8.120895001048794
          ],
          [
           1476,
           3223.078,
           247.86900329589844,
           7.690443852312914
          ],
          [
           1558,
           1420.828,
           96.09000396728516,
           6.762957937202814
          ],
          [
           925,
           8948.162,
           1242.1279296875,
           13.881375513205953
          ],
          [
           956,
           2140.767,
           128.43099975585938,
           5.9992981998391235
          ],
          [
           1206,
           1356.971,
           122.56099700927734,
           9.031953969078927
          ],
          [
           929,
           2056.449,
           180.322998046875,
           8.768659364394644
          ],
          [
           2609,
           4566.888,
           203.0989990234375,
           4.4472078996955915
          ],
          [
           1026,
           1520.077,
           75.84700012207031,
           4.989681572257524
          ],
          [
           1215,
           95658.146,
           166.85299682617188,
           0.17442632463444357
          ],
          [
           924,
           1808.035,
           110.13600158691406,
           6.091475323175436
          ],
          [
           1029,
           4160.05,
           2338.914794921875,
           56.22323875313998
          ],
          [
           850,
           5097.616,
           105.1259994506836,
           2.0622580455991586
          ],
          [
           900,
           1405.208,
           76.08100128173828,
           5.414216327871923
          ],
          [
           965,
           2320.836,
           157.68600463867188,
           6.794362284081038
          ],
          [
           1000,
           1732.983,
           120.37699890136719,
           6.946230975902534
          ],
          [
           737,
           1391.044,
           74.03800201416016,
           5.32247742916022
          ],
          [
           1116,
           1315.688,
           67.37200164794922,
           5.120667054280726
          ],
          [
           1177,
           5113.985,
           616.6939697265625,
           12.058971318355452
          ],
          [
           941,
           1414.937,
           93.447998046875,
           6.604392849072079
          ],
          [
           1381,
           1774.09,
           0,
           0
          ],
          [
           1174,
           1551.056,
           121.45500183105469,
           7.830471627072137
          ],
          [
           1053,
           3767.294,
           178.22900390625,
           4.730955532173756
          ],
          [
           942,
           1719.028,
           106.41100311279297,
           6.190184561238968
          ],
          [
           1842,
           58325.049,
           261.5950012207031,
           0.4485122678593892
          ],
          [
           1406,
           1774.651,
           246.90499877929688,
           13.912876390907282
          ],
          [
           868,
           3423.278,
           134.11599731445312,
           3.917765255808906
          ],
          [
           1051,
           2705.279,
           156.2030029296875,
           5.774007332053367
          ],
          [
           1055,
           1801.585,
           118.21700286865234,
           6.561833160973531
          ],
          [
           1266,
           2078.027,
           85.66099548339844,
           4.122227290297479
          ],
          [
           890,
           1120.91,
           125.51399993896484,
           11.197509515148406
          ],
          [
           798,
           1771.576,
           88.16100311279297,
           4.976416809630239
          ],
          [
           947,
           3613.377,
           126.07600402832031,
           3.4891461881606873
          ],
          [
           1053,
           2674.677,
           209.906005859375,
           7.84790147090658
          ],
          [
           930,
           3137.462,
           119.31099700927734,
           3.8027869690134892
          ],
          [
           962,
           2336.104,
           122.99400329589844,
           5.264919879690717
          ],
          [
           1388,
           5936.094,
           132.59500122070312,
           2.23370788939663
          ],
          [
           1092,
           2616.451,
           118,
           4.509925849939479
          ],
          [
           815,
           2493.65,
           79.14299774169922,
           3.173781326444168
          ],
          [
           844,
           1450.536,
           99.9800033569336,
           6.892624519487969
          ],
          [
           876,
           2245.917,
           140.7519989013672,
           6.267017078241316
          ],
          [
           829,
           1773.905,
           62.84299850463867,
           3.542636051359853
          ],
          [
           1024,
           1305.701,
           95.05400085449219,
           7.279921199895688
          ],
          [
           1262,
           4950.128,
           168.3679962158203,
           3.4012855481969355
          ],
          [
           882,
           1514.511,
           76.04499816894531,
           5.021092616692781
          ],
          [
           874,
           1673.8,
           117.8270034790039,
           7.039491095299618
          ],
          [
           1262,
           2059.951,
           106.1500015258789,
           5.153035193555575
          ],
          [
           904,
           6028.919,
           102.05000305175781,
           1.6926749223202369
          ],
          [
           1811,
           2045.349,
           184.14599609375,
           9.003157705298705
          ],
          [
           1264,
           2092.321,
           125.58799743652344,
           6.0023293771307085
          ],
          [
           1180,
           1764.41,
           153.64199829101562,
           8.707840125204742
          ],
          [
           826,
           197178.293,
           60.13399887084961,
           0.03049727133170663
          ],
          [
           824,
           4688.587,
           82.06999969482422,
           1.7504207557628768
          ],
          [
           818,
           1923.668,
           148.74900817871094,
           7.732571519942631
          ],
          [
           918,
           1683.105,
           77.24500274658203,
           4.589434698537079
          ],
          [
           1076,
           2102.277,
           156.197998046875,
           7.429943725154915
          ],
          [
           875,
           1712.777,
           118.10199737548828,
           6.895351931578075
          ],
          [
           880,
           1587.391,
           73.50700378417969,
           4.630680276826881
          ],
          [
           1018,
           1454.948,
           125.45899963378906,
           8.62292012540998
          ],
          [
           939,
           2306.959,
           98.23200225830078,
           4.258073158349369
          ],
          [
           1032,
           1744.227,
           124.45600128173828,
           7.135310132188929
          ],
          [
           1012,
           2186.72,
           150.8300018310547,
           6.897545181824834
          ],
          [
           1178,
           1950.408,
           90.37899780273438,
           4.633850668199936
          ],
          [
           1268,
           3581.75,
           289.9759826660156,
           8.095930105744399
          ],
          [
           949,
           3113.043,
           180.81300354003906,
           5.808239970103208
          ],
          [
           908,
           2230.884,
           168.4770050048828,
           7.552029227819555
          ],
          [
           899,
           1240.679,
           85.23799896240234,
           6.870270073635082
          ],
          [
           856,
           2777.334,
           142.6719970703125,
           5.1370124078522785
          ],
          [
           851,
           1892.241,
           124.10900115966797,
           6.5588370564980885
          ],
          [
           988,
           2167.579,
           78.39600372314453,
           3.6167542617535506
          ],
          [
           797,
           1384.492,
           428.125,
           30.922894462373204
          ],
          [
           998,
           1700.279,
           133.18600463867188,
           7.833185368952684
          ],
          [
           1474,
           1800.962,
           0,
           0
          ],
          [
           1646,
           3786.479,
           306.4850158691406,
           8.094195677072289
          ],
          [
           916,
           1247.121,
           156.82000732421875,
           12.574562513631395
          ],
          [
           857,
           1296.713,
           78.55000305175781,
           6.0576245385688665
          ],
          [
           2106,
           2496.524,
           141.3800048828125,
           5.6630739380034
          ],
          [
           1384,
           2230.442,
           170.53199768066406,
           7.645659119918832
          ],
          [
           904,
           2473.424,
           104.0510025024414,
           4.206759773470905
          ],
          [
           1073,
           2324.414,
           112.13099670410156,
           4.824054410864416
          ],
          [
           900,
           1710.352,
           133.87399291992188,
           7.827277317220373
          ],
          [
           1109,
           5960.014,
           232.2830047607422,
           3.8973567480294506
          ],
          [
           1046,
           2272.866,
           184.62200927734375,
           8.122872695475667
          ],
          [
           1760,
           2169.245,
           102.80599975585938,
           4.739252417027584
          ],
          [
           856,
           1094.276,
           78.71900177001953,
           7.193706515198176
          ],
          [
           1490,
           3436.93,
           127.69000244140625,
           3.7152342352040924
          ],
          [
           1047,
           1935.926,
           0,
           0
          ],
          [
           1045,
           1864.289,
           135.24099731445312,
           7.2542935185344115
          ],
          [
           1265,
           3125.244,
           139.83299255371094,
           4.4743062711663475
          ],
          [
           988,
           1186.652,
           69.46099853515625,
           5.85352707396524
          ],
          [
           993,
           1199.382,
           48.92300033569336,
           4.079017197763098
          ],
          [
           2042,
           11089.874,
           0,
           0
          ],
          [
           867,
           1310.792,
           94.60400390625,
           7.217316241344927
          ],
          [
           2290,
           11144.09,
           1039.83203125,
           9.33079355290562
          ],
          [
           818,
           1600.021,
           94.3280029296875,
           5.89542311085292
          ],
          [
           2159,
           3903.186,
           183.50599670410156,
           4.701441235281895
          ],
          [
           907,
           2404.614,
           136.73599243164062,
           5.686401064526365
          ],
          [
           767,
           8133.954,
           160.9969940185547,
           1.9793201705775567
          ],
          [
           930,
           6033.037,
           541.3359985351562,
           8.972860859712943
          ],
          [
           845,
           2890.811,
           94.81099700927734,
           3.2797369351974237
          ],
          [
           913,
           8430.164,
           168.81700134277344,
           2.002535089323292
          ],
          [
           1681,
           4107.803,
           188.52099609375,
           4.589338780212927
          ],
          [
           1628,
           2902.503,
           129.34300231933594,
           4.456257169996896
          ],
          [
           1156,
           1182.548,
           62.83700180053711,
           5.313695676887957
          ],
          [
           726,
           1347.741,
           87.64099884033203,
           6.5028070002878895
          ],
          [
           1328,
           7988.668,
           106.20700073242188,
           1.3294707196885014
          ],
          [
           1089,
           87442.151,
           2975.923095703125,
           3.403305031917616
          ],
          [
           938,
           7638.975,
           102.2969970703125,
           1.339145529177671
          ],
          [
           853,
           1208.551,
           79.7229995727539,
           6.596577061859616
          ],
          [
           824,
           1160.244,
           74.44000244140625,
           6.415891829649626
          ],
          [
           900,
           1124.506,
           83.05599975585938,
           7.385998482333576
          ],
          [
           834,
           1386.03,
           86.27300262451172,
           6.224468304933876
          ],
          [
           932,
           4276.08,
           59.89099884033203,
           1.4006052500552493
          ],
          [
           1453,
           351788.25,
           171.98699951171875,
           0.04888935096254636
          ],
          [
           839,
           2518.018,
           560.2470092773438,
           22.24952292586868
          ],
          [
           1823,
           3028.961,
           214.30699157714844,
           7.075264164428001
          ],
          [
           2252,
           3988.212,
           203.74000549316406,
           5.108554911323671
          ],
          [
           1002,
           1683.908,
           76.52999877929688,
           4.5447851070248495
          ],
          [
           1184,
           2646.527,
           183.83399963378906,
           6.946235723506693
          ],
          [
           951,
           2441.413,
           138.4340057373047,
           5.670241122917344
          ],
          [
           864,
           1348.803,
           96.95999908447266,
           7.188596110773775
          ],
          [
           896,
           1602.254,
           171.47999572753906,
           10.702422961652772
          ],
          [
           1094,
           1864.659,
           0,
           0
          ],
          [
           828,
           1218.654,
           60.58399963378906,
           4.971386383947987
          ],
          [
           1312,
           21728.943,
           947.9559936523438,
           4.362642101942097
          ],
          [
           814,
           1174.077,
           77.17900085449219,
           6.573589212925345
          ],
          [
           921,
           1138.563,
           0,
           0
          ],
          [
           1050,
           1484.779,
           96.22799682617188,
           6.48096437563267
          ],
          [
           39,
           83.131,
           0,
           0
          ]
         ],
         "hovertemplate": "score=%{y}<br>nb_events=%{customdata[0]}<br>end_time=%{customdata[1]}<br>hover_time=%{customdata[2]}<br>hover_percent=%{customdata[3]}<extra></extra>",
         "legendgroup": "",
         "marker": {
          "color": "#636efa"
         },
         "name": "",
         "offsetgroup": "",
         "orientation": "v",
         "points": "all",
         "scalegroup": "True",
         "showlegend": false,
         "type": "violin",
         "x0": " ",
         "xaxis": "x",
         "y": [
          16,
          10,
          17,
          12,
          16,
          12,
          12,
          9,
          15,
          14,
          14,
          13,
          15,
          15,
          6,
          11,
          16,
          4,
          12,
          13,
          10,
          15,
          12,
          6,
          5,
          10,
          12,
          14,
          15,
          13,
          15,
          17,
          6,
          10,
          11,
          14,
          8,
          15,
          12,
          11,
          11,
          14,
          13,
          8,
          14,
          16,
          14,
          17,
          15,
          14,
          9,
          10,
          10,
          11,
          12,
          13,
          12,
          9,
          15,
          12,
          13,
          16,
          13,
          13,
          9,
          11,
          9,
          16,
          17,
          17,
          13,
          14,
          14,
          8,
          11,
          12,
          8,
          14,
          17,
          12,
          3,
          8,
          13,
          13,
          12,
          17,
          16,
          8,
          15,
          15,
          13,
          13,
          9,
          12,
          9,
          8,
          11,
          17,
          17,
          11,
          12,
          16,
          13,
          9,
          15,
          15,
          15,
          15,
          8,
          8,
          4,
          17,
          8,
          14,
          16,
          12,
          12,
          7,
          13,
          13,
          12,
          17,
          13,
          16,
          14,
          15,
          11,
          17,
          13,
          11,
          14,
          10,
          11,
          13,
          5,
          15,
          11,
          14,
          11,
          10,
          6,
          8,
          11,
          4,
          7,
          13,
          17,
          9,
          12,
          13,
          14,
          14,
          13,
          12,
          16,
          16,
          17,
          16,
          9,
          17,
          14,
          10,
          14,
          12,
          12,
          10,
          13,
          15,
          10,
          14,
          13,
          13,
          16,
          17,
          10,
          17,
          16,
          12,
          14,
          13,
          9,
          16,
          10,
          14,
          16,
          12,
          17,
          10,
          13,
          18,
          15,
          15,
          15,
          16,
          12,
          5,
          15,
          6,
          12,
          4,
          5,
          15,
          8,
          15,
          16,
          3,
          15,
          15,
          16,
          16,
          16,
          16,
          16,
          10,
          16,
          9,
          11,
          11,
          8,
          10,
          12,
          17,
          16,
          15,
          12,
          13,
          16,
          11,
          11,
          15,
          9,
          15,
          11,
          10,
          16,
          7,
          16,
          15,
          13,
          13,
          12,
          10,
          16,
          14,
          14,
          14,
          13,
          12,
          13,
          13,
          12,
          16,
          12,
          12,
          12,
          11,
          11,
          13,
          15,
          16,
          18,
          14,
          16,
          14,
          6,
          14,
          17,
          13,
          15,
          14,
          9,
          3,
          5,
          12,
          14,
          15,
          11,
          13,
          16,
          16,
          17,
          12,
          10,
          10,
          9,
          11,
          10,
          10,
          11,
          7,
          18,
          12,
          15,
          10,
          8,
          11,
          13,
          10,
          10,
          6,
          14,
          15,
          8,
          16,
          18,
          14,
          14,
          13,
          14,
          10,
          12,
          6,
          11,
          15,
          14,
          13,
          14,
          10,
          11,
          13,
          17,
          17,
          14,
          12,
          8,
          14,
          13,
          15,
          12,
          5,
          15,
          16,
          15,
          16,
          13,
          6,
          5,
          13,
          16,
          11,
          15,
          11,
          16,
          15,
          14,
          13,
          7,
          14,
          7,
          15,
          15,
          13,
          12,
          12,
          13,
          9,
          12,
          17,
          11,
          16,
          18,
          15,
          15,
          11,
          14,
          12,
          18,
          10,
          17,
          14,
          13,
          18,
          14,
          17,
          17,
          11,
          15,
          12,
          10,
          12,
          9,
          14,
          18,
          12,
          10,
          13,
          12,
          9,
          9,
          9,
          14,
          12,
          15,
          16,
          13,
          13,
          10,
          17,
          18,
          13,
          10,
          12,
          14,
          12,
          16,
          12,
          6,
          11,
          10,
          12,
          11,
          15,
          13,
          12,
          12,
          15,
          10,
          13,
          11,
          13,
          9,
          10,
          10,
          8,
          9,
          7,
          18,
          4,
          16,
          7,
          8,
          12,
          15,
          9,
          3,
          9,
          13,
          8,
          4,
          14,
          14,
          12,
          9,
          13,
          13,
          11,
          15,
          10,
          13,
          12,
          15,
          3,
          8,
          18,
          10,
          17,
          12,
          15,
          12,
          11,
          14,
          10,
          13,
          13,
          11,
          14,
          13,
          16,
          14,
          15,
          13,
          17,
          11,
          16,
          12,
          10,
          15,
          8,
          15,
          6,
          13,
          12,
          11,
          3,
          11,
          11,
          15,
          11,
          15,
          11,
          14,
          15,
          15,
          11,
          11,
          12,
          13,
          14,
          13,
          14,
          16,
          14,
          13,
          13,
          9,
          6,
          16,
          17,
          7,
          14,
          15,
          14,
          14,
          13,
          17,
          10,
          13,
          15,
          13,
          14,
          13,
          8,
          17,
          7,
          15,
          13,
          13,
          16,
          9,
          12,
          16,
          13,
          11,
          12,
          13,
          12,
          18,
          13,
          11,
          4,
          16,
          11,
          13,
          14,
          6,
          14,
          17,
          10,
          15,
          8,
          13,
          7,
          13,
          12,
          15,
          12,
          16,
          12,
          9,
          10,
          11,
          12,
          14,
          14,
          10,
          13,
          15,
          11,
          8,
          16,
          12,
          10,
          12,
          14,
          15,
          12,
          15,
          11,
          14,
          17,
          15,
          16,
          12,
          11,
          7,
          11,
          15,
          10,
          11,
          16,
          18,
          12,
          17,
          5,
          9,
          14,
          11,
          15,
          10,
          14,
          13,
          7,
          13,
          8,
          12,
          7,
          5,
          8,
          10,
          7,
          12,
          14,
          14,
          8,
          12,
          13,
          10,
          12,
          9,
          8,
          5,
          14,
          13,
          11,
          4,
          9,
          11,
          16,
          10,
          16,
          5,
          10,
          11,
          11,
          8,
          6,
          10,
          12,
          16,
          16,
          12,
          15,
          14,
          16,
          10,
          15,
          8,
          12,
          12,
          18,
          12,
          11,
          14,
          14,
          10,
          8,
          15,
          9,
          13,
          6,
          10,
          16,
          17,
          15,
          13,
          14,
          8,
          11,
          12,
          10,
          11,
          9,
          13,
          15,
          11,
          11,
          14,
          8,
          13,
          8,
          9,
          10,
          3,
          12,
          16,
          11,
          8,
          15,
          17,
          7,
          10,
          14,
          17,
          12,
          15,
          7,
          10,
          18,
          13,
          17,
          11,
          13,
          13,
          14,
          12,
          16,
          12,
          13,
          17,
          15,
          12,
          6,
          10,
          11,
          11,
          14,
          14,
          15,
          16,
          15,
          14,
          10,
          14,
          12,
          14,
          16,
          7,
          13,
          16,
          17,
          15,
          12,
          12,
          17,
          12,
          12,
          13,
          9,
          13,
          15,
          15,
          16,
          14,
          16,
          11,
          16,
          10,
          17,
          10,
          15,
          15,
          8,
          11,
          15,
          16,
          14,
          10,
          15,
          9,
          11,
          12,
          15,
          14,
          15,
          4,
          15,
          17,
          10,
          13,
          16,
          13,
          10,
          12,
          12,
          14,
          13,
          13,
          10,
          9,
          13,
          15,
          8,
          13,
          11,
          8,
          16,
          5,
          16,
          13,
          15,
          16,
          16,
          13,
          16,
          11,
          13,
          14,
          13,
          15,
          11,
          8,
          14,
          17,
          10,
          12,
          15,
          9,
          13,
          17,
          16,
          12,
          16,
          9,
          10,
          16,
          16,
          12,
          16,
          12,
          16,
          12,
          13,
          13,
          10,
          15,
          16,
          12,
          15,
          15,
          7,
          9,
          14,
          13,
          10,
          6,
          12,
          5,
          12,
          9,
          17,
          12,
          15,
          11,
          16,
          11,
          9,
          18,
          16,
          3,
          16,
          11,
          14,
          11,
          13,
          13,
          16,
          9,
          13,
          10,
          8,
          13,
          13,
          10,
          10,
          16,
          17,
          17,
          16,
          15,
          14,
          11,
          16,
          4,
          9,
          16,
          13,
          14,
          17,
          16,
          10,
          18,
          14,
          14,
          12,
          13,
          18
         ],
         "y0": " ",
         "yaxis": "y"
        }
       ],
       "layout": {
        "legend": {
         "tracegroupgap": 0
        },
        "margin": {
         "t": 60
        },
        "template": {
         "data": {
          "bar": [
           {
            "error_x": {
             "color": "#2a3f5f"
            },
            "error_y": {
             "color": "#2a3f5f"
            },
            "marker": {
             "line": {
              "color": "#E5ECF6",
              "width": 0.5
             },
             "pattern": {
              "fillmode": "overlay",
              "size": 10,
              "solidity": 0.2
             }
            },
            "type": "bar"
           }
          ],
          "barpolar": [
           {
            "marker": {
             "line": {
              "color": "#E5ECF6",
              "width": 0.5
             },
             "pattern": {
              "fillmode": "overlay",
              "size": 10,
              "solidity": 0.2
             }
            },
            "type": "barpolar"
           }
          ],
          "carpet": [
           {
            "aaxis": {
             "endlinecolor": "#2a3f5f",
             "gridcolor": "white",
             "linecolor": "white",
             "minorgridcolor": "white",
             "startlinecolor": "#2a3f5f"
            },
            "baxis": {
             "endlinecolor": "#2a3f5f",
             "gridcolor": "white",
             "linecolor": "white",
             "minorgridcolor": "white",
             "startlinecolor": "#2a3f5f"
            },
            "type": "carpet"
           }
          ],
          "choropleth": [
           {
            "colorbar": {
             "outlinewidth": 0,
             "ticks": ""
            },
            "type": "choropleth"
           }
          ],
          "contour": [
           {
            "colorbar": {
             "outlinewidth": 0,
             "ticks": ""
            },
            "colorscale": [
             [
              0,
              "#0d0887"
             ],
             [
              0.1111111111111111,
              "#46039f"
             ],
             [
              0.2222222222222222,
              "#7201a8"
             ],
             [
              0.3333333333333333,
              "#9c179e"
             ],
             [
              0.4444444444444444,
              "#bd3786"
             ],
             [
              0.5555555555555556,
              "#d8576b"
             ],
             [
              0.6666666666666666,
              "#ed7953"
             ],
             [
              0.7777777777777778,
              "#fb9f3a"
             ],
             [
              0.8888888888888888,
              "#fdca26"
             ],
             [
              1,
              "#f0f921"
             ]
            ],
            "type": "contour"
           }
          ],
          "contourcarpet": [
           {
            "colorbar": {
             "outlinewidth": 0,
             "ticks": ""
            },
            "type": "contourcarpet"
           }
          ],
          "heatmap": [
           {
            "colorbar": {
             "outlinewidth": 0,
             "ticks": ""
            },
            "colorscale": [
             [
              0,
              "#0d0887"
             ],
             [
              0.1111111111111111,
              "#46039f"
             ],
             [
              0.2222222222222222,
              "#7201a8"
             ],
             [
              0.3333333333333333,
              "#9c179e"
             ],
             [
              0.4444444444444444,
              "#bd3786"
             ],
             [
              0.5555555555555556,
              "#d8576b"
             ],
             [
              0.6666666666666666,
              "#ed7953"
             ],
             [
              0.7777777777777778,
              "#fb9f3a"
             ],
             [
              0.8888888888888888,
              "#fdca26"
             ],
             [
              1,
              "#f0f921"
             ]
            ],
            "type": "heatmap"
           }
          ],
          "heatmapgl": [
           {
            "colorbar": {
             "outlinewidth": 0,
             "ticks": ""
            },
            "colorscale": [
             [
              0,
              "#0d0887"
             ],
             [
              0.1111111111111111,
              "#46039f"
             ],
             [
              0.2222222222222222,
              "#7201a8"
             ],
             [
              0.3333333333333333,
              "#9c179e"
             ],
             [
              0.4444444444444444,
              "#bd3786"
             ],
             [
              0.5555555555555556,
              "#d8576b"
             ],
             [
              0.6666666666666666,
              "#ed7953"
             ],
             [
              0.7777777777777778,
              "#fb9f3a"
             ],
             [
              0.8888888888888888,
              "#fdca26"
             ],
             [
              1,
              "#f0f921"
             ]
            ],
            "type": "heatmapgl"
           }
          ],
          "histogram": [
           {
            "marker": {
             "pattern": {
              "fillmode": "overlay",
              "size": 10,
              "solidity": 0.2
             }
            },
            "type": "histogram"
           }
          ],
          "histogram2d": [
           {
            "colorbar": {
             "outlinewidth": 0,
             "ticks": ""
            },
            "colorscale": [
             [
              0,
              "#0d0887"
             ],
             [
              0.1111111111111111,
              "#46039f"
             ],
             [
              0.2222222222222222,
              "#7201a8"
             ],
             [
              0.3333333333333333,
              "#9c179e"
             ],
             [
              0.4444444444444444,
              "#bd3786"
             ],
             [
              0.5555555555555556,
              "#d8576b"
             ],
             [
              0.6666666666666666,
              "#ed7953"
             ],
             [
              0.7777777777777778,
              "#fb9f3a"
             ],
             [
              0.8888888888888888,
              "#fdca26"
             ],
             [
              1,
              "#f0f921"
             ]
            ],
            "type": "histogram2d"
           }
          ],
          "histogram2dcontour": [
           {
            "colorbar": {
             "outlinewidth": 0,
             "ticks": ""
            },
            "colorscale": [
             [
              0,
              "#0d0887"
             ],
             [
              0.1111111111111111,
              "#46039f"
             ],
             [
              0.2222222222222222,
              "#7201a8"
             ],
             [
              0.3333333333333333,
              "#9c179e"
             ],
             [
              0.4444444444444444,
              "#bd3786"
             ],
             [
              0.5555555555555556,
              "#d8576b"
             ],
             [
              0.6666666666666666,
              "#ed7953"
             ],
             [
              0.7777777777777778,
              "#fb9f3a"
             ],
             [
              0.8888888888888888,
              "#fdca26"
             ],
             [
              1,
              "#f0f921"
             ]
            ],
            "type": "histogram2dcontour"
           }
          ],
          "mesh3d": [
           {
            "colorbar": {
             "outlinewidth": 0,
             "ticks": ""
            },
            "type": "mesh3d"
           }
          ],
          "parcoords": [
           {
            "line": {
             "colorbar": {
              "outlinewidth": 0,
              "ticks": ""
             }
            },
            "type": "parcoords"
           }
          ],
          "pie": [
           {
            "automargin": true,
            "type": "pie"
           }
          ],
          "scatter": [
           {
            "fillpattern": {
             "fillmode": "overlay",
             "size": 10,
             "solidity": 0.2
            },
            "type": "scatter"
           }
          ],
          "scatter3d": [
           {
            "line": {
             "colorbar": {
              "outlinewidth": 0,
              "ticks": ""
             }
            },
            "marker": {
             "colorbar": {
              "outlinewidth": 0,
              "ticks": ""
             }
            },
            "type": "scatter3d"
           }
          ],
          "scattercarpet": [
           {
            "marker": {
             "colorbar": {
              "outlinewidth": 0,
              "ticks": ""
             }
            },
            "type": "scattercarpet"
           }
          ],
          "scattergeo": [
           {
            "marker": {
             "colorbar": {
              "outlinewidth": 0,
              "ticks": ""
             }
            },
            "type": "scattergeo"
           }
          ],
          "scattergl": [
           {
            "marker": {
             "colorbar": {
              "outlinewidth": 0,
              "ticks": ""
             }
            },
            "type": "scattergl"
           }
          ],
          "scattermapbox": [
           {
            "marker": {
             "colorbar": {
              "outlinewidth": 0,
              "ticks": ""
             }
            },
            "type": "scattermapbox"
           }
          ],
          "scatterpolar": [
           {
            "marker": {
             "colorbar": {
              "outlinewidth": 0,
              "ticks": ""
             }
            },
            "type": "scatterpolar"
           }
          ],
          "scatterpolargl": [
           {
            "marker": {
             "colorbar": {
              "outlinewidth": 0,
              "ticks": ""
             }
            },
            "type": "scatterpolargl"
           }
          ],
          "scatterternary": [
           {
            "marker": {
             "colorbar": {
              "outlinewidth": 0,
              "ticks": ""
             }
            },
            "type": "scatterternary"
           }
          ],
          "surface": [
           {
            "colorbar": {
             "outlinewidth": 0,
             "ticks": ""
            },
            "colorscale": [
             [
              0,
              "#0d0887"
             ],
             [
              0.1111111111111111,
              "#46039f"
             ],
             [
              0.2222222222222222,
              "#7201a8"
             ],
             [
              0.3333333333333333,
              "#9c179e"
             ],
             [
              0.4444444444444444,
              "#bd3786"
             ],
             [
              0.5555555555555556,
              "#d8576b"
             ],
             [
              0.6666666666666666,
              "#ed7953"
             ],
             [
              0.7777777777777778,
              "#fb9f3a"
             ],
             [
              0.8888888888888888,
              "#fdca26"
             ],
             [
              1,
              "#f0f921"
             ]
            ],
            "type": "surface"
           }
          ],
          "table": [
           {
            "cells": {
             "fill": {
              "color": "#EBF0F8"
             },
             "line": {
              "color": "white"
             }
            },
            "header": {
             "fill": {
              "color": "#C8D4E3"
             },
             "line": {
              "color": "white"
             }
            },
            "type": "table"
           }
          ]
         },
         "layout": {
          "annotationdefaults": {
           "arrowcolor": "#2a3f5f",
           "arrowhead": 0,
           "arrowwidth": 1
          },
          "autotypenumbers": "strict",
          "coloraxis": {
           "colorbar": {
            "outlinewidth": 0,
            "ticks": ""
           }
          },
          "colorscale": {
           "diverging": [
            [
             0,
             "#8e0152"
            ],
            [
             0.1,
             "#c51b7d"
            ],
            [
             0.2,
             "#de77ae"
            ],
            [
             0.3,
             "#f1b6da"
            ],
            [
             0.4,
             "#fde0ef"
            ],
            [
             0.5,
             "#f7f7f7"
            ],
            [
             0.6,
             "#e6f5d0"
            ],
            [
             0.7,
             "#b8e186"
            ],
            [
             0.8,
             "#7fbc41"
            ],
            [
             0.9,
             "#4d9221"
            ],
            [
             1,
             "#276419"
            ]
           ],
           "sequential": [
            [
             0,
             "#0d0887"
            ],
            [
             0.1111111111111111,
             "#46039f"
            ],
            [
             0.2222222222222222,
             "#7201a8"
            ],
            [
             0.3333333333333333,
             "#9c179e"
            ],
            [
             0.4444444444444444,
             "#bd3786"
            ],
            [
             0.5555555555555556,
             "#d8576b"
            ],
            [
             0.6666666666666666,
             "#ed7953"
            ],
            [
             0.7777777777777778,
             "#fb9f3a"
            ],
            [
             0.8888888888888888,
             "#fdca26"
            ],
            [
             1,
             "#f0f921"
            ]
           ],
           "sequentialminus": [
            [
             0,
             "#0d0887"
            ],
            [
             0.1111111111111111,
             "#46039f"
            ],
            [
             0.2222222222222222,
             "#7201a8"
            ],
            [
             0.3333333333333333,
             "#9c179e"
            ],
            [
             0.4444444444444444,
             "#bd3786"
            ],
            [
             0.5555555555555556,
             "#d8576b"
            ],
            [
             0.6666666666666666,
             "#ed7953"
            ],
            [
             0.7777777777777778,
             "#fb9f3a"
            ],
            [
             0.8888888888888888,
             "#fdca26"
            ],
            [
             1,
             "#f0f921"
            ]
           ]
          },
          "colorway": [
           "#636efa",
           "#EF553B",
           "#00cc96",
           "#ab63fa",
           "#FFA15A",
           "#19d3f3",
           "#FF6692",
           "#B6E880",
           "#FF97FF",
           "#FECB52"
          ],
          "font": {
           "color": "#2a3f5f"
          },
          "geo": {
           "bgcolor": "white",
           "lakecolor": "white",
           "landcolor": "#E5ECF6",
           "showlakes": true,
           "showland": true,
           "subunitcolor": "white"
          },
          "hoverlabel": {
           "align": "left"
          },
          "hovermode": "closest",
          "mapbox": {
           "style": "light"
          },
          "paper_bgcolor": "white",
          "plot_bgcolor": "#E5ECF6",
          "polar": {
           "angularaxis": {
            "gridcolor": "white",
            "linecolor": "white",
            "ticks": ""
           },
           "bgcolor": "#E5ECF6",
           "radialaxis": {
            "gridcolor": "white",
            "linecolor": "white",
            "ticks": ""
           }
          },
          "scene": {
           "xaxis": {
            "backgroundcolor": "#E5ECF6",
            "gridcolor": "white",
            "gridwidth": 2,
            "linecolor": "white",
            "showbackground": true,
            "ticks": "",
            "zerolinecolor": "white"
           },
           "yaxis": {
            "backgroundcolor": "#E5ECF6",
            "gridcolor": "white",
            "gridwidth": 2,
            "linecolor": "white",
            "showbackground": true,
            "ticks": "",
            "zerolinecolor": "white"
           },
           "zaxis": {
            "backgroundcolor": "#E5ECF6",
            "gridcolor": "white",
            "gridwidth": 2,
            "linecolor": "white",
            "showbackground": true,
            "ticks": "",
            "zerolinecolor": "white"
           }
          },
          "shapedefaults": {
           "line": {
            "color": "#2a3f5f"
           }
          },
          "ternary": {
           "aaxis": {
            "gridcolor": "white",
            "linecolor": "white",
            "ticks": ""
           },
           "baxis": {
            "gridcolor": "white",
            "linecolor": "white",
            "ticks": ""
           },
           "bgcolor": "#E5ECF6",
           "caxis": {
            "gridcolor": "white",
            "linecolor": "white",
            "ticks": ""
           }
          },
          "title": {
           "x": 0.05
          },
          "xaxis": {
           "automargin": true,
           "gridcolor": "white",
           "linecolor": "white",
           "ticks": "",
           "title": {
            "standoff": 15
           },
           "zerolinecolor": "white",
           "zerolinewidth": 2
          },
          "yaxis": {
           "automargin": true,
           "gridcolor": "white",
           "linecolor": "white",
           "ticks": "",
           "title": {
            "standoff": 15
           },
           "zerolinecolor": "white",
           "zerolinewidth": 2
          }
         }
        },
        "violinmode": "group",
        "xaxis": {
         "anchor": "y",
         "domain": [
          0,
          1
         ]
        },
        "yaxis": {
         "anchor": "x",
         "domain": [
          0,
          1
         ],
         "title": {
          "text": "score"
         }
        }
       }
      },
      "text/html": [
       "<div>                            <div id=\"f1b68186-2eed-479c-92c9-b9415e315690\" class=\"plotly-graph-div\" style=\"height:525px; width:100%;\"></div>            <script type=\"text/javascript\">                require([\"plotly\"], function(Plotly) {                    window.PLOTLYENV=window.PLOTLYENV || {};                                    if (document.getElementById(\"f1b68186-2eed-479c-92c9-b9415e315690\")) {                    Plotly.newPlot(                        \"f1b68186-2eed-479c-92c9-b9415e315690\",                        [{\"alignmentgroup\":\"True\",\"box\":{\"visible\":true},\"customdata\":[[881.0,1272.679,72.49400329589844,5.696173497500155],[1831.0,3815.334,243.66099548339844,6.386360829582679],[758.0,1189.05,56.17900085449219,4.724696103901223],[993.0,1621.368,111.50900268554688,6.877464209621135],[746.0,1174.676,66.03399658203125,5.621464483876831],[971.0,2355.47,163.40699768066406,6.937341675042561],[1038.0,2133.782,159.13999938964844,7.458118964355308],[1518.0,2756.631,175.23899841308594,6.35699895656147],[1066.0,4208.427,139.2949981689453,3.30990652802104],[789.0,1275.75,108.53500366210938,8.507544581618657],[1527.0,2974.641,166.2310028076172,5.588270856676486],[953.0,2554.792,237.81199645996094,9.308467859125127],[1100.0,1569.636,123.98600006103516,7.899028570557123],[987.0,1578.026,116.39199829101562,7.375797480721166],[1071.0,1209.424,75.4990005493164,6.242558360296926],[1521.0,3514.83,312.0820007324219,8.879006728277043],[921.0,1095.436,79.70500183105469,7.276098284153525],[1354.0,2491.64,255.07899475097656,10.237394001791992],[1289.0,5462.736,268.4320068359375,4.913874873666785],[909.0,2002.22,125.78199768066406,6.28212693675645],[2058.0,3527.92,165.20599365234375,4.6828158261454345],[1105.0,5660.44,100.51799774169922,1.775798313326791],[1200.0,2343.46,115.76300048828125,4.939832471937861],[1275.0,2158.678,138.65199279785156,6.423004829228815],[2216.0,38081.617,194.50100708007812,0.5107477858017426],[878.0,1135.216,77.10900115966797,6.792451746930761],[769.0,1962.363,100.46600341796875,5.1196443195970875],[952.0,1312.757,94.41899871826172,7.192419780707701],[1096.0,1893.408,146.2779998779297,7.725645927706813],[1036.0,846.398,0.0,0.0],[1073.0,3722.093,173.46800231933594,4.6604963339846694],[813.0,1882.926,169.6439971923828,9.009594848987692],[1523.0,3450.876,196.18600463867188,5.685107088569684],[1089.0,3201.657,230.73599243164062,7.206768123310836],[944.0,2072.998,153.00599670410156,7.380904182915275],[859.0,22056.639,82.6780014038086,0.3748440460347336],[1827.0,4555.778,192.39599609375,4.223120531635869],[1155.0,1808.1,160.50999450683594,8.877273946926332],[718.0,1034.94,68.86000061035156,6.653525808259416],[953.0,2113.002,119.66000366210938,5.663032973939448],[1017.0,1817.968,65.52400207519531,3.604244073946846],[1365.0,2122.128,160.11900329589844,7.545209521115125],[1393.0,3023.99,183.6199951171875,6.072110026818872],[1532.0,2164.739,112.21499633789062,5.183765802713399],[900.0,1907.285,114.94300079345703,6.0265245124286615],[898.0,1409.47,83.7490005493164,5.941879139410559],[898.0,2435.273,211.4459991455078,8.682640348484544],[828.0,1479.036,107.85800170898438,7.292452519538064],[919.0,1694.808,159.7830047607422,9.427794051745094],[817.0,1822.463,90.87899780273438,4.986602973043897],[1107.0,2466.567,99.31199645996094,4.026324530714146],[1041.0,3572.061,176.75399780273438,4.94823587576612],[946.0,1874.553,151.7530059814453,8.095423699009844],[1407.0,1624.498,98.91300201416016,6.08883470751426],[926.0,10459.843,158.80299377441406,1.518215885715254],[1153.0,123549.67,92.07499694824219,0.07452468306876094],[998.0,2942.845,115.88099670410156,3.9377199986322764],[1182.0,3368.177,194.5830078125,5.777101613498934],[760.0,74952.677,63.064998626708984,0.08413975660936034],[1392.0,3847.165,265.87200927734375,6.9108554407921154],[804.0,1656.96,117.71800231933594,7.104456235930559],[704.0,1565.826,105.26899719238281,6.722904980542219],[988.0,1824.749,141.02499389648438,7.728459653046802],[960.0,1878.632,91.3810043334961,4.864231305512469],[1376.0,16274.862,0.0,0.0],[1891.0,3357.232,192.1909942626953,5.724686172827794],[1532.0,2707.392,141.89300537109375,5.240948034584575],[711.0,1125.726,63.26300048828125,5.619750991526801],[1026.0,1528.973,144.29200744628906,9.437185072512726],[1026.0,1648.375,110.00199890136719,6.6733602458861],[817.0,2819.923,161.9080047607422,5.741575490270479],[1146.0,1424.4,88.80500030517578,6.234554900308901],[1314.0,2312.077,147.697998046875,6.388108962066358],[1057.0,2136.291,136.93299865722656,6.409847630630611],[889.0,1694.808,82.75,4.882558968331516],[805.0,2082.858,156.1999969482422,7.499311042807526],[1727.0,6551.65,162.16000366210938,2.4751016919401985],[716.0,3202.593,177.85699462890625,5.5535309103435875],[720.0,1500.264,62.698001861572266,4.1791313348642305],[772.0,5768.68,112.48400115966797,1.9499088856766191],[3114.0,4372.021,343.37200927734375,7.8538504775594635],[1599.0,2558.975,0.0,0.0],[1261.0,1780.823,121.49800109863281,6.822575744297721],[1158.0,2927.934,105.13400268554688,3.5907231483445323],[1044.0,2265.018,114.41500091552734,5.051394735052878],[765.0,1234.554,60.3640022277832,4.889539372619585],[1018.0,49966.056,142.7469940185547,0.2856879321984109],[982.0,5494.9,197.0290069580078,3.5856704199575975],[1035.0,902.67,53.40700149536133,5.916558870143574],[924.0,2098.985,135.82899475097656,6.471175074649175],[1451.0,2503.548,187.18899536132812,7.476948870413111],[1454.0,1134.085,75.7239990234375,6.677100836660171],[1230.0,8811.905,0.0,0.0],[1156.0,2041.156,132.47799682617188,6.4903416518323445],[1340.0,2504.777,184.9080047607422,7.382214377267917],[1102.0,2015.152,162.7830047607422,8.077951827579259],[1198.0,3928.292,190.5749969482422,4.851345062943386],[779.0,40461.124,166.16400146484375,0.41067569923724806],[936.0,3271.067,148.31199645996094,4.534055468368578],[1423.0,1894.202,0.0,0.0],[978.0,1469.909,103.08300018310547,7.012882977577183],[944.0,1214.347,72.3290023803711,5.956205590844298],[1098.0,1700.163,89.70500183105469,5.276258805773328],[1181.0,1813.96,141.89100646972656,7.822168397284119],[1468.0,2657.782,140.28700256347656,5.278348711561934],[943.0,1897.221,153.91600036621094,8.11270780229346],[999.0,4753.325,108.84600067138672,2.2898917303939874],[1361.0,1912.954,137.072998046875,7.16551459401925],[1864.0,3978.93,257.7669982910156,6.478299245965625],[1470.0,2233.274,149.51699829101562,6.694968998570037],[1145.0,3655.804,158.49600219726562,4.335462345885474],[818.0,1346.234,74.94499969482422,5.567011381379463],[936.0,4698.44,96.71800231933594,2.058512996800534],[998.0,2609.786,104.83699798583984,4.017072739033967],[900.0,1915.901,121.41600036621094,6.337279227567082],[965.0,3549.98,126.96900177001953,3.5766118092566717],[1017.0,5417.755,149.1490020751953,2.752966937527629],[1418.0,2150.21,136.74600219726562,6.3596581663825855],[1476.0,3686.479,307.6199951171875,8.344547737827885],[895.0,2705.035,172.6389923095703,6.382134958512552],[1051.0,3620.051,165.40899658203125,4.569245126829705],[807.0,1398.32,95.61299896240234,6.837705106619015],[1096.0,2354.276,99.3499984741211,4.219981004775991],[940.0,2079.344,144.0540008544922,6.92785820461886],[930.0,2571.385,148.63099670410156,5.7801922346809205],[1203.0,1986.811,163.09999084472656,8.209134650169291],[761.0,2437.135,112.31700134277344,4.608567106587242],[888.0,977.016,57.11800003051758,5.846168133057699],[1084.0,1728.74,95.90399932861328,5.547624507227807],[807.0,2032.013,69.08499908447266,3.399830611319908],[891.0,1700.869,70.48500061035156,4.144058125581688],[1325.0,4222.242,143.74400329589844,3.40444730326329],[1181.0,2263.734,106.8030014038086,4.718001233664158],[1179.0,1413.604,160.14500427246094,11.328844570332285],[1573.0,10023.407,275.1090087890625,2.744665600291897],[748.0,1365.804,71.58100128173828,5.24094240290426],[925.0,3106.911,121.22200012207031,3.901688910725959],[1218.0,2014.382,104.31900024414062,5.178710091047775],[828.0,1576.83,72.20600128173828,4.579187418844295],[1735.0,2531.912,175.2259979248047,6.9206985113917865],[1462.0,2798.831,154.76300048828125,5.529558520928023],[1379.0,2491.32,152.92799377441406,6.1384325597223555],[1047.0,3433.277,185.8459930419922,5.413078994026698],[2737.0,2978.059,189.38400268554688,6.35931000380617],[1103.0,1738.784,107.89800262451172,6.205370997598034],[1012.0,1341.759,133.87400817871094,9.977499976243871],[1056.0,2437.782,144.68699645996094,5.935189946742572],[1038.0,2886.922,135.00399780273438,4.676399090125226],[962.0,1607.679,63.22100067138672,3.9324393101211434],[826.0,1654.449,113.36000061035156,6.851828010413135],[1019.0,1704.773,93.22100067138672,5.468235131231548],[1024.0,1305.319,63.185001373291016,4.84057919941409],[1432.0,2836.886,174.6999969482422,6.158160743857878],[805.0,2226.183,133.3040008544922,5.988007450701493],[877.0,4220.057,599.2960205078125,14.201135568192562],[903.0,1654.246,0.0,0.0],[863.0,1304.305,91.03900146484375,6.979886139074066],[1121.0,2956.194,103.95099639892578,3.516379374755175],[969.0,1324.513,101.2699966430664,7.645829070760348],[856.0,1835.391,68.09500122070312,3.7101086362524387],[976.0,1030.069,69.50299835205078,6.747411876959213],[2003.0,13118.429,139.8730010986328,1.0662328396706267],[997.0,1357.591,122.55500030517578,9.02738748268072],[988.0,2677.106,158.53900146484375,5.922029381961341],[1198.0,7245.474,462.60797119140625,6.38478543639795],[1182.0,3264.153,143.47000122070312,4.395320930115715],[1434.0,1716.121,133.17999267578125,7.760524475510468],[1152.0,2122.026,110.58399963378906,5.211246417633432],[2379.0,6527.358,269.1520080566406,4.123444917817438],[834.0,2646.131,119.79199981689453,4.5270624150174354],[1955.0,1917.85,162.4969940185547,8.472872862189432],[1009.0,2218.212,176.16900634765625,7.94193719564451],[816.0,2050.985,135.5780029296875,6.610385147258512],[912.0,1702.8,83.12200164794922,4.881489426422657],[986.0,1889.212,107.15999603271484,5.672206189670614],[821.0,1426.821,106.4229965209961,7.458749068514901],[820.0,1829.73,120.93599700927734,6.609499548772223],[920.0,1067.982,78.05999755859375,7.309111951325023],[951.0,2177.625,94.46199798583984,4.337845219132082],[1325.0,2590.33,117.13400268554688,4.521972254741674],[976.0,2103.393,90.8239974975586,4.317975487254403],[655.0,1149.893,63.551998138427734,5.526774845164941],[1441.0,2368.492,97.8219985961914,4.130138584091692],[1002.0,1894.512,119.00299835205078,6.281459185630653],[1025.0,2037.54,100.34100341796875,4.924615264454931],[1110.0,9624.527,190.8040008544922,1.9824766859322023],[886.0,1305.529,54.85700225830078,4.201898383959683],[1120.0,2370.238,278.3479919433594,11.743461554546421],[897.0,1472.424,99.31600189208984,6.7450683946590795],[853.0,887.673,47.87900161743164,5.393765937034246],[1034.0,1651.342,110.91899871826172,6.7169002024186995],[932.0,1790.406,109.2040023803711,6.099398902050708],[912.0,1581.9,130.84100341796875,8.271130024614386],[985.0,17519.206,209.95399475097656,1.1984219142479975],[895.0,2675.97,138.13900756835938,5.162203010730689],[2351.0,5876.625,302.1549987792969,5.141641673579648],[1016.0,1696.253,102.26399993896484,6.028817865392132],[1570.0,3171.568,133.52000427246094,4.209905005978115],[1047.0,1882.222,144.39300537109375,7.671412182649018],[1366.0,8831.936,245.73399353027344,2.7823342965234352],[937.0,3413.348,149.71400451660156,4.386133611523056],[922.0,1528.381,82.49200439453125,5.397345423237073],[1364.0,6958.001,247.92599487304688,3.5631785062081764],[1033.0,1442.242,88.06099700927734,6.105840496515148],[929.0,1323.496,78.91200256347656,5.962390664809337],[2780.0,3158.843,237.55499267578125,7.5203167742113175],[1161.0,2142.671,155.302001953125,7.248056372309375],[845.0,3380.833,105.51100158691406,3.120858257694923],[894.0,1405.665,108.02400207519531,7.684903864452057],[879.0,3654.797,160.23899841308594,4.384347315066336],[1025.0,1569.911,101.9000015258789,6.490813810464415],[828.0,3019.623,376.69500732421875,12.47490166818838],[1183.0,2215.117,116.83499908447266,5.274439228266497],[1118.0,2293.167,124.96299743652344,5.449363175332412],[880.0,3801.267,89.8010025024414,2.3623966919286388],[1300.0,3106.173,162.7830047607422,5.240629154026514],[1263.0,1872.118,139.1649932861328,7.4335586877736874],[885.0,2899.556,601.8800048828125,20.757660828071607],[1100.0,2050.257,140.96800231933594,6.875625740913212],[809.0,1328.85,65.98600006103516,4.965647061486436],[886.0,4197.546,79.06999969482422,1.88371967811669],[833.0,1011.625,68.40299987792969,6.761695099159768],[785.0,1226.758,98.98899841308594,8.069154155964338],[778.0,1424.423,79.56900024414062,5.586051265911706],[1067.0,1912.119,147.74099731445312,7.726558655279823],[894.0,3868.531,87.39800262451172,2.259203766155034],[890.0,4471.495,88.97799682617188,1.9898937166848],[917.0,2520.852,159.95399475097656,6.345235425983954],[1169.0,6433.632,227.91799926757812,3.542602495954074],[1283.0,78485.247,2732.2431640625,3.481218737834895],[1488.0,2795.932,174.57699584960938,6.243964166063409],[980.0,2460.265,155.0449981689453,6.30196340638102],[1378.0,1976.152,88.76799774169922,4.491962057922417],[1049.0,2767.714,132.71099853515625,4.794967836046283],[856.0,2640.922,84.09600067138672,3.184342290069529],[1332.0,2270.709,125.44000244140625,5.524265768973479],[834.0,1496.466,103.80500030517578,6.936676142324651],[774.0,1175.315,177.18099975585938,15.07519227558144],[1723.0,4999.179,317.739990234375,6.355843629523967],[1049.0,1983.69,94.1969985961914,4.748574724534832],[1128.0,7021.8,254.90199279785156,3.6301517016648153],[993.0,1640.646,113.60199737548828,6.924223869934465],[827.0,1665.17,112.7760009765625,6.772641597779806],[1102.0,1863.728,128.6269989013672,6.9015973335768415],[971.0,2300.976,119.73300170898438,5.203574398293376],[1194.0,1672.692,138.4770050048828,8.278690993507771],[1348.0,1548.697,129.09500122070312,8.335717057629736],[1173.0,1948.66,86.98300170898438,4.46373395291508],[1217.0,1610.626,120.63300323486328,7.489821213149422],[856.0,1477.121,139.93800354003906,9.473699704526576],[915.0,2465.619,213.22999572753906,8.64813257847218],[888.0,2340.834,132.71200561523438,5.66943243105342],[834.0,2201.254,95.78599548339844,4.351428599050814],[1095.0,3462.911,138.20700073242188,3.9910642217811834],[1094.0,1480.092,146.18099975585938,9.876480387283358],[887.0,1135.151,76.29800415039062,6.721396794760124],[1132.0,1978.965,160.29299926757812,8.099839969220023],[1014.0,1027.207,86.68399810791016,8.43880485049508],[947.0,1042.454,77.4020004272461,7.4249800905483605],[834.0,1884.358,47.65999984741211,2.529243381565499],[958.0,1232.939,72.93599700927734,5.915620812850433],[877.0,1965.268,100.4000015258789,5.108717996731235],[826.0,2068.871,264.2010192871094,12.770299145040942],[1021.0,1478.472,104.20500183105469,7.048155122315472],[1015.0,4328.98,77.73999786376953,1.7958040924189995],[819.0,1374.915,77.99099731445312,5.672423102064491],[849.0,1426.142,92.82600402832031,6.508889427516684],[926.0,1773.762,174.35400390625,9.829616594912396],[990.0,1685.531,110.07099914550781,6.530345398200923],[954.0,1644.494,115.10800170898438,6.999599758155092],[1058.0,2639.198,159.6739959716797,6.050095299429032],[4174.0,4160.31,229.47900390625,5.515911167827637],[2301.0,3032.468,193.39199829101562,6.3773794871866745],[1487.0,1709.045,105.40499877929688,6.167479498784409],[895.0,2620.805,165.16900634765625,6.30222408406005],[844.0,2383.18,128.87600708007812,5.40773277131291],[793.0,2857.386,79.92500305175781,2.797137134528289],[970.0,2612.854,221.53099060058594,8.478506494957239],[824.0,1382.109,67.55400085449219,4.887747567191698],[1138.0,1532.92,116.88099670410156,7.624729020023875],[759.0,1178.588,57.750999450683594,4.900016034149551],[774.0,1066.405,69.46199798583984,6.513660107586939],[1379.0,2706.57,200.7969970703125,7.4188730454966985],[836.0,1084.687,64.86599731445312,5.9801579712626785],[1011.0,1798.716,132.6840057373047,7.376595521819453],[833.0,2382.42,140.27099609375,5.887752625219314],[1607.0,2214.781,147.68699645996094,6.66824359552931],[1387.0,2409.435,189.80299377441406,7.8774894645943965],[1461.0,2751.563,164.4199981689453,5.975512826709765],[1260.0,156402.689,134.86300659179688,0.08622806210991679],[839.0,1106.749,42.75,3.8626644343026286],[1101.0,2227.957,139.74000549316406,6.272114307665049],[929.0,1775.165,122.57599639892578,6.905048043069236],[1000.0,8119.595,124.11399841308594,1.52857370522329],[1181.0,2837.977,170.45599365234375,6.006250089192055],[1254.0,2902.587,108.56800079345703,3.740387387074875],[815.0,1700.623,92.76599884033203,5.454824266974515],[1157.0,3276.76,248.6389923095703,7.587952256955041],[1604.0,12694.437,145.92599487304688,1.1495271203736723],[1344.0,2569.311,185.25100708007812,7.210143716545019],[1029.0,1482.707,80.1520004272461,5.405788328585823],[1494.0,3415.561,150.73399353027344,4.413154797722101],[1241.0,2884.39,171.375,5.94146422640489],[983.0,1375.908,107.52200317382812,7.81462146837761],[850.0,1345.612,107.79199981689453,8.010630252489202],[1567.0,11894.358,2809.8291015625,23.623209108890112],[925.0,1647.532,98.9729995727539,6.007349055852937],[886.0,75084.56,157.04299926757812,0.20915484894214603],[863.0,1438.712,55.04800033569336,3.8261999654465244],[808.0,1821.788,95.16799926757812,5.223878851264527],[2008.0,2389.411,0.0,0.0],[2464.0,3959.147,158.9080047607422,4.013693045812646],[1834.0,2725.728,0.0,0.0],[742.0,3378.902,121.90599822998047,3.60785829520211],[1017.0,3491.885,253.8280029296875,7.269082682061407],[1156.0,2254.605,94.6510009765625,4.198118787714478],[1093.0,1848.683,163.322998046875,8.83455941591257],[1325.0,2565.967,187.52499389648438,7.308161016879796],[1055.0,1842.536,95.82500457763672,5.200712496255162],[931.0,1975.051,115.50699615478516,5.8483042811299555],[830.0,1539.111,114.0459976196289,7.409861672988497],[951.0,10345.011,108.95899963378906,1.0532516969411632],[936.0,13742.875,107.91500091552734,0.7852432624177983],[1394.0,2669.369,159.593994140625,5.9787160988467685],[1073.0,1335.446,135.197998046875,10.123808678664282],[1110.0,7980.814,242.58599853515625,3.039614707143281],[1049.0,96243.712,205.05999755859375,0.21306327004511214],[1235.0,3003.12,223.66799926757812,7.447854491745252],[1041.0,2158.465,81.86000061035156,3.7925099549911625],[990.0,2504.208,108.81299591064453,4.345206071016265],[1013.0,1544.287,83.69599914550781,5.419717713983864],[795.0,1722.392,149.46800231933594,8.677931507280283],[748.0,1392.225,89.66300201416016,6.4402663396272155],[870.0,1396.015,49.073001861572266,3.5152203185272004],[1976.0,3352.663,240.13800048828125,7.162605004216052],[2776.0,4199.307,161.09800720214844,3.8362998421525267],[1891.0,2743.71,193.50999450683594,7.052859084961603],[1244.0,4455.05,177.8560028076172,3.9922334450511214],[1044.0,5090.384,117.36699676513672,2.305660873275965],[1057.0,1511.66,124.3219985961914,8.22420398456829],[948.0,1377.384,87.75599670410156,6.371207745534288],[982.0,2284.021,196.5709991455078,8.606356775780519],[651.0,1836.082,80.35700225830078,4.376547559048288],[1177.0,3016.609,890.5360107421875,29.52109523060496],[910.0,46274.341,70.25299835205078,0.15181847332385565],[735.0,1546.48,100.01000213623047,6.46694428637939],[1330.0,3184.984,167.70399475097656,5.265458285073017],[1059.0,1071.886,82.61699676513672,7.707628627251406],[1399.0,3073.087,103.04100036621094,3.3530126577526116],[899.0,37185.842,90.21800231933594,0.2426138368653183],[1013.0,1895.036,101.65599822998047,5.3643306034159774],[1574.0,2174.269,126.51399993896484,5.818691427153219],[1087.0,1906.033,123.22000122070312,6.464735920102118],[774.0,26440.382,110.54299926757812,0.4180839673453848],[1907.0,42185.207,0.0,0.0],[2296.0,6837.584,393.9280090332031,5.761216356720444],[1324.0,2895.635,177.0709991455078,6.115100697903913],[715.0,1554.474,100.85299682617188,6.487917973981874],[1233.0,4314.021,222.60400390625,5.160012060818666],[1083.0,1347.536,68.41699981689453,5.07719288784307],[775.0,1185.999,90.5780029296875,7.637275226412501],[1150.0,1410.344,94.02400207519531,6.666742575304323],[983.0,1938.629,96.47699737548828,4.976558276654533],[1195.0,1799.153,114.3740005493164,6.357102698116836],[855.0,14736.376,178.0749969482422,1.2084042915300206],[855.0,1481.246,83.40799713134766,5.630934905267254],[873.0,4229.81,75.60600280761719,1.7874561972420153],[1099.0,2605.868,94.71900177001953,3.6348350686316424],[960.0,1578.311,96.84600067138672,6.136052786412184],[911.0,1108.388,93.32499694824219,8.419885455273786],[861.0,1395.251,136.45599365234375,9.780032129971596],[1010.0,1789.54,135.58900451660156,7.576751785724264],[779.0,2245.679,129.1230010986328,5.749842165637876],[801.0,1111.526,84.21700286865234,7.576701035614551],[852.0,1800.77,128.06700134277344,7.111791175615154],[1055.0,1851.725,122.15599822998047,6.596875675046241],[922.0,1958.096,176.30299377441406,9.003796968138948],[832.0,1699.985,125.29000091552734,7.370065029985559],[1124.0,13317.422,163.80999755859375,1.2300428716608964],[909.0,1477.242,65.74500274658203,4.450523670651965],[1163.0,2219.732,124.81800079345703,5.6231111704870225],[1667.0,1498.891,118.15699768066406,7.882961599817798],[715.0,2075.748,148.54598999023438,7.156263011122978],[2285.0,2196.723,167.2429962158203,7.613294360793327],[1443.0,6006.65,260.13800048828125,4.3308334564607565],[1061.0,3065.315,199.54400634765625,6.5097389307868845],[1313.0,1302.797,81.09400177001953,6.224607817353739],[2165.0,1914.687,125.54100036621094,6.556737267958158],[1039.0,8116.817,220.55099487304688,2.7172104051840766],[1468.0,1761.899,119.88999938964844,6.804589820415359],[999.0,2100.274,97.70099639892578,4.651821433477251],[798.0,1931.898,55.12799835205078,2.853566702117555],[961.0,2161.106,133.6219940185547,6.183037397864797],[875.0,1330.011,123.5250015258789,9.287517170910617],[1080.0,1703.125,89.13899993896484,5.233849770642202],[1025.0,1256.946,106.23799896240234,8.45207336248932],[1063.0,3540.182,142.97500610351562,4.038634447766387],[727.0,1501.636,97.25399780273438,6.47653586758875],[664.0,1694.253,115.61000061035156,6.823656207189836],[807.0,2187.602,114.06100463867188,5.213974290541652],[970.0,2589.361,147.13699340820312,5.682366892352978],[1293.0,1379.53,81.48200225830078,5.90650453075504],[807.0,2104.809,165.59300231933594,7.867365058420977],[1084.0,2227.987,94.22599792480469,4.229198648544628],[851.0,1845.381,116.8499984741211,6.332025744277198],[898.0,1707.491,86.23400115966797,5.050334315451736],[1621.0,9030.286,159.62399291992188,1.767651590886767],[914.0,1167.762,84.5,7.23606351294185],[921.0,1087.942,94.06999969482422,8.646600645990318],[1123.0,1819.962,75.4530029296875,4.145855953568674],[1071.0,2039.425,69.15899658203125,3.3911025970861886],[697.0,1607.983,116.00499725341797,7.214317564302608],[1267.0,2720.844,84.76899719238281,3.11554040366243],[1370.0,3330.2,138.7270050048828,4.165725840884181],[1003.0,2224.649,119.47000122070312,5.370285379850934],[1061.0,1359.893,89.61299896240234,6.589709487943169],[1560.0,3468.327,145.5850067138672,4.197557201660195],[1151.0,2136.746,216.14599609375,10.115661669367814],[919.0,1757.904,93.55899810791016,5.322190184482486],[1379.0,2208.598,182.73699951171875,8.273891047057907],[898.0,1141.94,64.41100311279297,5.6404890779342605],[2020.0,2930.383,227.9929962158203,7.780313640955807],[999.0,1978.388,112.13999938964844,5.668251121620228],[1081.0,4357.703,154.75799560546875,3.551366351650743],[1330.0,3014.39,146.52099609375,4.860717959313493],[1267.0,3670.764,194.2239990234375,5.29110571821697],[909.0,4350.367,122.14399719238281,2.807671034205275],[2646.0,2881.236,223.3209991455078,7.750874836138033],[1139.0,3728.65,212.62100219726562,5.702358657791694],[1561.0,3503.081,247.99600219726562,7.079368021857045],[1759.0,1591.944,117.42500305175781,7.376201675435819],[990.0,2130.996,126.93399810791016,5.95655712824543],[1006.0,78584.266,129.8350067138672,0.16521756373677268],[1256.0,6301.15,321.32501220703125,5.09946628046071],[1801.0,7440.682,102.21600341796875,1.3737451198609887],[1206.0,3021.705,230.78399658203125,7.637542510147417],[1010.0,1562.486,152.58200073242188,9.765335622407177],[1530.0,4159.024,167.07000732421875,4.017048230546397],[2093.0,5439.471,239.7949981689453,4.408425010446789],[902.0,1429.613,98.69499969482422,6.903616573156511],[938.0,3037.637,771.4869995117188,25.397604494875456],[905.0,1405.827,134.91400146484375,9.596771431068687],[1479.0,2706.043,151.83799743652344,5.611071148790873],[1038.0,3254.609,165.73699951171875,5.092377984191035],[1169.0,2257.494,144.42300415039062,6.397492432427284],[1829.0,1802.95,95.05400085449219,5.272137547144957],[760.0,1180.836,86.16300201416016,7.2967794043266805],[1476.0,2542.315,68.7770004272461,2.7052903339328527],[954.0,1344.584,97.41300201416016,7.244842869383764],[829.0,1619.142,108.45600128173828,6.69836282792831],[926.0,1154.863,89.33499908447266,7.73554958466935],[2632.0,3943.154,293.1390075683594,7.434125167473804],[1272.0,3572.022,264.1610107421875,7.395279637835378],[1079.0,5694.886,79.72899627685547,1.4000103626415874],[1467.0,3128.819,257.20001220703125,8.220354693935635],[843.0,2851.398,178.6280059814453,6.264576457320233],[819.0,1765.02,118.31199645996094,6.70315306271317],[987.0,4538.231,824.8599853515625,18.175804625194267],[1018.0,2402.995,168.7830047607422,7.023860133396033],[1666.0,1829.139,129.8350067138672,7.098148897684922],[1180.0,1618.418,143.78700256347656,8.88441687828021],[1196.0,2556.001,125.33399963378906,4.903519361152441],[921.0,1231.681,74.96099853515625,6.086072294185751],[1057.0,4335.411,140.4860076904297,3.240431088525978],[1462.0,1891.108,126.38299560546875,6.683013241278394],[1199.0,2539.963,169.885009765625,6.688483257433277],[1034.0,3192.204,155.44900512695312,4.869645044810732],[877.0,1790.935,151.60400390625,8.46507572336517],[863.0,2146.319,142.91900634765625,6.6587960087130575],[1100.0,6406.76,110.74099731445312,1.728502333375216],[1052.0,1877.464,0.0,0.0],[785.0,1424.06,76.87100219726562,5.398017006064527],[926.0,2947.673,140.79600524902344,4.776513740139256],[936.0,1337.206,75.45500183105469,5.642735674234188],[1052.0,1946.554,113.947998046875,5.853831850895223],[1341.0,2204.378,186.6389923095703,8.46674138351045],[999.0,2511.068,178.42300415039062,7.10546300667684],[1295.0,2275.584,121.86499786376953,5.355328566205423],[908.0,1558.022,146.78199768066406,9.421048095156872],[1632.0,13576.138,314.71099853515625,2.3181187175156146],[1117.0,1526.373,95.58799743652344,6.262427207954739],[892.0,3364.619,191.8780059814453,5.702815320620254],[1145.0,2537.542,398.3110046386719,15.696726029559315],[2574.0,1965.387,129.55299377441406,6.591729671910672],[911.0,4914.996,111.96700286865234,2.2780690351146777],[1416.0,678.976,39.93600082397461,5.881798616823349],[945.0,1400.447,82.64599609375,5.901401202169736],[850.0,2547.417,144.99600219726562,5.691883419925949],[865.0,1511.304,106.8499984741211,7.070053410829323],[956.0,2080.694,135.58599853515625,6.516383288160104],[1939.0,9921.285,0.0,0.0],[885.0,1641.238,88.58300018310547,5.397327995505527],[892.0,1780.224,128.6479949951172,7.226506217581327],[1177.0,2582.192,154.14199829101562,5.969424502636714],[1216.0,2833.684,160.15499877929688,5.651829914697616],[1472.0,2519.239,148.35899353027344,5.8890400688709965],[824.0,1261.239,59.005001068115234,4.678336144061514],[853.0,2208.506,132.0260009765625,5.978068254908522],[1404.0,798.166,34.75899887084961,4.354858390790574],[956.0,2712.4,161.8330078125,5.966413796361156],[840.0,1039.584,56.43600082397461,5.428710039454484],[786.0,2220.695,163.62600708007812,7.368234082545103],[723.0,2090.541,68.40299987792969,3.2720237511187293],[1181.0,1662.335,113.61499786376953,6.834663289890425],[1032.0,1751.768,96.99600219726562,5.5370349189718615],[2448.0,67531.247,186.60499572753906,0.27632393638458946],[1019.0,67249.379,82.54299926757812,0.12274165096286614],[1013.0,1361.809,97.40499877929688,7.152618318721641],[1042.0,2637.6,133.8179931640625,5.073475442874204],[1005.0,2682.732,155.83499145507812,5.808816916276952],[889.0,1631.187,96.49700164794922,5.915753494426145],[923.0,1092.888,73.07499694824219,6.686412067584922],[972.0,2320.23,51.02399826049805,2.1990922892746623],[1040.0,1999.875,162.7779998779297,8.139408615382212],[740.0,1386.222,40.66999816894531,2.933873330432914],[853.0,6013.788,261.3280029296875,4.345480881808604],[1223.0,7412.097,5076.47021484375,68.48898918214373],[1240.0,2352.324,138.39700317382812,5.883415802972932],[928.0,4793.436,102.16400146484375,2.1313313436593293],[1626.0,2388.679,163.6790008544922,6.8522812779050675],[767.0,66347.266,82.12200164794922,0.12377601505557892],[1447.0,12407.255,218.14199829101562,1.758180936778522],[720.0,1544.164,120.47900390625,7.802215561705234],[1469.0,4776.918,122.9800033569336,2.5744632836485786],[1016.0,1808.943,107.14299774169922,5.922961533164671],[1035.0,2362.637,159.44500732421875,6.748603774749358],[1524.0,3040.922,216.56800842285156,7.121787662179431],[902.0,2151.709,100.84500122070312,4.686739703184771],[1075.0,1880.095,147.83599853515625,7.863219469960295],[927.0,2288.062,156.06399536132812,6.8207939356811575],[888.0,1511.164,104.83499908447266,6.937367486255628],[1735.0,1548.147,0.0,0.0],[915.0,4283.677,76.177001953125,1.7783087275983929],[1190.0,1970.441,116.60400390625,5.917660255052041],[1299.0,2000.308,191.5449981689453,9.575775330599088],[2906.0,2944.746,231.86500549316406,7.873853975860736],[1413.0,7341.484,64.40399932861328,0.877261314244334],[904.0,1144.017,48.26100158691406,4.218556278146434],[848.0,2112.75,108.90599822998047,5.1547034004851495],[1267.0,2677.236,118.85399627685547,4.4394291030236035],[1167.0,1380.1,77.93800354003906,5.647272149096986],[1074.0,4786.769,98.73300170898438,2.0626229936492653],[1859.0,1800.682,116.46700286865234,6.467938367414402],[938.0,2193.348,98.14800262451172,4.474802815005872],[1132.0,2011.241,115.3010025024414,5.732828927979043],[1061.0,1611.567,98.64399719238281,6.120998639251424],[710.0,1474.288,148.98399353027344,10.105487811107803],[986.0,2355.689,134.80599975585938,5.7225718714885545],[683.0,1489.562,84.66500091552734,5.6838855985853565],[1945.0,54848.529,140.5590057373047,0.2562675908888094],[2363.0,18932.365,167.99099731445312,0.8873217693286073],[1703.0,5519.641,378.739013671875,6.861660449248421],[899.0,5433.566,174.24400329589844,3.206807534982551],[880.0,3050.177,168.26699829101562,5.516630418087212],[940.0,1940.834,67.46900177001953,3.4762892605060505],[1084.0,15539.984,146.13699340820312,0.9403934533491154],[852.0,893.292,70.572998046875,7.900328005498202],[773.0,1602.371,59.055999755859375,3.685538553591053],[1850.0,2220.893,110.93199920654297,4.994927803956561],[1063.0,3044.609,151.7989959716797,4.985828858176042],[1486.0,1780.303,99.94100189208984,5.613707658717364],[1093.0,64278.247,120.052001953125,0.18676925329516997],[803.0,2288.29,126.75499725341797,5.539289163523854],[1114.0,2621.525,160.85699462890625,6.136008322922726],[1166.0,2933.538,198.42999267578125,6.764187135124891],[1095.0,4167.129,187.7830047607422,4.506292169320893],[816.0,1808.779,174.7830047607422,9.663038315487961],[1740.0,2388.402,187.71800231933594,7.859565006749283],[978.0,2497.064,133.48699951171875,5.345758136480483],[1037.0,2325.687,233.99398803710938,10.061284445198345],[802.0,2046.706,131.91099548339844,6.44503881328095],[974.0,2956.758,128.1280059814453,4.333395151463191],[1126.0,1815.241,118.7020034790039,6.539186915298024],[941.0,1223.273,105.69100189208984,8.640017874944922],[819.0,1552.268,102.5479965209961,6.60633331659707],[1015.0,1810.935,144.43600463867188,7.975769746532869],[761.0,1512.376,89.06099700927734,5.888813105586839],[1017.0,17797.926,196.5659942626953,1.1044320337872515],[815.0,787.584,51.47800064086914,6.536192067092209],[744.0,429372.786,174.5570068359375,0.040653953257007304],[914.0,1130.402,101.3219985961914,8.963360110219638],[866.0,1668.78,108.37000274658203,6.49396565155383],[808.0,3222.708,80.96800231933594,2.512421321748278],[973.0,2219.539,113.46399688720703,5.11205228385827],[1359.0,2221.152,115.63200378417969,5.205947272096867],[980.0,1813.957,106.91000366210938,5.893745000570576],[773.0,1939.949,141.31900024414062,7.284676241810995],[1018.0,3974.074,165.8939971923828,4.174406513473327],[1362.0,1421.008,73.66799926757812,5.1842071295077155],[955.0,2196.187,99.15399932861328,4.514825190489244],[776.0,1798.169,231.9759979248047,12.900678195083442],[1234.0,1792.67,127.59200286865234,7.117428302650516],[833.0,1021.919,62.802001953125,6.145497045570638],[1300.0,4437.516,152.5260009765625,3.4371931525148307],[974.0,19431.461,111.91500091552734,0.5759474287599888],[1039.0,3477.548,189.72900390625,5.455827034055318],[961.0,3721.24,132.8209991455078,3.5692671285310813],[819.0,1074.593,73.97200012207031,6.8837226701760565],[1078.0,2165.543,137.09500122070312,6.3307447600901945],[950.0,5808.006,124.14299774169922,2.1374461053737717],[1133.0,1713.559,171.6949920654297,10.019789222314493],[1457.0,2389.106,97.2229995727539,4.069430073294153],[1029.0,1246.666,85.1259994506836,6.828292108211021],[1610.0,2898.537,199.78199768066406,6.892511366510071],[761.0,1720.866,139.9530029296875,8.13270805585676],[937.0,1914.529,112.94400024414062,5.899310164863003],[1482.0,7186.058,276.927001953125,3.8536704294273716],[1182.0,2753.709,138.447998046875,5.027691671373955],[971.0,5938.781,78.29100036621094,1.3183008596640033],[1289.0,5394.49,106.14399719238281,1.9676372398618776],[1271.0,3179.353,185.71800231933594,5.841377406425144],[1092.0,2071.071,96.34200286865234,4.651796194004214],[1059.0,5078.81,123.04499816894531,2.4227131946263],[1859.0,2427.92,103.10099792480469,4.246474187524712],[1160.0,1598.237,120.91100311279297,7.565273852336981],[1062.0,793.626,0.0,0.0],[1717.0,3116.751,147.30300903320312,4.726171831259538],[1299.0,1164.2,64.56700134277344,5.546040367043893],[2209.0,3521.401,158.91500854492188,4.512834799718209],[2153.0,5179.708,194.8330078125,3.761467013439754],[1263.0,3207.571,153.59500122070312,4.788514424154602],[1222.0,1015.869,55.33300018310547,5.446863527371639],[1081.0,1981.963,112.96800231933594,5.699803580938443],[774.0,1990.387,57.15800094604492,2.871702986890866],[1452.0,2085.237,177.23399353027344,8.499464779063482],[1772.0,1065.76,53.64099884033203,5.033121995248695],[1905.0,4090.877,284.0469970703125,6.943425387453595],[926.0,1661.36,78.4489974975586,4.721974708879322],[1651.0,2577.266,172.02499389648438,6.6747087805449645],[830.0,1296.765,95.66500091552734,7.377204042366967],[1066.0,1344.901,58.70399856567383,4.364930877695644],[1518.0,6823.996,138.46099853515625,2.0290310265971727],[906.0,3805.985,271.9540100097656,7.145430260661826],[910.0,1802.964,146.72300720214844,8.137877839629633],[1962.0,4321.812,218.35899353027344,5.052486882238283],[1322.0,2455.659,110.03900146484375,4.481037632108122],[1453.0,1726.929,94.14099884033203,5.451353014151132],[931.0,1457.558,69.2490005493164,4.75102870852738],[1279.0,161629.94,129.93600463867188,0.08039104998701045],[825.0,2891.94,180.45399475097656,6.239894462065257],[983.0,1324.238,93.51599884033203,7.06187226871227],[861.0,1178.397,128.86700439453125,10.935788359366581],[1304.0,1426.982,112.25199890136719,7.866392284774791],[783.0,1581.847,101.25800323486328,6.4012516894807145],[976.0,3369.536,119.85700225830078,3.5570773528795954],[1306.0,563.35,27.861000061035156,4.945593498990414],[1634.0,1686.603,118.81500244140625,7.044633502964242],[985.0,1492.403,85.59100341796875,5.7351134954415794],[1021.0,1588.728,101.3290023803711,6.37799572401632],[977.0,2947.154,103.37100219726562,3.507485725529613],[1033.0,1789.861,120.60700225830078,6.738344595090065],[1070.0,716.708,52.869998931884766,7.376783850605825],[916.0,2099.537,91.1719970703125,4.342480851135274],[1294.0,1529.225,68.59700012207031,4.485736366664487],[1229.0,2440.64,154.63699340820312,6.335919766434214],[1739.0,5648.137,113.1510009765625,2.0033330652877224],[691.0,1312.197,65.29100036621094,4.975701131504073],[1011.0,2577.447,309.3089904785156,12.00059533231915],[996.0,1666.415,131.11700439453125,7.8682082166282115],[1371.0,3049.046,180.68699645996094,5.92601725875897],[2140.0,7131.135,690.738037109375,9.686228726212587],[1090.0,1730.038,132.08799743652344,7.634976691082797],[891.0,1363.236,92.83300018310547,6.809752533447987],[758.0,3919.79,141.177001953125,3.601647076836387],[1042.0,5911.473,184.70199584960938,3.124466477094626],[826.0,1892.221,70.1050033569336,3.7049057632703843],[1506.0,1442.286,87.1500015258789,6.042490879062821],[1172.0,3183.019,228.43499755859375,7.176677236296737],[1083.0,3624.99,170.32899475097656,4.698744104294081],[1500.0,1754.122,209.94300842285156,11.96855223368158],[923.0,1237.632,62.99799728393555,5.090204361787268],[1675.0,2650.467,217.08900451660156,8.190594484151283],[1237.0,2807.92,183.2729949951172,6.527001776448403],[795.0,1282.841,84.82499694824219,6.612276969632246],[908.0,1313.968,139.83299255371094,10.642039096937673],[1293.0,22805.669,126.50399780273438,0.5547041577277342],[1227.0,2199.376,303.260009765625,13.788456362168178],[1380.0,6414.2,121.68699645996094,1.8971499514748527],[1328.0,1587.731,105.03500366210938,6.6154153316903175],[1585.0,3151.535,223.20700073242188,7.082484953760628],[994.0,4108.554,752.9209594726562,18.325691654533443],[1006.0,2275.817,86.12899780273438,3.784530748325766],[1332.0,3146.66,168.2030029296875,5.345445895409736],[890.0,1848.27,103.32499694824219,5.590362879882268],[795.0,1379.336,77.44499969482422,5.614658067359947],[894.0,1083.763,59.71799850463867,5.510245140946407],[984.0,1389.071,101.64300537109375,7.31733711325771],[1635.0,2103.042,166.0489959716797,7.895657999519268],[1190.0,1911.477,117.05699920654297,6.123903240955816],[888.0,1224.865,73.95600128173828,6.037889969634409],[1662.0,1954.496,102.43599700927734,5.2410440386549775],[854.0,3930.535,106.56099700927734,2.711106658349309],[1011.0,1951.854,116.08100128173828,5.947217663789146],[985.0,1860.554,119.52299499511719,6.4240542358284145],[951.0,1559.211,122.552001953125,7.859872842939474],[1357.0,1568.373,101.69000244140625,6.4837892516639855],[1155.0,3259.284,185.31500244140625,5.685757976291725],[947.0,1006.558,0.0,0.0],[822.0,1919.398,69.6259994506836,3.6274915872873943],[794.0,1802.092,113.56600189208984,6.301898341448439],[922.0,3327.374,132.1820068359375,3.972562498797851],[1172.0,1155.676,0.0,0.0],[880.0,1769.847,60.983001708984375,3.4456652427971175],[989.0,4319.401,92.73100280761719,2.146848738039719],[1036.0,1602.04,152.97000122070312,9.54845072532521],[812.0,1362.009,133.9770050048828,9.836719284022719],[934.0,2292.096,152.2010040283203,6.640254416018133],[828.0,1348.354,82.85599517822266,6.1449735079771335],[1076.0,2634.655,159.5,6.053923568740498],[1050.0,1957.806,101.34600067138672,5.176508606764409],[1723.0,1891.713,152.50799560546875,8.061899349789053],[1744.0,2897.368,143.25,4.944142407868107],[1077.0,3244.102,125.12100219726562,3.856876444062949],[1178.0,11004.502,133.71299743652344,1.2150754122892158],[1117.0,1089.332,55.119998931884766,5.059981713563908],[1122.0,13894.005,149.11900329589844,1.0732614815256654],[1769.0,2747.783,188.29200744628906,6.852506610556583],[907.0,57994.659,2617.550048828125,4.5134328662920495],[1158.0,1975.943,135.0260009765625,6.833496517548836],[846.0,2324.231,175.5709991455078,7.553939177893676],[776.0,2651.666,97.46199798583984,3.675500683461831],[734.0,1317.294,92.66000366210938,7.03411690936116],[949.0,1412.498,97.00900268554688,6.867903806323973],[874.0,65519.297,105.3740005493164,0.16082895991123042],[992.0,960.991,59.75699996948242,6.2182686365559094],[1102.0,1016.166,58.64699935913086,5.771399266489185],[1967.0,2329.791,0.0,0.0],[789.0,1479.321,77.26499938964844,5.223004337800924],[1236.0,2826.358,166.2570037841797,5.882376249532083],[880.0,1982.736,99.0270004272461,4.994462296197023],[1109.0,2359.63,138.29400634765625,5.8608342793679515],[986.0,1446.699,69.43900299072266,4.799823868423908],[2355.0,4327.412,323.7330017089844,7.4809841959235674],[1272.0,1554.955,104.55899810791016,6.724245662454862],[963.0,5307.032,141.02099609375,2.657247894750776],[920.0,1710.115,97.69599914550781,5.712831949532633],[788.0,60160.798,133.7050018310547,0.22224605464841074],[995.0,2437.292,105.00599670410156,4.308305943389221],[944.0,4620.926,101.3689956665039,2.1936943837798957],[771.0,1134.312,76.48799896240234,6.743118123309548],[803.0,1345.167,62.215999603271484,4.625150704452496],[945.0,11578.347,10154.64453125,87.70374885983293],[975.0,2520.01,211.02700805664062,8.37405453624192],[909.0,1463.574,119.96199798583984,8.196510866763484],[1169.0,2771.595,147.19200134277344,5.310732699154278],[807.0,974.111,66.26699829101562,6.8028178585718155],[808.0,1774.0,97.60900115966797,5.502198641840473],[759.0,1422.272,91.42500305175781,6.4280953291634795],[1248.0,2361.224,206.7949981689453,8.757957737173601],[926.0,1703.515,103.66799926757812,6.0855347940508295],[1032.0,1298.742,66.14800262451172,5.093236603550783],[1082.0,1597.65,70.41300201416016,4.407285884247957],[984.0,1349.74,96.48500061035156,7.148413768577652],[927.0,9773.719,62.551998138427734,0.6400019999583834],[1269.0,2737.639,0.0,0.0],[1315.0,1790.371,0.0,0.0],[1469.0,3102.074,223.69700622558594,7.211208105246683],[1020.0,1194.228,96.98200225830078,8.120895001048794],[1476.0,3223.078,247.86900329589844,7.690443852312914],[1558.0,1420.828,96.09000396728516,6.762957937202814],[925.0,8948.162,1242.1279296875,13.881375513205953],[956.0,2140.767,128.43099975585938,5.9992981998391235],[1206.0,1356.971,122.56099700927734,9.031953969078927],[929.0,2056.449,180.322998046875,8.768659364394644],[2609.0,4566.888,203.0989990234375,4.4472078996955915],[1026.0,1520.077,75.84700012207031,4.989681572257524],[1215.0,95658.146,166.85299682617188,0.17442632463444357],[924.0,1808.035,110.13600158691406,6.091475323175436],[1029.0,4160.05,2338.914794921875,56.22323875313998],[850.0,5097.616,105.1259994506836,2.0622580455991586],[900.0,1405.208,76.08100128173828,5.414216327871923],[965.0,2320.836,157.68600463867188,6.794362284081038],[1000.0,1732.983,120.37699890136719,6.946230975902534],[737.0,1391.044,74.03800201416016,5.32247742916022],[1116.0,1315.688,67.37200164794922,5.120667054280726],[1177.0,5113.985,616.6939697265625,12.058971318355452],[941.0,1414.937,93.447998046875,6.604392849072079],[1381.0,1774.09,0.0,0.0],[1174.0,1551.056,121.45500183105469,7.830471627072137],[1053.0,3767.294,178.22900390625,4.730955532173756],[942.0,1719.028,106.41100311279297,6.190184561238968],[1842.0,58325.049,261.5950012207031,0.4485122678593892],[1406.0,1774.651,246.90499877929688,13.912876390907282],[868.0,3423.278,134.11599731445312,3.917765255808906],[1051.0,2705.279,156.2030029296875,5.774007332053367],[1055.0,1801.585,118.21700286865234,6.561833160973531],[1266.0,2078.027,85.66099548339844,4.122227290297479],[890.0,1120.91,125.51399993896484,11.197509515148406],[798.0,1771.576,88.16100311279297,4.976416809630239],[947.0,3613.377,126.07600402832031,3.4891461881606873],[1053.0,2674.677,209.906005859375,7.84790147090658],[930.0,3137.462,119.31099700927734,3.8027869690134892],[962.0,2336.104,122.99400329589844,5.264919879690717],[1388.0,5936.094,132.59500122070312,2.23370788939663],[1092.0,2616.451,118.0,4.509925849939479],[815.0,2493.65,79.14299774169922,3.173781326444168],[844.0,1450.536,99.9800033569336,6.892624519487969],[876.0,2245.917,140.7519989013672,6.267017078241316],[829.0,1773.905,62.84299850463867,3.542636051359853],[1024.0,1305.701,95.05400085449219,7.279921199895688],[1262.0,4950.128,168.3679962158203,3.4012855481969355],[882.0,1514.511,76.04499816894531,5.021092616692781],[874.0,1673.8,117.8270034790039,7.039491095299618],[1262.0,2059.951,106.1500015258789,5.153035193555575],[904.0,6028.919,102.05000305175781,1.6926749223202369],[1811.0,2045.349,184.14599609375,9.003157705298705],[1264.0,2092.321,125.58799743652344,6.0023293771307085],[1180.0,1764.41,153.64199829101562,8.707840125204742],[826.0,197178.293,60.13399887084961,0.03049727133170663],[824.0,4688.587,82.06999969482422,1.7504207557628768],[818.0,1923.668,148.74900817871094,7.732571519942631],[918.0,1683.105,77.24500274658203,4.589434698537079],[1076.0,2102.277,156.197998046875,7.429943725154915],[875.0,1712.777,118.10199737548828,6.895351931578075],[880.0,1587.391,73.50700378417969,4.630680276826881],[1018.0,1454.948,125.45899963378906,8.62292012540998],[939.0,2306.959,98.23200225830078,4.258073158349369],[1032.0,1744.227,124.45600128173828,7.135310132188929],[1012.0,2186.72,150.8300018310547,6.897545181824834],[1178.0,1950.408,90.37899780273438,4.633850668199936],[1268.0,3581.75,289.9759826660156,8.095930105744399],[949.0,3113.043,180.81300354003906,5.808239970103208],[908.0,2230.884,168.4770050048828,7.552029227819555],[899.0,1240.679,85.23799896240234,6.870270073635082],[856.0,2777.334,142.6719970703125,5.1370124078522785],[851.0,1892.241,124.10900115966797,6.5588370564980885],[988.0,2167.579,78.39600372314453,3.6167542617535506],[797.0,1384.492,428.125,30.922894462373204],[998.0,1700.279,133.18600463867188,7.833185368952684],[1474.0,1800.962,0.0,0.0],[1646.0,3786.479,306.4850158691406,8.094195677072289],[916.0,1247.121,156.82000732421875,12.574562513631395],[857.0,1296.713,78.55000305175781,6.0576245385688665],[2106.0,2496.524,141.3800048828125,5.6630739380034],[1384.0,2230.442,170.53199768066406,7.645659119918832],[904.0,2473.424,104.0510025024414,4.206759773470905],[1073.0,2324.414,112.13099670410156,4.824054410864416],[900.0,1710.352,133.87399291992188,7.827277317220373],[1109.0,5960.014,232.2830047607422,3.8973567480294506],[1046.0,2272.866,184.62200927734375,8.122872695475667],[1760.0,2169.245,102.80599975585938,4.739252417027584],[856.0,1094.276,78.71900177001953,7.193706515198176],[1490.0,3436.93,127.69000244140625,3.7152342352040924],[1047.0,1935.926,0.0,0.0],[1045.0,1864.289,135.24099731445312,7.2542935185344115],[1265.0,3125.244,139.83299255371094,4.4743062711663475],[988.0,1186.652,69.46099853515625,5.85352707396524],[993.0,1199.382,48.92300033569336,4.079017197763098],[2042.0,11089.874,0.0,0.0],[867.0,1310.792,94.60400390625,7.217316241344927],[2290.0,11144.09,1039.83203125,9.33079355290562],[818.0,1600.021,94.3280029296875,5.89542311085292],[2159.0,3903.186,183.50599670410156,4.701441235281895],[907.0,2404.614,136.73599243164062,5.686401064526365],[767.0,8133.954,160.9969940185547,1.9793201705775567],[930.0,6033.037,541.3359985351562,8.972860859712943],[845.0,2890.811,94.81099700927734,3.2797369351974237],[913.0,8430.164,168.81700134277344,2.002535089323292],[1681.0,4107.803,188.52099609375,4.589338780212927],[1628.0,2902.503,129.34300231933594,4.456257169996896],[1156.0,1182.548,62.83700180053711,5.313695676887957],[726.0,1347.741,87.64099884033203,6.5028070002878895],[1328.0,7988.668,106.20700073242188,1.3294707196885014],[1089.0,87442.151,2975.923095703125,3.403305031917616],[938.0,7638.975,102.2969970703125,1.339145529177671],[853.0,1208.551,79.7229995727539,6.596577061859616],[824.0,1160.244,74.44000244140625,6.415891829649626],[900.0,1124.506,83.05599975585938,7.385998482333576],[834.0,1386.03,86.27300262451172,6.224468304933876],[932.0,4276.08,59.89099884033203,1.4006052500552493],[1453.0,351788.25,171.98699951171875,0.04888935096254636],[839.0,2518.018,560.2470092773438,22.24952292586868],[1823.0,3028.961,214.30699157714844,7.075264164428001],[2252.0,3988.212,203.74000549316406,5.108554911323671],[1002.0,1683.908,76.52999877929688,4.5447851070248495],[1184.0,2646.527,183.83399963378906,6.946235723506693],[951.0,2441.413,138.4340057373047,5.670241122917344],[864.0,1348.803,96.95999908447266,7.188596110773775],[896.0,1602.254,171.47999572753906,10.702422961652772],[1094.0,1864.659,0.0,0.0],[828.0,1218.654,60.58399963378906,4.971386383947987],[1312.0,21728.943,947.9559936523438,4.362642101942097],[814.0,1174.077,77.17900085449219,6.573589212925345],[921.0,1138.563,0.0,0.0],[1050.0,1484.779,96.22799682617188,6.48096437563267],[39.0,83.131,0.0,0.0]],\"hovertemplate\":\"score=%{y}<br>nb_events=%{customdata[0]}<br>end_time=%{customdata[1]}<br>hover_time=%{customdata[2]}<br>hover_percent=%{customdata[3]}<extra></extra>\",\"legendgroup\":\"\",\"marker\":{\"color\":\"#636efa\"},\"name\":\"\",\"offsetgroup\":\"\",\"orientation\":\"v\",\"points\":\"all\",\"scalegroup\":\"True\",\"showlegend\":false,\"x0\":\" \",\"xaxis\":\"x\",\"y\":[16,10,17,12,16,12,12,9,15,14,14,13,15,15,6,11,16,4,12,13,10,15,12,6,5,10,12,14,15,13,15,17,6,10,11,14,8,15,12,11,11,14,13,8,14,16,14,17,15,14,9,10,10,11,12,13,12,9,15,12,13,16,13,13,9,11,9,16,17,17,13,14,14,8,11,12,8,14,17,12,3,8,13,13,12,17,16,8,15,15,13,13,9,12,9,8,11,17,17,11,12,16,13,9,15,15,15,15,8,8,4,17,8,14,16,12,12,7,13,13,12,17,13,16,14,15,11,17,13,11,14,10,11,13,5,15,11,14,11,10,6,8,11,4,7,13,17,9,12,13,14,14,13,12,16,16,17,16,9,17,14,10,14,12,12,10,13,15,10,14,13,13,16,17,10,17,16,12,14,13,9,16,10,14,16,12,17,10,13,18,15,15,15,16,12,5,15,6,12,4,5,15,8,15,16,3,15,15,16,16,16,16,16,10,16,9,11,11,8,10,12,17,16,15,12,13,16,11,11,15,9,15,11,10,16,7,16,15,13,13,12,10,16,14,14,14,13,12,13,13,12,16,12,12,12,11,11,13,15,16,18,14,16,14,6,14,17,13,15,14,9,3,5,12,14,15,11,13,16,16,17,12,10,10,9,11,10,10,11,7,18,12,15,10,8,11,13,10,10,6,14,15,8,16,18,14,14,13,14,10,12,6,11,15,14,13,14,10,11,13,17,17,14,12,8,14,13,15,12,5,15,16,15,16,13,6,5,13,16,11,15,11,16,15,14,13,7,14,7,15,15,13,12,12,13,9,12,17,11,16,18,15,15,11,14,12,18,10,17,14,13,18,14,17,17,11,15,12,10,12,9,14,18,12,10,13,12,9,9,9,14,12,15,16,13,13,10,17,18,13,10,12,14,12,16,12,6,11,10,12,11,15,13,12,12,15,10,13,11,13,9,10,10,8,9,7,18,4,16,7,8,12,15,9,3,9,13,8,4,14,14,12,9,13,13,11,15,10,13,12,15,3,8,18,10,17,12,15,12,11,14,10,13,13,11,14,13,16,14,15,13,17,11,16,12,10,15,8,15,6,13,12,11,3,11,11,15,11,15,11,14,15,15,11,11,12,13,14,13,14,16,14,13,13,9,6,16,17,7,14,15,14,14,13,17,10,13,15,13,14,13,8,17,7,15,13,13,16,9,12,16,13,11,12,13,12,18,13,11,4,16,11,13,14,6,14,17,10,15,8,13,7,13,12,15,12,16,12,9,10,11,12,14,14,10,13,15,11,8,16,12,10,12,14,15,12,15,11,14,17,15,16,12,11,7,11,15,10,11,16,18,12,17,5,9,14,11,15,10,14,13,7,13,8,12,7,5,8,10,7,12,14,14,8,12,13,10,12,9,8,5,14,13,11,4,9,11,16,10,16,5,10,11,11,8,6,10,12,16,16,12,15,14,16,10,15,8,12,12,18,12,11,14,14,10,8,15,9,13,6,10,16,17,15,13,14,8,11,12,10,11,9,13,15,11,11,14,8,13,8,9,10,3,12,16,11,8,15,17,7,10,14,17,12,15,7,10,18,13,17,11,13,13,14,12,16,12,13,17,15,12,6,10,11,11,14,14,15,16,15,14,10,14,12,14,16,7,13,16,17,15,12,12,17,12,12,13,9,13,15,15,16,14,16,11,16,10,17,10,15,15,8,11,15,16,14,10,15,9,11,12,15,14,15,4,15,17,10,13,16,13,10,12,12,14,13,13,10,9,13,15,8,13,11,8,16,5,16,13,15,16,16,13,16,11,13,14,13,15,11,8,14,17,10,12,15,9,13,17,16,12,16,9,10,16,16,12,16,12,16,12,13,13,10,15,16,12,15,15,7,9,14,13,10,6,12,5,12,9,17,12,15,11,16,11,9,18,16,3,16,11,14,11,13,13,16,9,13,10,8,13,13,10,10,16,17,17,16,15,14,11,16,4,9,16,13,14,17,16,10,18,14,14,12,13,18],\"y0\":\" \",\"yaxis\":\"y\",\"type\":\"violin\"}],                        {\"template\":{\"data\":{\"histogram2dcontour\":[{\"type\":\"histogram2dcontour\",\"colorbar\":{\"outlinewidth\":0,\"ticks\":\"\"},\"colorscale\":[[0.0,\"#0d0887\"],[0.1111111111111111,\"#46039f\"],[0.2222222222222222,\"#7201a8\"],[0.3333333333333333,\"#9c179e\"],[0.4444444444444444,\"#bd3786\"],[0.5555555555555556,\"#d8576b\"],[0.6666666666666666,\"#ed7953\"],[0.7777777777777778,\"#fb9f3a\"],[0.8888888888888888,\"#fdca26\"],[1.0,\"#f0f921\"]]}],\"choropleth\":[{\"type\":\"choropleth\",\"colorbar\":{\"outlinewidth\":0,\"ticks\":\"\"}}],\"histogram2d\":[{\"type\":\"histogram2d\",\"colorbar\":{\"outlinewidth\":0,\"ticks\":\"\"},\"colorscale\":[[0.0,\"#0d0887\"],[0.1111111111111111,\"#46039f\"],[0.2222222222222222,\"#7201a8\"],[0.3333333333333333,\"#9c179e\"],[0.4444444444444444,\"#bd3786\"],[0.5555555555555556,\"#d8576b\"],[0.6666666666666666,\"#ed7953\"],[0.7777777777777778,\"#fb9f3a\"],[0.8888888888888888,\"#fdca26\"],[1.0,\"#f0f921\"]]}],\"heatmap\":[{\"type\":\"heatmap\",\"colorbar\":{\"outlinewidth\":0,\"ticks\":\"\"},\"colorscale\":[[0.0,\"#0d0887\"],[0.1111111111111111,\"#46039f\"],[0.2222222222222222,\"#7201a8\"],[0.3333333333333333,\"#9c179e\"],[0.4444444444444444,\"#bd3786\"],[0.5555555555555556,\"#d8576b\"],[0.6666666666666666,\"#ed7953\"],[0.7777777777777778,\"#fb9f3a\"],[0.8888888888888888,\"#fdca26\"],[1.0,\"#f0f921\"]]}],\"heatmapgl\":[{\"type\":\"heatmapgl\",\"colorbar\":{\"outlinewidth\":0,\"ticks\":\"\"},\"colorscale\":[[0.0,\"#0d0887\"],[0.1111111111111111,\"#46039f\"],[0.2222222222222222,\"#7201a8\"],[0.3333333333333333,\"#9c179e\"],[0.4444444444444444,\"#bd3786\"],[0.5555555555555556,\"#d8576b\"],[0.6666666666666666,\"#ed7953\"],[0.7777777777777778,\"#fb9f3a\"],[0.8888888888888888,\"#fdca26\"],[1.0,\"#f0f921\"]]}],\"contourcarpet\":[{\"type\":\"contourcarpet\",\"colorbar\":{\"outlinewidth\":0,\"ticks\":\"\"}}],\"contour\":[{\"type\":\"contour\",\"colorbar\":{\"outlinewidth\":0,\"ticks\":\"\"},\"colorscale\":[[0.0,\"#0d0887\"],[0.1111111111111111,\"#46039f\"],[0.2222222222222222,\"#7201a8\"],[0.3333333333333333,\"#9c179e\"],[0.4444444444444444,\"#bd3786\"],[0.5555555555555556,\"#d8576b\"],[0.6666666666666666,\"#ed7953\"],[0.7777777777777778,\"#fb9f3a\"],[0.8888888888888888,\"#fdca26\"],[1.0,\"#f0f921\"]]}],\"surface\":[{\"type\":\"surface\",\"colorbar\":{\"outlinewidth\":0,\"ticks\":\"\"},\"colorscale\":[[0.0,\"#0d0887\"],[0.1111111111111111,\"#46039f\"],[0.2222222222222222,\"#7201a8\"],[0.3333333333333333,\"#9c179e\"],[0.4444444444444444,\"#bd3786\"],[0.5555555555555556,\"#d8576b\"],[0.6666666666666666,\"#ed7953\"],[0.7777777777777778,\"#fb9f3a\"],[0.8888888888888888,\"#fdca26\"],[1.0,\"#f0f921\"]]}],\"mesh3d\":[{\"type\":\"mesh3d\",\"colorbar\":{\"outlinewidth\":0,\"ticks\":\"\"}}],\"scatter\":[{\"fillpattern\":{\"fillmode\":\"overlay\",\"size\":10,\"solidity\":0.2},\"type\":\"scatter\"}],\"parcoords\":[{\"type\":\"parcoords\",\"line\":{\"colorbar\":{\"outlinewidth\":0,\"ticks\":\"\"}}}],\"scatterpolargl\":[{\"type\":\"scatterpolargl\",\"marker\":{\"colorbar\":{\"outlinewidth\":0,\"ticks\":\"\"}}}],\"bar\":[{\"error_x\":{\"color\":\"#2a3f5f\"},\"error_y\":{\"color\":\"#2a3f5f\"},\"marker\":{\"line\":{\"color\":\"#E5ECF6\",\"width\":0.5},\"pattern\":{\"fillmode\":\"overlay\",\"size\":10,\"solidity\":0.2}},\"type\":\"bar\"}],\"scattergeo\":[{\"type\":\"scattergeo\",\"marker\":{\"colorbar\":{\"outlinewidth\":0,\"ticks\":\"\"}}}],\"scatterpolar\":[{\"type\":\"scatterpolar\",\"marker\":{\"colorbar\":{\"outlinewidth\":0,\"ticks\":\"\"}}}],\"histogram\":[{\"marker\":{\"pattern\":{\"fillmode\":\"overlay\",\"size\":10,\"solidity\":0.2}},\"type\":\"histogram\"}],\"scattergl\":[{\"type\":\"scattergl\",\"marker\":{\"colorbar\":{\"outlinewidth\":0,\"ticks\":\"\"}}}],\"scatter3d\":[{\"type\":\"scatter3d\",\"line\":{\"colorbar\":{\"outlinewidth\":0,\"ticks\":\"\"}},\"marker\":{\"colorbar\":{\"outlinewidth\":0,\"ticks\":\"\"}}}],\"scattermapbox\":[{\"type\":\"scattermapbox\",\"marker\":{\"colorbar\":{\"outlinewidth\":0,\"ticks\":\"\"}}}],\"scatterternary\":[{\"type\":\"scatterternary\",\"marker\":{\"colorbar\":{\"outlinewidth\":0,\"ticks\":\"\"}}}],\"scattercarpet\":[{\"type\":\"scattercarpet\",\"marker\":{\"colorbar\":{\"outlinewidth\":0,\"ticks\":\"\"}}}],\"carpet\":[{\"aaxis\":{\"endlinecolor\":\"#2a3f5f\",\"gridcolor\":\"white\",\"linecolor\":\"white\",\"minorgridcolor\":\"white\",\"startlinecolor\":\"#2a3f5f\"},\"baxis\":{\"endlinecolor\":\"#2a3f5f\",\"gridcolor\":\"white\",\"linecolor\":\"white\",\"minorgridcolor\":\"white\",\"startlinecolor\":\"#2a3f5f\"},\"type\":\"carpet\"}],\"table\":[{\"cells\":{\"fill\":{\"color\":\"#EBF0F8\"},\"line\":{\"color\":\"white\"}},\"header\":{\"fill\":{\"color\":\"#C8D4E3\"},\"line\":{\"color\":\"white\"}},\"type\":\"table\"}],\"barpolar\":[{\"marker\":{\"line\":{\"color\":\"#E5ECF6\",\"width\":0.5},\"pattern\":{\"fillmode\":\"overlay\",\"size\":10,\"solidity\":0.2}},\"type\":\"barpolar\"}],\"pie\":[{\"automargin\":true,\"type\":\"pie\"}]},\"layout\":{\"autotypenumbers\":\"strict\",\"colorway\":[\"#636efa\",\"#EF553B\",\"#00cc96\",\"#ab63fa\",\"#FFA15A\",\"#19d3f3\",\"#FF6692\",\"#B6E880\",\"#FF97FF\",\"#FECB52\"],\"font\":{\"color\":\"#2a3f5f\"},\"hovermode\":\"closest\",\"hoverlabel\":{\"align\":\"left\"},\"paper_bgcolor\":\"white\",\"plot_bgcolor\":\"#E5ECF6\",\"polar\":{\"bgcolor\":\"#E5ECF6\",\"angularaxis\":{\"gridcolor\":\"white\",\"linecolor\":\"white\",\"ticks\":\"\"},\"radialaxis\":{\"gridcolor\":\"white\",\"linecolor\":\"white\",\"ticks\":\"\"}},\"ternary\":{\"bgcolor\":\"#E5ECF6\",\"aaxis\":{\"gridcolor\":\"white\",\"linecolor\":\"white\",\"ticks\":\"\"},\"baxis\":{\"gridcolor\":\"white\",\"linecolor\":\"white\",\"ticks\":\"\"},\"caxis\":{\"gridcolor\":\"white\",\"linecolor\":\"white\",\"ticks\":\"\"}},\"coloraxis\":{\"colorbar\":{\"outlinewidth\":0,\"ticks\":\"\"}},\"colorscale\":{\"sequential\":[[0.0,\"#0d0887\"],[0.1111111111111111,\"#46039f\"],[0.2222222222222222,\"#7201a8\"],[0.3333333333333333,\"#9c179e\"],[0.4444444444444444,\"#bd3786\"],[0.5555555555555556,\"#d8576b\"],[0.6666666666666666,\"#ed7953\"],[0.7777777777777778,\"#fb9f3a\"],[0.8888888888888888,\"#fdca26\"],[1.0,\"#f0f921\"]],\"sequentialminus\":[[0.0,\"#0d0887\"],[0.1111111111111111,\"#46039f\"],[0.2222222222222222,\"#7201a8\"],[0.3333333333333333,\"#9c179e\"],[0.4444444444444444,\"#bd3786\"],[0.5555555555555556,\"#d8576b\"],[0.6666666666666666,\"#ed7953\"],[0.7777777777777778,\"#fb9f3a\"],[0.8888888888888888,\"#fdca26\"],[1.0,\"#f0f921\"]],\"diverging\":[[0,\"#8e0152\"],[0.1,\"#c51b7d\"],[0.2,\"#de77ae\"],[0.3,\"#f1b6da\"],[0.4,\"#fde0ef\"],[0.5,\"#f7f7f7\"],[0.6,\"#e6f5d0\"],[0.7,\"#b8e186\"],[0.8,\"#7fbc41\"],[0.9,\"#4d9221\"],[1,\"#276419\"]]},\"xaxis\":{\"gridcolor\":\"white\",\"linecolor\":\"white\",\"ticks\":\"\",\"title\":{\"standoff\":15},\"zerolinecolor\":\"white\",\"automargin\":true,\"zerolinewidth\":2},\"yaxis\":{\"gridcolor\":\"white\",\"linecolor\":\"white\",\"ticks\":\"\",\"title\":{\"standoff\":15},\"zerolinecolor\":\"white\",\"automargin\":true,\"zerolinewidth\":2},\"scene\":{\"xaxis\":{\"backgroundcolor\":\"#E5ECF6\",\"gridcolor\":\"white\",\"linecolor\":\"white\",\"showbackground\":true,\"ticks\":\"\",\"zerolinecolor\":\"white\",\"gridwidth\":2},\"yaxis\":{\"backgroundcolor\":\"#E5ECF6\",\"gridcolor\":\"white\",\"linecolor\":\"white\",\"showbackground\":true,\"ticks\":\"\",\"zerolinecolor\":\"white\",\"gridwidth\":2},\"zaxis\":{\"backgroundcolor\":\"#E5ECF6\",\"gridcolor\":\"white\",\"linecolor\":\"white\",\"showbackground\":true,\"ticks\":\"\",\"zerolinecolor\":\"white\",\"gridwidth\":2}},\"shapedefaults\":{\"line\":{\"color\":\"#2a3f5f\"}},\"annotationdefaults\":{\"arrowcolor\":\"#2a3f5f\",\"arrowhead\":0,\"arrowwidth\":1},\"geo\":{\"bgcolor\":\"white\",\"landcolor\":\"#E5ECF6\",\"subunitcolor\":\"white\",\"showland\":true,\"showlakes\":true,\"lakecolor\":\"white\"},\"title\":{\"x\":0.05},\"mapbox\":{\"style\":\"light\"}}},\"xaxis\":{\"anchor\":\"y\",\"domain\":[0.0,1.0]},\"yaxis\":{\"anchor\":\"x\",\"domain\":[0.0,1.0],\"title\":{\"text\":\"score\"}},\"legend\":{\"tracegroupgap\":0},\"margin\":{\"t\":60},\"violinmode\":\"group\"},                        {\"responsive\": true}                    ).then(function(){\n",
       "                            \n",
       "var gd = document.getElementById('f1b68186-2eed-479c-92c9-b9415e315690');\n",
       "var x = new MutationObserver(function (mutations, observer) {{\n",
       "        var display = window.getComputedStyle(gd).display;\n",
       "        if (!display || display === 'none') {{\n",
       "            console.log([gd, 'removed!']);\n",
       "            Plotly.purge(gd);\n",
       "            observer.disconnect();\n",
       "        }}\n",
       "}});\n",
       "\n",
       "// Listen for the removal of the full notebook cells\n",
       "var notebookContainer = gd.closest('#notebook-container');\n",
       "if (notebookContainer) {{\n",
       "    x.observe(notebookContainer, {childList: true});\n",
       "}}\n",
       "\n",
       "// Listen for the clearing of the current output cell\n",
       "var outputEl = gd.closest('.output');\n",
       "if (outputEl) {{\n",
       "    x.observe(outputEl, {childList: true});\n",
       "}}\n",
       "\n",
       "                        })                };                });            </script>        </div>"
      ]
     },
     "metadata": {},
     "output_type": "display_data"
    }
   ],
   "source": [
    "px.violin(\n",
    "    players_profile,\n",
    "    y=\"score\",\n",
    "    box=True,\n",
    "    points=\"all\",\n",
    "    hover_data=[\"nb_events\", \"end_time\", \"hover_time\", \"hover_percent\"],\n",
    ")"
   ]
  },
  {
   "attachments": {},
   "cell_type": "markdown",
   "metadata": {},
   "source": [
    "Each music, video quality and fullscreen have only 2 possible outcomes :\n",
    "- turned on for the entire session\n",
    "- turned off for the entire session\n",
    "\n",
    "Players seem to turn the music on way more often than other settings."
   ]
  },
  {
   "cell_type": "code",
   "execution_count": 30,
   "metadata": {},
   "outputs": [],
   "source": [
    "game_settings = players_profile.loc[:, players_profile.columns.str.endswith(\"_on\")]\n",
    "on_rate = game_settings.sum() / game_settings.shape[0]"
   ]
  },
  {
   "cell_type": "code",
   "execution_count": 31,
   "metadata": {},
   "outputs": [
    {
     "data": {
      "image/png": "[encoded data removed]",
      "text/plain": [
       "<Figure size 640x480 with 2 Axes>"
      ]
     },
     "metadata": {},
     "output_type": "display_data"
    }
   ],
   "source": [
    "fig, axes = plt.subplots(1, 2)\n",
    "fig.suptitle(\"Game settings\", fontsize=16)\n",
    "\n",
    "# Values repartition\n",
    "sns.stripplot(game_settings, ax=axes[0]).set(title=\"Values repartition\")\n",
    "\n",
    "# Popularity per setting among players\n",
    "sns.barplot(x=on_rate.index, y=on_rate.values * 100, ax=axes[1]).set(\n",
    "    title=\"Popularity among players (%)\"\n",
    ")\n",
    "axes[1].bar_label(axes[1].containers[0], fmt=\"%.2f\")\n",
    "\n",
    "fig.tight_layout()\n",
    "plt.show()"
   ]
  },
  {
   "attachments": {},
   "cell_type": "markdown",
   "metadata": {},
   "source": [
    "Metrics correlations"
   ]
  },
  {
   "cell_type": "code",
   "execution_count": 32,
   "metadata": {},
   "outputs": [],
   "source": [
    "filter_cols = [\n",
    "    \"session_id\",\n",
    "    \"median_time\",\n",
    "    \"min_time\",\n",
    "    \"hover_mean_time\",\n",
    "    \"hover_percent\",\n",
    "    \"hq_on\",\n",
    "    \"fs_on\",\n",
    "    \"music_on\",\n",
    "]"
   ]
  },
  {
   "cell_type": "code",
   "execution_count": 33,
   "metadata": {},
   "outputs": [
    {
     "data": {
      "image/png": "[encoded data removed]",
      "text/plain": [
       "<Figure size 1000x1000 with 20 Axes>"
      ]
     },
     "metadata": {},
     "output_type": "display_data"
    }
   ],
   "source": [
    "sns.pairplot(players_profile.loc[:, ~players_profile.columns.isin(filter_cols)])\n",
    "plt.show()"
   ]
  },
  {
   "cell_type": "code",
   "execution_count": 35,
   "metadata": {},
   "outputs": [
    {
     "data": {
      "text/plain": [
       "<Axes: xlabel='score', ylabel='end_time'>"
      ]
     },
     "execution_count": 35,
     "metadata": {},
     "output_type": "execute_result"
    },
    {
     "data": {
      "image/png": "[encoded data removed]",
      "text/plain": [
       "<Figure size 640x480 with 1 Axes>"
      ]
     },
     "metadata": {},
     "output_type": "display_data"
    }
   ],
   "source": [
    "sns.scatterplot(\n",
    "    players_profile.groupby(\"score\")[\"end_time\"].mean().reset_index(),\n",
    "    x=\"score\",\n",
    "    y=\"end_time\",\n",
    ")"
   ]
  },
  {
   "attachments": {},
   "cell_type": "markdown",
   "metadata": {},
   "source": [
    "Histogram of each variable"
   ]
  },
  {
   "cell_type": "code",
   "execution_count": 36,
   "metadata": {},
   "outputs": [
    {
     "data": {
      "text/html": [
       "<div>\n",
       "<style scoped>\n",
       "    .dataframe tbody tr th:only-of-type {\n",
       "        vertical-align: middle;\n",
       "    }\n",
       "\n",
       "    .dataframe tbody tr th {\n",
       "        vertical-align: top;\n",
       "    }\n",
       "\n",
       "    .dataframe thead th {\n",
       "        text-align: right;\n",
       "    }\n",
       "</style>\n",
       "<table border=\"1\" class=\"dataframe\">\n",
       "  <thead>\n",
       "    <tr style=\"text-align: right;\">\n",
       "      <th></th>\n",
       "      <th>variable</th>\n",
       "      <th>value</th>\n",
       "    </tr>\n",
       "  </thead>\n",
       "  <tbody>\n",
       "    <tr>\n",
       "      <th>0</th>\n",
       "      <td>end_time</td>\n",
       "      <td>1272.679</td>\n",
       "    </tr>\n",
       "    <tr>\n",
       "      <th>1</th>\n",
       "      <td>end_time</td>\n",
       "      <td>3815.334</td>\n",
       "    </tr>\n",
       "    <tr>\n",
       "      <th>2</th>\n",
       "      <td>end_time</td>\n",
       "      <td>1189.05</td>\n",
       "    </tr>\n",
       "    <tr>\n",
       "      <th>3</th>\n",
       "      <td>end_time</td>\n",
       "      <td>1621.368</td>\n",
       "    </tr>\n",
       "    <tr>\n",
       "      <th>4</th>\n",
       "      <td>end_time</td>\n",
       "      <td>1174.676</td>\n",
       "    </tr>\n",
       "    <tr>\n",
       "      <th>...</th>\n",
       "      <td>...</td>\n",
       "      <td>...</td>\n",
       "    </tr>\n",
       "    <tr>\n",
       "      <th>5311</th>\n",
       "      <td>top_event</td>\n",
       "      <td>navigate_click</td>\n",
       "    </tr>\n",
       "    <tr>\n",
       "      <th>5312</th>\n",
       "      <td>top_event</td>\n",
       "      <td>navigate_click</td>\n",
       "    </tr>\n",
       "    <tr>\n",
       "      <th>5313</th>\n",
       "      <td>top_event</td>\n",
       "      <td>navigate_click</td>\n",
       "    </tr>\n",
       "    <tr>\n",
       "      <th>5314</th>\n",
       "      <td>top_event</td>\n",
       "      <td>navigate_click</td>\n",
       "    </tr>\n",
       "    <tr>\n",
       "      <th>5315</th>\n",
       "      <td>top_event</td>\n",
       "      <td>navigate_click</td>\n",
       "    </tr>\n",
       "  </tbody>\n",
       "</table>\n",
       "<p>5316 rows × 2 columns</p>\n",
       "</div>"
      ],
      "text/plain": [
       "       variable           value\n",
       "0      end_time        1272.679\n",
       "1      end_time        3815.334\n",
       "2      end_time         1189.05\n",
       "3      end_time        1621.368\n",
       "4      end_time        1174.676\n",
       "...         ...             ...\n",
       "5311  top_event  navigate_click\n",
       "5312  top_event  navigate_click\n",
       "5313  top_event  navigate_click\n",
       "5314  top_event  navigate_click\n",
       "5315  top_event  navigate_click\n",
       "\n",
       "[5316 rows x 2 columns]"
      ]
     },
     "execution_count": 36,
     "metadata": {},
     "output_type": "execute_result"
    }
   ],
   "source": [
    "# g = sns.FacetGrid(\n",
    "#     ,\n",
    "#     col=\"value\",\n",
    "# )\n",
    "# g.map_dataframe(sns.kdeplot, x=\"var\", fill=True)\n",
    "# # g.fig.subplots_adjust(top=0.95)\n",
    "# g.fig.suptitle(\"title\")\n",
    "players_profile.loc[\n",
    "    :, players_profile.columns.difference(filter_cols + [\"correct_rate\"])\n",
    "].melt()"
   ]
  },
  {
   "attachments": {},
   "cell_type": "markdown",
   "metadata": {},
   "source": [
    "Players number of interactions compared to their obtained grade."
   ]
  },
  {
   "cell_type": "code",
   "execution_count": 37,
   "metadata": {},
   "outputs": [
    {
     "ename": "ValueError",
     "evalue": "Could not interpret value `correct_rate` for parameter `y`",
     "output_type": "error",
     "traceback": [
      "\u001b[0;31m---------------------------------------------------------------------------\u001b[0m",
      "\u001b[0;31mValueError\u001b[0m                                Traceback (most recent call last)",
      "Cell \u001b[0;32mIn[37], line 1\u001b[0m\n\u001b[0;32m----> 1\u001b[0m sns\u001b[39m.\u001b[39;49mkdeplot(players_profile, x\u001b[39m=\u001b[39;49m\u001b[39m\"\u001b[39;49m\u001b[39mnb_events\u001b[39;49m\u001b[39m\"\u001b[39;49m, y\u001b[39m=\u001b[39;49m\u001b[39m\"\u001b[39;49m\u001b[39mcorrect_rate\u001b[39;49m\u001b[39m\"\u001b[39;49m, fill\u001b[39m=\u001b[39;49m\u001b[39mTrue\u001b[39;49;00m)\n\u001b[1;32m      2\u001b[0m plt\u001b[39m.\u001b[39mshow()\n",
      "File \u001b[0;32m~/.cache/pypoetry/virtualenvs/gameplay-student-perf-prediction-m16V6Vam-py3.11/lib/python3.11/site-packages/seaborn/distributions.py:1685\u001b[0m, in \u001b[0;36mkdeplot\u001b[0;34m(data, x, y, hue, weights, palette, hue_order, hue_norm, color, fill, multiple, common_norm, common_grid, cumulative, bw_method, bw_adjust, warn_singular, log_scale, levels, thresh, gridsize, cut, clip, legend, cbar, cbar_ax, cbar_kws, ax, **kwargs)\u001b[0m\n\u001b[1;32m   1681\u001b[0m levels \u001b[39m=\u001b[39m kwargs\u001b[39m.\u001b[39mpop(\u001b[39m\"\u001b[39m\u001b[39mn_levels\u001b[39m\u001b[39m\"\u001b[39m, levels)\n\u001b[1;32m   1683\u001b[0m \u001b[39m# - - - - - - - - - - - - - - - - - - - - - - - - - - - - - - - - - - - - #\u001b[39;00m\n\u001b[0;32m-> 1685\u001b[0m p \u001b[39m=\u001b[39m _DistributionPlotter(\n\u001b[1;32m   1686\u001b[0m     data\u001b[39m=\u001b[39;49mdata,\n\u001b[1;32m   1687\u001b[0m     variables\u001b[39m=\u001b[39;49m_DistributionPlotter\u001b[39m.\u001b[39;49mget_semantics(\u001b[39mlocals\u001b[39;49m()),\n\u001b[1;32m   1688\u001b[0m )\n\u001b[1;32m   1690\u001b[0m p\u001b[39m.\u001b[39mmap_hue(palette\u001b[39m=\u001b[39mpalette, order\u001b[39m=\u001b[39mhue_order, norm\u001b[39m=\u001b[39mhue_norm)\n\u001b[1;32m   1692\u001b[0m \u001b[39mif\u001b[39;00m ax \u001b[39mis\u001b[39;00m \u001b[39mNone\u001b[39;00m:\n",
      "File \u001b[0;32m~/.cache/pypoetry/virtualenvs/gameplay-student-perf-prediction-m16V6Vam-py3.11/lib/python3.11/site-packages/seaborn/distributions.py:113\u001b[0m, in \u001b[0;36m_DistributionPlotter.__init__\u001b[0;34m(self, data, variables)\u001b[0m\n\u001b[1;32m    107\u001b[0m \u001b[39mdef\u001b[39;00m \u001b[39m__init__\u001b[39m(\n\u001b[1;32m    108\u001b[0m     \u001b[39mself\u001b[39m,\n\u001b[1;32m    109\u001b[0m     data\u001b[39m=\u001b[39m\u001b[39mNone\u001b[39;00m,\n\u001b[1;32m    110\u001b[0m     variables\u001b[39m=\u001b[39m{},\n\u001b[1;32m    111\u001b[0m ):\n\u001b[0;32m--> 113\u001b[0m     \u001b[39msuper\u001b[39;49m()\u001b[39m.\u001b[39;49m\u001b[39m__init__\u001b[39;49m(data\u001b[39m=\u001b[39;49mdata, variables\u001b[39m=\u001b[39;49mvariables)\n",
      "File \u001b[0;32m~/.cache/pypoetry/virtualenvs/gameplay-student-perf-prediction-m16V6Vam-py3.11/lib/python3.11/site-packages/seaborn/_oldcore.py:640\u001b[0m, in \u001b[0;36mVectorPlotter.__init__\u001b[0;34m(self, data, variables)\u001b[0m\n\u001b[1;32m    635\u001b[0m \u001b[39m# var_ordered is relevant only for categorical axis variables, and may\u001b[39;00m\n\u001b[1;32m    636\u001b[0m \u001b[39m# be better handled by an internal axis information object that tracks\u001b[39;00m\n\u001b[1;32m    637\u001b[0m \u001b[39m# such information and is set up by the scale_* methods. The analogous\u001b[39;00m\n\u001b[1;32m    638\u001b[0m \u001b[39m# information for numeric axes would be information about log scales.\u001b[39;00m\n\u001b[1;32m    639\u001b[0m \u001b[39mself\u001b[39m\u001b[39m.\u001b[39m_var_ordered \u001b[39m=\u001b[39m {\u001b[39m\"\u001b[39m\u001b[39mx\u001b[39m\u001b[39m\"\u001b[39m: \u001b[39mFalse\u001b[39;00m, \u001b[39m\"\u001b[39m\u001b[39my\u001b[39m\u001b[39m\"\u001b[39m: \u001b[39mFalse\u001b[39;00m}  \u001b[39m# alt., used DefaultDict\u001b[39;00m\n\u001b[0;32m--> 640\u001b[0m \u001b[39mself\u001b[39;49m\u001b[39m.\u001b[39;49massign_variables(data, variables)\n\u001b[1;32m    642\u001b[0m \u001b[39mfor\u001b[39;00m var, \u001b[39mcls\u001b[39m \u001b[39min\u001b[39;00m \u001b[39mself\u001b[39m\u001b[39m.\u001b[39m_semantic_mappings\u001b[39m.\u001b[39mitems():\n\u001b[1;32m    643\u001b[0m \n\u001b[1;32m    644\u001b[0m     \u001b[39m# Create the mapping function\u001b[39;00m\n\u001b[1;32m    645\u001b[0m     map_func \u001b[39m=\u001b[39m partial(\u001b[39mcls\u001b[39m\u001b[39m.\u001b[39mmap, plotter\u001b[39m=\u001b[39m\u001b[39mself\u001b[39m)\n",
      "File \u001b[0;32m~/.cache/pypoetry/virtualenvs/gameplay-student-perf-prediction-m16V6Vam-py3.11/lib/python3.11/site-packages/seaborn/_oldcore.py:701\u001b[0m, in \u001b[0;36mVectorPlotter.assign_variables\u001b[0;34m(self, data, variables)\u001b[0m\n\u001b[1;32m    699\u001b[0m \u001b[39melse\u001b[39;00m:\n\u001b[1;32m    700\u001b[0m     \u001b[39mself\u001b[39m\u001b[39m.\u001b[39minput_format \u001b[39m=\u001b[39m \u001b[39m\"\u001b[39m\u001b[39mlong\u001b[39m\u001b[39m\"\u001b[39m\n\u001b[0;32m--> 701\u001b[0m     plot_data, variables \u001b[39m=\u001b[39m \u001b[39mself\u001b[39;49m\u001b[39m.\u001b[39;49m_assign_variables_longform(\n\u001b[1;32m    702\u001b[0m         data, \u001b[39m*\u001b[39;49m\u001b[39m*\u001b[39;49mvariables,\n\u001b[1;32m    703\u001b[0m     )\n\u001b[1;32m    705\u001b[0m \u001b[39mself\u001b[39m\u001b[39m.\u001b[39mplot_data \u001b[39m=\u001b[39m plot_data\n\u001b[1;32m    706\u001b[0m \u001b[39mself\u001b[39m\u001b[39m.\u001b[39mvariables \u001b[39m=\u001b[39m variables\n",
      "File \u001b[0;32m~/.cache/pypoetry/virtualenvs/gameplay-student-perf-prediction-m16V6Vam-py3.11/lib/python3.11/site-packages/seaborn/_oldcore.py:938\u001b[0m, in \u001b[0;36mVectorPlotter._assign_variables_longform\u001b[0;34m(self, data, **kwargs)\u001b[0m\n\u001b[1;32m    933\u001b[0m \u001b[39melif\u001b[39;00m \u001b[39misinstance\u001b[39m(val, (\u001b[39mstr\u001b[39m, \u001b[39mbytes\u001b[39m)):\n\u001b[1;32m    934\u001b[0m \n\u001b[1;32m    935\u001b[0m     \u001b[39m# This looks like a column name but we don't know what it means!\u001b[39;00m\n\u001b[1;32m    937\u001b[0m     err \u001b[39m=\u001b[39m \u001b[39mf\u001b[39m\u001b[39m\"\u001b[39m\u001b[39mCould not interpret value `\u001b[39m\u001b[39m{\u001b[39;00mval\u001b[39m}\u001b[39;00m\u001b[39m` for parameter `\u001b[39m\u001b[39m{\u001b[39;00mkey\u001b[39m}\u001b[39;00m\u001b[39m`\u001b[39m\u001b[39m\"\u001b[39m\n\u001b[0;32m--> 938\u001b[0m     \u001b[39mraise\u001b[39;00m \u001b[39mValueError\u001b[39;00m(err)\n\u001b[1;32m    940\u001b[0m \u001b[39melse\u001b[39;00m:\n\u001b[1;32m    941\u001b[0m \n\u001b[1;32m    942\u001b[0m     \u001b[39m# Otherwise, assume the value is itself data\u001b[39;00m\n\u001b[1;32m    943\u001b[0m \n\u001b[1;32m    944\u001b[0m     \u001b[39m# Raise when data object is present and a vector can't matched\u001b[39;00m\n\u001b[1;32m    945\u001b[0m     \u001b[39mif\u001b[39;00m \u001b[39misinstance\u001b[39m(data, pd\u001b[39m.\u001b[39mDataFrame) \u001b[39mand\u001b[39;00m \u001b[39mnot\u001b[39;00m \u001b[39misinstance\u001b[39m(val, pd\u001b[39m.\u001b[39mSeries):\n",
      "\u001b[0;31mValueError\u001b[0m: Could not interpret value `correct_rate` for parameter `y`"
     ]
    }
   ],
   "source": [
    "sns.kdeplot(players_profile, x=\"nb_events\", y=\"correct_rate\", fill=True)\n",
    "plt.show()"
   ]
  }
 ],
 "metadata": {
  "kernelspec": {
   "display_name": "gameplay-student-perf-prediction-m16V6Vam-py3.11",
   "language": "python",
   "name": "python3"
  },
  "language_info": {
   "codemirror_mode": {
    "name": "ipython",
    "version": 3
   },
   "file_extension": ".py",
   "mimetype": "text/x-python",
   "name": "python",
   "nbconvert_exporter": "python",
   "pygments_lexer": "ipython3",
   "version": "3.11.0"
  },
  "orig_nbformat": 4,
  "vscode": {
   "interpreter": {
    "hash": "ec3ea069bbc87f60abe073400370d3e4be27a779608e4bf713edcd74074cc21f"
   }
  }
 },
 "nbformat": 4,
 "nbformat_minor": 2
}
